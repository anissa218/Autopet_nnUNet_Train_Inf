{
 "cells": [
  {
   "cell_type": "code",
   "execution_count": 1,
   "id": "e4f661ce",
   "metadata": {},
   "outputs": [],
   "source": [
    "import pandas\n",
    "import os\n",
    "import nibabel as nib\n",
    "import matplotlib.pyplot as plt\n",
    "import torch\n",
    "import SimpleITK as sitk\n",
    "import json\n",
    "import pandas as pd\n",
    "import numpy as np"
   ]
  },
  {
   "cell_type": "markdown",
   "id": "7f07901d",
   "metadata": {},
   "source": [
    "## Analyse summary.json files from CV\n"
   ]
  },
  {
   "cell_type": "code",
   "execution_count": 15,
   "id": "4fc3957e",
   "metadata": {},
   "outputs": [],
   "source": [
    "path_to_results219=\"nnUNet_results/Dataset219_PETCT/nnUNetTrainer__nnUNetPlans__3d_fullres/crossval_results_folds_0_1_2_3_4/postprocessed/summary.json\"\n",
    "\n",
    "path_to_results218=\"nnUNet_results/Dataset218_PETCT/nnUNetTrainer__nnUNetPlans__3d_fullres/crossval_results_folds_0_1_2_3_4/postprocessed/summary.json\"\n",
    "\n",
    "path_to_results_a_219 = \"nnUNet_results/Dataset219_PETCT/nnUNetTrainer_1500epochs_NoMirroring__nnUNetPlans__3d_fullres/crossval_results_folds_0_1_2_3_4/postprocessed/summary.json\"\n",
    "\n",
    "path_to_results_f_219 = \"nnUNet_results/Dataset219_PETCT/nnUNetTrainer_probabilisticOversampling_033__nnUNetPlans__3d_fullres/crossval_results_folds_0_1_2/postprocessed/summary.json\"\n",
    "\n",
    "path_to_results_e_219 = \"nnUNet_results/Dataset219_PETCT/nnUNetTrainer_1500epochs_1e2lr__nnUNetPlans__3d_fullres/crossval_results_folds_0_1_2/postprocessed/summary.json\"\n",
    "\n",
    "path_to_results_c0_219 = \"nnUNet_results/Dataset219_PETCT/nnUNetTrainer_1500epochs_1e2lr__nnUNetPlans__3d_fullres_maxnum_512_patch_192/fold_0/validation/summary.json\"\n",
    "\n",
    "path_to_results_c2_219 = \"nnUNet_results/Dataset219_PETCT/nnUNetTrainer_1500epochs_1e2lr__nnUNetPlans__3d_fullres_maxnum_512_patch_192/fold_2/validation/summary.json\"\n",
    "\n",
    "path_to_results_c1_219 = \"nnUNet_results/Dataset219_PETCT/nnUNetTrainer_1500epochs_1e2lr__nnUNetPlans__3d_fullres_maxnum_512_patch_192/fold_1/validation/summary.json\"\n",
    "\n",
    "path_to_results_g_219 = \"nnUNet_results/Dataset219_PETCT/nnUNetTrainer_probabilisticOversampling_010__nnUNetPlans__3d_fullres/fold_0/validation/summary.json\"\n"
   ]
  },
  {
   "cell_type": "code",
   "execution_count": 16,
   "id": "7558f23d",
   "metadata": {},
   "outputs": [],
   "source": [
    "def make_results_df(path_to_summary_json): \n",
    "    with open(path_to_summary_json, \"r\") as read_file:\n",
    "            dict_results = json.load(read_file)\n",
    "\n",
    "    metrics_per_case = dict_results['metric_per_case']\n",
    "    results = []\n",
    "    for case in metrics_per_case:\n",
    "        metrics = case['metrics']['1']\n",
    "        row = {\n",
    "            'DICE': metrics['Dice'],\n",
    "            'FN': metrics['FN'],\n",
    "            'FP': metrics['FP'],\n",
    "            'IoU': metrics['IoU'],\n",
    "            'TN': metrics['TN'],\n",
    "            'TP': metrics['TP'],\n",
    "            'n_pred': metrics['n_pred'],\n",
    "            'n_ref': metrics['n_ref'],\n",
    "            'prediction_file': case['prediction_file'],\n",
    "            'reference_file': case['reference_file']\n",
    "            }\n",
    "        results.append(row)\n",
    "\n",
    "    df = pd.DataFrame(results)\n",
    "    \n",
    "    return df"
   ]
  },
  {
   "cell_type": "code",
   "execution_count": 17,
   "id": "f94d89e1",
   "metadata": {},
   "outputs": [],
   "source": [
    "df = make_results_df(path_to_results219)\n",
    "df2 = make_results_df(path_to_results218)\n",
    "df_a = make_results_df(path_to_results_a_219)\n",
    "df_f = make_results_df(path_to_results_f_219)\n",
    "df_e = make_results_df(path_to_results_e_219)\n",
    "df_c0 = make_results_df(path_to_results_c0_219)\n",
    "df_c1 = make_results_df(path_to_results_c1_219)\n",
    "df_c2= make_results_df(path_to_results_c2_219)\n",
    "df_g = make_results_df(path_to_results_g_219)"
   ]
  },
  {
   "cell_type": "code",
   "execution_count": 18,
   "id": "028aef86",
   "metadata": {},
   "outputs": [
    {
     "data": {
      "text/html": [
       "<div>\n",
       "<style scoped>\n",
       "    .dataframe tbody tr th:only-of-type {\n",
       "        vertical-align: middle;\n",
       "    }\n",
       "\n",
       "    .dataframe tbody tr th {\n",
       "        vertical-align: top;\n",
       "    }\n",
       "\n",
       "    .dataframe thead th {\n",
       "        text-align: right;\n",
       "    }\n",
       "</style>\n",
       "<table border=\"1\" class=\"dataframe\">\n",
       "  <thead>\n",
       "    <tr style=\"text-align: right;\">\n",
       "      <th></th>\n",
       "      <th>DICE</th>\n",
       "      <th>FN</th>\n",
       "      <th>FP</th>\n",
       "      <th>IoU</th>\n",
       "      <th>TN</th>\n",
       "      <th>TP</th>\n",
       "      <th>n_pred</th>\n",
       "      <th>n_ref</th>\n",
       "      <th>prediction_file</th>\n",
       "      <th>reference_file</th>\n",
       "    </tr>\n",
       "  </thead>\n",
       "  <tbody>\n",
       "    <tr>\n",
       "      <th>0</th>\n",
       "      <td>0.890217</td>\n",
       "      <td>107</td>\n",
       "      <td>187</td>\n",
       "      <td>0.802153</td>\n",
       "      <td>52158514</td>\n",
       "      <td>1192</td>\n",
       "      <td>1379</td>\n",
       "      <td>1299</td>\n",
       "      <td>/well/papiez/users/hri611/python/nnUNet_result...</td>\n",
       "      <td>/well/papiez/users/hri611/python/nnUNet_prepro...</td>\n",
       "    </tr>\n",
       "    <tr>\n",
       "      <th>1</th>\n",
       "      <td>0.516129</td>\n",
       "      <td>7609</td>\n",
       "      <td>236</td>\n",
       "      <td>0.347826</td>\n",
       "      <td>52147971</td>\n",
       "      <td>4184</td>\n",
       "      <td>4420</td>\n",
       "      <td>11793</td>\n",
       "      <td>/well/papiez/users/hri611/python/nnUNet_result...</td>\n",
       "      <td>/well/papiez/users/hri611/python/nnUNet_prepro...</td>\n",
       "    </tr>\n",
       "    <tr>\n",
       "      <th>2</th>\n",
       "      <td>0.833812</td>\n",
       "      <td>1242</td>\n",
       "      <td>2057</td>\n",
       "      <td>0.714989</td>\n",
       "      <td>45428425</td>\n",
       "      <td>8276</td>\n",
       "      <td>10333</td>\n",
       "      <td>9518</td>\n",
       "      <td>/well/papiez/users/hri611/python/nnUNet_result...</td>\n",
       "      <td>/well/papiez/users/hri611/python/nnUNet_prepro...</td>\n",
       "    </tr>\n",
       "    <tr>\n",
       "      <th>3</th>\n",
       "      <td>0.844891</td>\n",
       "      <td>0</td>\n",
       "      <td>170</td>\n",
       "      <td>0.731438</td>\n",
       "      <td>40639367</td>\n",
       "      <td>463</td>\n",
       "      <td>633</td>\n",
       "      <td>463</td>\n",
       "      <td>/well/papiez/users/hri611/python/nnUNet_result...</td>\n",
       "      <td>/well/papiez/users/hri611/python/nnUNet_prepro...</td>\n",
       "    </tr>\n",
       "    <tr>\n",
       "      <th>4</th>\n",
       "      <td>0.825182</td>\n",
       "      <td>1283</td>\n",
       "      <td>5648</td>\n",
       "      <td>0.702392</td>\n",
       "      <td>52136711</td>\n",
       "      <td>16358</td>\n",
       "      <td>22006</td>\n",
       "      <td>17641</td>\n",
       "      <td>/well/papiez/users/hri611/python/nnUNet_result...</td>\n",
       "      <td>/well/papiez/users/hri611/python/nnUNet_prepro...</td>\n",
       "    </tr>\n",
       "    <tr>\n",
       "      <th>...</th>\n",
       "      <td>...</td>\n",
       "      <td>...</td>\n",
       "      <td>...</td>\n",
       "      <td>...</td>\n",
       "      <td>...</td>\n",
       "      <td>...</td>\n",
       "      <td>...</td>\n",
       "      <td>...</td>\n",
       "      <td>...</td>\n",
       "      <td>...</td>\n",
       "    </tr>\n",
       "    <tr>\n",
       "      <th>179</th>\n",
       "      <td>0.785067</td>\n",
       "      <td>718</td>\n",
       "      <td>2103</td>\n",
       "      <td>0.646181</td>\n",
       "      <td>52312027</td>\n",
       "      <td>5152</td>\n",
       "      <td>7255</td>\n",
       "      <td>5870</td>\n",
       "      <td>/well/papiez/users/hri611/python/nnUNet_result...</td>\n",
       "      <td>/well/papiez/users/hri611/python/nnUNet_prepro...</td>\n",
       "    </tr>\n",
       "    <tr>\n",
       "      <th>180</th>\n",
       "      <td>NaN</td>\n",
       "      <td>0</td>\n",
       "      <td>0</td>\n",
       "      <td>NaN</td>\n",
       "      <td>50880000</td>\n",
       "      <td>0</td>\n",
       "      <td>0</td>\n",
       "      <td>0</td>\n",
       "      <td>/well/papiez/users/hri611/python/nnUNet_result...</td>\n",
       "      <td>/well/papiez/users/hri611/python/nnUNet_prepro...</td>\n",
       "    </tr>\n",
       "    <tr>\n",
       "      <th>181</th>\n",
       "      <td>0.629134</td>\n",
       "      <td>2841</td>\n",
       "      <td>400</td>\n",
       "      <td>0.458932</td>\n",
       "      <td>52154010</td>\n",
       "      <td>2749</td>\n",
       "      <td>3149</td>\n",
       "      <td>5590</td>\n",
       "      <td>/well/papiez/users/hri611/python/nnUNet_result...</td>\n",
       "      <td>/well/papiez/users/hri611/python/nnUNet_prepro...</td>\n",
       "    </tr>\n",
       "    <tr>\n",
       "      <th>182</th>\n",
       "      <td>NaN</td>\n",
       "      <td>0</td>\n",
       "      <td>0</td>\n",
       "      <td>NaN</td>\n",
       "      <td>92320000</td>\n",
       "      <td>0</td>\n",
       "      <td>0</td>\n",
       "      <td>0</td>\n",
       "      <td>/well/papiez/users/hri611/python/nnUNet_result...</td>\n",
       "      <td>/well/papiez/users/hri611/python/nnUNet_prepro...</td>\n",
       "    </tr>\n",
       "    <tr>\n",
       "      <th>183</th>\n",
       "      <td>0.765029</td>\n",
       "      <td>4904</td>\n",
       "      <td>5024</td>\n",
       "      <td>0.619471</td>\n",
       "      <td>45413910</td>\n",
       "      <td>16162</td>\n",
       "      <td>21186</td>\n",
       "      <td>21066</td>\n",
       "      <td>/well/papiez/users/hri611/python/nnUNet_result...</td>\n",
       "      <td>/well/papiez/users/hri611/python/nnUNet_prepro...</td>\n",
       "    </tr>\n",
       "  </tbody>\n",
       "</table>\n",
       "<p>184 rows × 10 columns</p>\n",
       "</div>"
      ],
      "text/plain": [
       "         DICE    FN    FP       IoU        TN     TP  n_pred  n_ref  \\\n",
       "0    0.890217   107   187  0.802153  52158514   1192    1379   1299   \n",
       "1    0.516129  7609   236  0.347826  52147971   4184    4420  11793   \n",
       "2    0.833812  1242  2057  0.714989  45428425   8276   10333   9518   \n",
       "3    0.844891     0   170  0.731438  40639367    463     633    463   \n",
       "4    0.825182  1283  5648  0.702392  52136711  16358   22006  17641   \n",
       "..        ...   ...   ...       ...       ...    ...     ...    ...   \n",
       "179  0.785067   718  2103  0.646181  52312027   5152    7255   5870   \n",
       "180       NaN     0     0       NaN  50880000      0       0      0   \n",
       "181  0.629134  2841   400  0.458932  52154010   2749    3149   5590   \n",
       "182       NaN     0     0       NaN  92320000      0       0      0   \n",
       "183  0.765029  4904  5024  0.619471  45413910  16162   21186  21066   \n",
       "\n",
       "                                       prediction_file  \\\n",
       "0    /well/papiez/users/hri611/python/nnUNet_result...   \n",
       "1    /well/papiez/users/hri611/python/nnUNet_result...   \n",
       "2    /well/papiez/users/hri611/python/nnUNet_result...   \n",
       "3    /well/papiez/users/hri611/python/nnUNet_result...   \n",
       "4    /well/papiez/users/hri611/python/nnUNet_result...   \n",
       "..                                                 ...   \n",
       "179  /well/papiez/users/hri611/python/nnUNet_result...   \n",
       "180  /well/papiez/users/hri611/python/nnUNet_result...   \n",
       "181  /well/papiez/users/hri611/python/nnUNet_result...   \n",
       "182  /well/papiez/users/hri611/python/nnUNet_result...   \n",
       "183  /well/papiez/users/hri611/python/nnUNet_result...   \n",
       "\n",
       "                                        reference_file  \n",
       "0    /well/papiez/users/hri611/python/nnUNet_prepro...  \n",
       "1    /well/papiez/users/hri611/python/nnUNet_prepro...  \n",
       "2    /well/papiez/users/hri611/python/nnUNet_prepro...  \n",
       "3    /well/papiez/users/hri611/python/nnUNet_prepro...  \n",
       "4    /well/papiez/users/hri611/python/nnUNet_prepro...  \n",
       "..                                                 ...  \n",
       "179  /well/papiez/users/hri611/python/nnUNet_prepro...  \n",
       "180  /well/papiez/users/hri611/python/nnUNet_prepro...  \n",
       "181  /well/papiez/users/hri611/python/nnUNet_prepro...  \n",
       "182  /well/papiez/users/hri611/python/nnUNet_prepro...  \n",
       "183  /well/papiez/users/hri611/python/nnUNet_prepro...  \n",
       "\n",
       "[184 rows x 10 columns]"
      ]
     },
     "execution_count": 18,
     "metadata": {},
     "output_type": "execute_result"
    }
   ],
   "source": [
    "df_g"
   ]
  },
  {
   "cell_type": "code",
   "execution_count": 6,
   "id": "3305bec5",
   "metadata": {},
   "outputs": [
    {
     "data": {
      "text/plain": [
       "0.3525527878093577"
      ]
     },
     "execution_count": 6,
     "metadata": {},
     "output_type": "execute_result"
    }
   ],
   "source": [
    "df_e['DICE'].mean()"
   ]
  },
  {
   "cell_type": "code",
   "execution_count": 19,
   "id": "56c8733c",
   "metadata": {},
   "outputs": [
    {
     "data": {
      "text/plain": [
       "0.7224434092355995"
      ]
     },
     "execution_count": 19,
     "metadata": {},
     "output_type": "execute_result"
    }
   ],
   "source": [
    "df_g[df_g['n_ref']!=0]['DICE'].mean()"
   ]
  },
  {
   "cell_type": "code",
   "execution_count": 6,
   "id": "2d108bdb",
   "metadata": {},
   "outputs": [
    {
     "data": {
      "text/plain": [
       "0.7285005641755844"
      ]
     },
     "execution_count": 6,
     "metadata": {},
     "output_type": "execute_result"
    }
   ],
   "source": [
    "df_c2[df_c2['n_ref']!=0]['DICE'].mean()"
   ]
  },
  {
   "cell_type": "code",
   "execution_count": 7,
   "id": "1e2a411d-7148-4220-a173-fdd0bd0d2708",
   "metadata": {},
   "outputs": [
    {
     "data": {
      "text/plain": [
       "0.7423402940303833"
      ]
     },
     "execution_count": 7,
     "metadata": {},
     "output_type": "execute_result"
    }
   ],
   "source": [
    "df_c1[df_c1['n_ref']!=0]['DICE'].mean()"
   ]
  },
  {
   "cell_type": "code",
   "execution_count": 15,
   "id": "9a3b970e",
   "metadata": {},
   "outputs": [
    {
     "data": {
      "text/plain": [
       "0.7420049340206275"
      ]
     },
     "execution_count": 15,
     "metadata": {},
     "output_type": "execute_result"
    }
   ],
   "source": [
    "(0.7555093038656706 + 0.7285005641755844)/2"
   ]
  },
  {
   "cell_type": "code",
   "execution_count": 9,
   "id": "f64fded7",
   "metadata": {},
   "outputs": [
    {
     "data": {
      "text/plain": [
       "8220.30359085963"
      ]
     },
     "execution_count": 9,
     "metadata": {},
     "output_type": "execute_result"
    }
   ],
   "source": [
    "df['n_pred'].mean()"
   ]
  },
  {
   "cell_type": "code",
   "execution_count": 10,
   "id": "b7ca8f4b",
   "metadata": {},
   "outputs": [
    {
     "data": {
      "text/plain": [
       "8611.700761697497"
      ]
     },
     "execution_count": 10,
     "metadata": {},
     "output_type": "execute_result"
    }
   ],
   "source": [
    "df['n_ref'].mean()"
   ]
  },
  {
   "cell_type": "code",
   "execution_count": 12,
   "id": "8c5d11e7",
   "metadata": {},
   "outputs": [
    {
     "data": {
      "text/plain": [
       "0.7204990836768962"
      ]
     },
     "execution_count": 12,
     "metadata": {},
     "output_type": "execute_result"
    }
   ],
   "source": [
    "df[df['TP']!=0]['DICE'].mean()"
   ]
  },
  {
   "cell_type": "code",
   "execution_count": 13,
   "id": "e9f61255",
   "metadata": {},
   "outputs": [
    {
     "data": {
      "text/plain": [
       "2330.8781284004353"
      ]
     },
     "execution_count": 13,
     "metadata": {},
     "output_type": "execute_result"
    }
   ],
   "source": [
    "df['FN'].mean()"
   ]
  },
  {
   "cell_type": "code",
   "execution_count": 14,
   "id": "760261c5",
   "metadata": {},
   "outputs": [
    {
     "data": {
      "text/plain": [
       "55875934.12840044"
      ]
     },
     "execution_count": 14,
     "metadata": {},
     "output_type": "execute_result"
    }
   ],
   "source": [
    "df['TN'].mean()"
   ]
  },
  {
   "cell_type": "code",
   "execution_count": 15,
   "id": "28952294",
   "metadata": {},
   "outputs": [
    {
     "name": "stdout",
     "output_type": "stream",
     "text": [
      "105\n",
      "471\n"
     ]
    }
   ],
   "source": [
    "# analyse number of Nans - true negatives:\n",
    "print(len(df)-len(df.dropna()))\n",
    "\n",
    "# images with no cancer at all\n",
    "print(len(df[df['TP']==0]))\n",
    "# really overestimates the number of times there is cancer"
   ]
  },
  {
   "cell_type": "code",
   "execution_count": 16,
   "id": "59c33379",
   "metadata": {},
   "outputs": [
    {
     "name": "stdout",
     "output_type": "stream",
     "text": [
      "106\n"
     ]
    }
   ],
   "source": [
    "neg_preds_df = df[df['n_pred']==0]\n",
    "print(len(neg_preds_df))"
   ]
  },
  {
   "cell_type": "code",
   "execution_count": 17,
   "id": "f2083906",
   "metadata": {},
   "outputs": [
    {
     "name": "stdout",
     "output_type": "stream",
     "text": [
      "15518.35044642857\n",
      "17662.787946428572\n"
     ]
    }
   ],
   "source": [
    "print(df[df['TP']!=0]['n_pred'].mean())\n",
    "print(df[df['TP']!=0]['n_ref'].mean())\n"
   ]
  },
  {
   "cell_type": "code",
   "execution_count": 18,
   "id": "d100e6c7",
   "metadata": {},
   "outputs": [
    {
     "name": "stdout",
     "output_type": "stream",
     "text": [
      "1278.6369426751592\n",
      "2.5987261146496814\n"
     ]
    }
   ],
   "source": [
    "print(df[df['TP']==0]['n_pred'].mean())\n",
    "print(df[df['TP']==0]['n_ref'].mean())\n"
   ]
  },
  {
   "cell_type": "code",
   "execution_count": 19,
   "id": "f22c248a",
   "metadata": {},
   "outputs": [
    {
     "data": {
      "text/plain": [
       "0.39654003622512224"
      ]
     },
     "execution_count": 19,
     "metadata": {},
     "output_type": "execute_result"
    }
   ],
   "source": [
    "df[df['TN']!=0]['DICE'].mean()"
   ]
  },
  {
   "cell_type": "code",
   "execution_count": 20,
   "id": "99a852d2",
   "metadata": {},
   "outputs": [
    {
     "data": {
      "text/plain": [
       "1152.0"
      ]
     },
     "execution_count": 20,
     "metadata": {},
     "output_type": "execute_result"
    }
   ],
   "source": [
    "df[df['n_ref'] > 0]['FN'].median()"
   ]
  },
  {
   "cell_type": "code",
   "execution_count": 21,
   "id": "b1e8d1b5",
   "metadata": {},
   "outputs": [
    {
     "data": {
      "text/plain": [
       "996.0"
      ]
     },
     "execution_count": 21,
     "metadata": {},
     "output_type": "execute_result"
    }
   ],
   "source": [
    "df[df['n_ref'] > 0]['FP'].median()"
   ]
  },
  {
   "cell_type": "markdown",
   "id": "54ecc25d",
   "metadata": {},
   "source": [
    "### Make some plots"
   ]
  },
  {
   "cell_type": "code",
   "execution_count": 22,
   "id": "ecbd32a9",
   "metadata": {},
   "outputs": [
    {
     "data": {
      "image/png": "[encoded data removed]",
      "text/plain": [
       "<Figure size 600x600 with 1 Axes>"
      ]
     },
     "metadata": {},
     "output_type": "display_data"
    },
    {
     "data": {
      "image/png": "[encoded data removed]",
      "text/plain": [
       "<Figure size 1200x600 with 2 Axes>"
      ]
     },
     "metadata": {},
     "output_type": "display_data"
    }
   ],
   "source": [
    "# Create a 1x2 grid of subplots\n",
    "def plot_metric(df,metric):\n",
    "    metric_all = df[metric]\n",
    "    metric_min = metric_all.min()\n",
    "    metric_max = metric_all.max()\n",
    "    \n",
    "    plt.figure(figsize=(6, 6))\n",
    "    plt.hist(df[metric], bins=20)\n",
    "    plt.xlabel(str(metric)+' on all training images')\n",
    "    plt.xlim(metric_min, metric_max)\n",
    "\n",
    "    fig, axs = plt.subplots(1, 2, figsize=(12, 6))\n",
    "    # Plot histogram for all training images\n",
    "    axs[0].hist(df[df['n_ref'] == 0][metric], bins=20)\n",
    "    axs[0].set_xlim(metric_min, metric_max)\n",
    "    axs[0].set_xlabel(str(metric)+ ' on negative training images (Nans not shown)')\n",
    "\n",
    "\n",
    "    # Plot histogram for positive training images\n",
    "    axs[1].hist(df[df['n_ref'] > 0][metric], bins=20)\n",
    "    axs[1].set_xlim(metric_min, metric_max)\n",
    "    axs[1].set_xlabel(str(metric)+ ' on positive training images')\n",
    "\n",
    "    plt.show()\n",
    "\n",
    "plot_metric(df,'DICE')"
   ]
  },
  {
   "cell_type": "code",
   "execution_count": 23,
   "id": "f874b1a1",
   "metadata": {},
   "outputs": [
    {
     "ename": "TypeError",
     "evalue": "plot_metric() missing 1 required positional argument: 'metric'",
     "output_type": "error",
     "traceback": [
      "\u001b[0;31m---------------------------------------------------------------------------\u001b[0m",
      "\u001b[0;31mTypeError\u001b[0m                                 Traceback (most recent call last)",
      "Cell \u001b[0;32mIn[23], line 1\u001b[0m\n\u001b[0;32m----> 1\u001b[0m \u001b[43mplot_metric\u001b[49m\u001b[43m(\u001b[49m\u001b[38;5;124;43m'\u001b[39;49m\u001b[38;5;124;43mFN\u001b[39;49m\u001b[38;5;124;43m'\u001b[39;49m\u001b[43m)\u001b[49m\n",
      "\u001b[0;31mTypeError\u001b[0m: plot_metric() missing 1 required positional argument: 'metric'"
     ]
    }
   ],
   "source": [
    "plot_metric('FN')"
   ]
  },
  {
   "cell_type": "code",
   "execution_count": null,
   "id": "95cf10d0",
   "metadata": {},
   "outputs": [],
   "source": [
    "plot_metric(all_metrics_df,'challenge_FN')"
   ]
  },
  {
   "cell_type": "code",
   "execution_count": null,
   "id": "2428638e",
   "metadata": {},
   "outputs": [],
   "source": [
    "plot_metric('FP')"
   ]
  },
  {
   "cell_type": "code",
   "execution_count": 25,
   "id": "0db87225",
   "metadata": {},
   "outputs": [
    {
     "data": {
      "text/plain": [
       "Text(0.5, 0, 'FP/n_ref on positive training images')"
      ]
     },
     "execution_count": 25,
     "metadata": {},
     "output_type": "execute_result"
    },
    {
     "data": {
      "image/png": "[encoded data removed]",
      "text/plain": [
       "<Figure size 600x600 with 1 Axes>"
      ]
     },
     "metadata": {},
     "output_type": "display_data"
    }
   ],
   "source": [
    "pos_df = df[df['n_ref'] > 0]\n",
    "plt.figure(figsize=(6, 6))\n",
    "plt.hist(pos_df['FN']/pos_df['n_ref'], bins=20)\n",
    "plt.xlabel('FP/n_ref on positive training images')\n"
   ]
  },
  {
   "cell_type": "code",
   "execution_count": 26,
   "id": "b98d30f3",
   "metadata": {},
   "outputs": [
    {
     "data": {
      "text/plain": [
       "Text(0.5, 0, 'FP on false positive training images (excluding FP==0 and FP>500)')"
      ]
     },
     "execution_count": 26,
     "metadata": {},
     "output_type": "execute_result"
    },
    {
     "data": {
      "image/png": "[encoded data removed]",
      "text/plain": [
       "<Figure size 600x600 with 1 Axes>"
      ]
     },
     "metadata": {},
     "output_type": "display_data"
    }
   ],
   "source": [
    "pos_df = df[df['n_ref'] == 0]\n",
    "fp_df = pos_df[pos_df['n_pred']>0]\n",
    "small_fp = fp_df[fp_df['FP'] < 500] # just to make plotting easier, means that I am excluding 110 samples (24%)\n",
    "plt.figure(figsize=(6, 6))\n",
    "plt.hist(small_fp['FP'], bins=30)\n",
    "plt.xlabel('FP on false positive training images (excluding FP==0 and FP>500)')\n"
   ]
  },
  {
   "cell_type": "code",
   "execution_count": 27,
   "id": "76d71cf8",
   "metadata": {},
   "outputs": [
    {
     "data": {
      "text/plain": [
       "Text(0.5, 0, 'FP on positive training images')"
      ]
     },
     "execution_count": 27,
     "metadata": {},
     "output_type": "execute_result"
    },
    {
     "data": {
      "image/png": "[encoded data removed]",
      "text/plain": [
       "<Figure size 600x600 with 1 Axes>"
      ]
     },
     "metadata": {},
     "output_type": "display_data"
    }
   ],
   "source": [
    "pos_df = df[df['n_ref'] > 0]\n",
    "plt.figure(figsize=(6, 6))\n",
    "plt.hist(pos_df['FP'], bins=20)\n",
    "plt.xlabel('FP on positive training images')"
   ]
  },
  {
   "cell_type": "code",
   "execution_count": 28,
   "id": "d18cfc3e",
   "metadata": {},
   "outputs": [
    {
     "data": {
      "image/png": "[encoded data removed]",
      "text/plain": [
       "<Figure size 800x600 with 2 Axes>"
      ]
     },
     "metadata": {},
     "output_type": "display_data"
    }
   ],
   "source": [
    "import numpy as np\n",
    "import matplotlib.pyplot as plt\n",
    "\n",
    "# Filter the positive training data\n",
    "pos_df = df[df['n_ref'] > 0]\n",
    "\n",
    "# Extract the FP and FN values\n",
    "FP_values = pos_df['FP']\n",
    "FN_values = pos_df['FN']\n",
    "\n",
    "# Calculate the 95th percentile for both variables\n",
    "FP_percentile = np.percentile(FP_values, 95)\n",
    "FN_percentile = np.percentile(FN_values, 95)\n",
    "\n",
    "# Filter the data to exclude values above the 95th percentile\n",
    "FP_values_filtered = FP_values[FP_values <= FP_percentile]\n",
    "FN_values_filtered = FN_values[FN_values <= FN_percentile]\n",
    "\n",
    "# Create a 2D histogram\n",
    "plt.figure(figsize=(8, 6))  # Adjust the figsize as needed\n",
    "plt.hist2d(FP_values_filtered, FN_values_filtered, bins=50, cmap='viridis')\n",
    "plt.colorbar(label='Number of Data Points')  # Add a colorbar to indicate the frequency of data points\n",
    "\n",
    "# Set labels and title\n",
    "plt.xlabel('FP on positive training images')\n",
    "plt.ylabel('FN on positive training images')\n",
    "plt.title('2D Histogram of FP and FN on Positive Training Images (Excluding Top 5%)')\n",
    "\n",
    "# Set the same axis limits for both x and y axes\n",
    "common_range = (min(min(FP_values_filtered), min(FN_values_filtered)), max(max(FP_values_filtered), max(FN_values_filtered)))\n",
    "plt.xlim(common_range)\n",
    "plt.ylim(common_range)\n",
    "\n",
    "# Show the plot\n",
    "plt.show()"
   ]
  },
  {
   "cell_type": "code",
   "execution_count": null,
   "id": "1a3ab235",
   "metadata": {},
   "outputs": [],
   "source": [
    "pos_df = all_metrics_df[all_metrics_df['n_ref']!=0]"
   ]
  },
  {
   "cell_type": "code",
   "execution_count": null,
   "id": "4daa3857",
   "metadata": {},
   "outputs": [],
   "source": [
    "pos_df['FP-FN'] = pos_df['FP'] - pos_df['FN']\n",
    "plt.hist(pos_df['FP-FN'],bins=40)\n",
    "pos_df['FP-FN'].median()"
   ]
  },
  {
   "cell_type": "code",
   "execution_count": null,
   "id": "c3d1c967",
   "metadata": {},
   "outputs": [],
   "source": []
  },
  {
   "cell_type": "code",
   "execution_count": null,
   "id": "86de2620",
   "metadata": {},
   "outputs": [],
   "source": [
    "small_fp"
   ]
  },
  {
   "cell_type": "code",
   "execution_count": null,
   "id": "f1f5bbcc",
   "metadata": {},
   "outputs": [],
   "source": [
    "print(len(pos_df))\n",
    "print(len(fp_df))\n",
    "print(len(small_fp))\n",
    "print(len(small_fp[small_fp['FP']<50]))"
   ]
  },
  {
   "cell_type": "code",
   "execution_count": null,
   "id": "b13eed2f",
   "metadata": {},
   "outputs": [],
   "source": [
    "df[df['n_ref']==0]"
   ]
  },
  {
   "cell_type": "code",
   "execution_count": null,
   "id": "d6f1fff0",
   "metadata": {},
   "outputs": [],
   "source": [
    "plt.hist(df[df['TP']!=0]['DICE'])"
   ]
  },
  {
   "cell_type": "markdown",
   "id": "98fbf2f3",
   "metadata": {},
   "source": [
    "### Look at some scores from example images"
   ]
  },
  {
   "cell_type": "code",
   "execution_count": 32,
   "id": "8a9aaa52",
   "metadata": {},
   "outputs": [
    {
     "data": {
      "text/html": [
       "<div>\n",
       "<style scoped>\n",
       "    .dataframe tbody tr th:only-of-type {\n",
       "        vertical-align: middle;\n",
       "    }\n",
       "\n",
       "    .dataframe tbody tr th {\n",
       "        vertical-align: top;\n",
       "    }\n",
       "\n",
       "    .dataframe thead th {\n",
       "        text-align: right;\n",
       "    }\n",
       "</style>\n",
       "<table border=\"1\" class=\"dataframe\">\n",
       "  <thead>\n",
       "    <tr style=\"text-align: right;\">\n",
       "      <th></th>\n",
       "      <th>DICE</th>\n",
       "      <th>FN</th>\n",
       "      <th>FP</th>\n",
       "      <th>IoU</th>\n",
       "      <th>TN</th>\n",
       "      <th>TP</th>\n",
       "      <th>n_pred</th>\n",
       "      <th>n_ref</th>\n",
       "      <th>prediction_file</th>\n",
       "      <th>reference_file</th>\n",
       "    </tr>\n",
       "  </thead>\n",
       "  <tbody>\n",
       "    <tr>\n",
       "      <th>550</th>\n",
       "      <td>0.858078</td>\n",
       "      <td>320</td>\n",
       "      <td>27</td>\n",
       "      <td>0.751433</td>\n",
       "      <td>49758604</td>\n",
       "      <td>1049</td>\n",
       "      <td>1076</td>\n",
       "      <td>1369</td>\n",
       "      <td>/well/papiez/users/hri611/python/nnUNet_result...</td>\n",
       "      <td>/well/papiez/users/hri611/python/nnUnet_raw/Da...</td>\n",
       "    </tr>\n",
       "  </tbody>\n",
       "</table>\n",
       "</div>"
      ],
      "text/plain": [
       "         DICE   FN  FP       IoU        TN    TP  n_pred  n_ref  \\\n",
       "550  0.858078  320  27  0.751433  49758604  1049    1076   1369   \n",
       "\n",
       "                                       prediction_file  \\\n",
       "550  /well/papiez/users/hri611/python/nnUNet_result...   \n",
       "\n",
       "                                        reference_file  \n",
       "550  /well/papiez/users/hri611/python/nnUnet_raw/Da...  "
      ]
     },
     "execution_count": 32,
     "metadata": {},
     "output_type": "execute_result"
    }
   ],
   "source": [
    "filtered_df = df[df['prediction_file'].str.contains('9ffd8409b3')]\n",
    "filtered_df"
   ]
  },
  {
   "cell_type": "code",
   "execution_count": 33,
   "id": "99eae996",
   "metadata": {},
   "outputs": [
    {
     "data": {
      "text/html": [
       "<div>\n",
       "<style scoped>\n",
       "    .dataframe tbody tr th:only-of-type {\n",
       "        vertical-align: middle;\n",
       "    }\n",
       "\n",
       "    .dataframe tbody tr th {\n",
       "        vertical-align: top;\n",
       "    }\n",
       "\n",
       "    .dataframe thead th {\n",
       "        text-align: right;\n",
       "    }\n",
       "</style>\n",
       "<table border=\"1\" class=\"dataframe\">\n",
       "  <thead>\n",
       "    <tr style=\"text-align: right;\">\n",
       "      <th></th>\n",
       "      <th>DICE</th>\n",
       "      <th>FN</th>\n",
       "      <th>FP</th>\n",
       "      <th>IoU</th>\n",
       "      <th>TN</th>\n",
       "      <th>TP</th>\n",
       "      <th>n_pred</th>\n",
       "      <th>n_ref</th>\n",
       "      <th>prediction_file</th>\n",
       "      <th>reference_file</th>\n",
       "    </tr>\n",
       "  </thead>\n",
       "  <tbody>\n",
       "    <tr>\n",
       "      <th>493</th>\n",
       "      <td>0.708413</td>\n",
       "      <td>79993</td>\n",
       "      <td>685</td>\n",
       "      <td>0.548483</td>\n",
       "      <td>45261318</td>\n",
       "      <td>98004</td>\n",
       "      <td>98689</td>\n",
       "      <td>177997</td>\n",
       "      <td>/well/papiez/users/hri611/python/nnUNet_result...</td>\n",
       "      <td>/well/papiez/users/hri611/python/nnUnet_raw/Da...</td>\n",
       "    </tr>\n",
       "  </tbody>\n",
       "</table>\n",
       "</div>"
      ],
      "text/plain": [
       "         DICE     FN   FP       IoU        TN     TP  n_pred   n_ref  \\\n",
       "493  0.708413  79993  685  0.548483  45261318  98004   98689  177997   \n",
       "\n",
       "                                       prediction_file  \\\n",
       "493  /well/papiez/users/hri611/python/nnUNet_result...   \n",
       "\n",
       "                                        reference_file  \n",
       "493  /well/papiez/users/hri611/python/nnUnet_raw/Da...  "
      ]
     },
     "execution_count": 33,
     "metadata": {},
     "output_type": "execute_result"
    }
   ],
   "source": [
    "filtered_df = df[df['prediction_file'].str.contains('92c5c944a5')]\n",
    "filtered_df"
   ]
  },
  {
   "cell_type": "code",
   "execution_count": 34,
   "id": "73a0ad38",
   "metadata": {},
   "outputs": [
    {
     "data": {
      "text/html": [
       "<div>\n",
       "<style scoped>\n",
       "    .dataframe tbody tr th:only-of-type {\n",
       "        vertical-align: middle;\n",
       "    }\n",
       "\n",
       "    .dataframe tbody tr th {\n",
       "        vertical-align: top;\n",
       "    }\n",
       "\n",
       "    .dataframe thead th {\n",
       "        text-align: right;\n",
       "    }\n",
       "</style>\n",
       "<table border=\"1\" class=\"dataframe\">\n",
       "  <thead>\n",
       "    <tr style=\"text-align: right;\">\n",
       "      <th></th>\n",
       "      <th>DICE</th>\n",
       "      <th>FN</th>\n",
       "      <th>FP</th>\n",
       "      <th>IoU</th>\n",
       "      <th>TN</th>\n",
       "      <th>TP</th>\n",
       "      <th>n_pred</th>\n",
       "      <th>n_ref</th>\n",
       "      <th>prediction_file</th>\n",
       "      <th>reference_file</th>\n",
       "    </tr>\n",
       "  </thead>\n",
       "  <tbody>\n",
       "    <tr>\n",
       "      <th>513</th>\n",
       "      <td>0.0</td>\n",
       "      <td>0</td>\n",
       "      <td>170</td>\n",
       "      <td>0.0</td>\n",
       "      <td>52159830</td>\n",
       "      <td>0</td>\n",
       "      <td>170</td>\n",
       "      <td>0</td>\n",
       "      <td>/well/papiez/users/hri611/python/nnUNet_result...</td>\n",
       "      <td>/well/papiez/users/hri611/python/nnUnet_raw/Da...</td>\n",
       "    </tr>\n",
       "  </tbody>\n",
       "</table>\n",
       "</div>"
      ],
      "text/plain": [
       "     DICE  FN   FP  IoU        TN  TP  n_pred  n_ref  \\\n",
       "513   0.0   0  170  0.0  52159830   0     170      0   \n",
       "\n",
       "                                       prediction_file  \\\n",
       "513  /well/papiez/users/hri611/python/nnUNet_result...   \n",
       "\n",
       "                                        reference_file  \n",
       "513  /well/papiez/users/hri611/python/nnUnet_raw/Da...  "
      ]
     },
     "execution_count": 34,
     "metadata": {},
     "output_type": "execute_result"
    }
   ],
   "source": [
    "filtered_df = df[df['prediction_file'].str.contains('9860ffe82d')]\n",
    "filtered_df"
   ]
  },
  {
   "cell_type": "code",
   "execution_count": 35,
   "id": "bb14c977",
   "metadata": {},
   "outputs": [
    {
     "data": {
      "text/html": [
       "<div>\n",
       "<style scoped>\n",
       "    .dataframe tbody tr th:only-of-type {\n",
       "        vertical-align: middle;\n",
       "    }\n",
       "\n",
       "    .dataframe tbody tr th {\n",
       "        vertical-align: top;\n",
       "    }\n",
       "\n",
       "    .dataframe thead th {\n",
       "        text-align: right;\n",
       "    }\n",
       "</style>\n",
       "<table border=\"1\" class=\"dataframe\">\n",
       "  <thead>\n",
       "    <tr style=\"text-align: right;\">\n",
       "      <th></th>\n",
       "      <th>DICE</th>\n",
       "      <th>FN</th>\n",
       "      <th>FP</th>\n",
       "      <th>IoU</th>\n",
       "      <th>TN</th>\n",
       "      <th>TP</th>\n",
       "      <th>n_pred</th>\n",
       "      <th>n_ref</th>\n",
       "      <th>prediction_file</th>\n",
       "      <th>reference_file</th>\n",
       "    </tr>\n",
       "  </thead>\n",
       "  <tbody>\n",
       "    <tr>\n",
       "      <th>447</th>\n",
       "      <td>0.780508</td>\n",
       "      <td>21</td>\n",
       "      <td>3222</td>\n",
       "      <td>0.640027</td>\n",
       "      <td>52150991</td>\n",
       "      <td>5766</td>\n",
       "      <td>8988</td>\n",
       "      <td>5787</td>\n",
       "      <td>/well/papiez/users/hri611/python/nnUNet_result...</td>\n",
       "      <td>/well/papiez/users/hri611/python/nnUnet_raw/Da...</td>\n",
       "    </tr>\n",
       "  </tbody>\n",
       "</table>\n",
       "</div>"
      ],
      "text/plain": [
       "         DICE  FN    FP       IoU        TN    TP  n_pred  n_ref  \\\n",
       "447  0.780508  21  3222  0.640027  52150991  5766    8988   5787   \n",
       "\n",
       "                                       prediction_file  \\\n",
       "447  /well/papiez/users/hri611/python/nnUNet_result...   \n",
       "\n",
       "                                        reference_file  \n",
       "447  /well/papiez/users/hri611/python/nnUnet_raw/Da...  "
      ]
     },
     "execution_count": 35,
     "metadata": {},
     "output_type": "execute_result"
    }
   ],
   "source": [
    "filtered_df = df[df['prediction_file'].str.contains('82137245b0')]\n",
    "filtered_df"
   ]
  },
  {
   "cell_type": "code",
   "execution_count": 36,
   "id": "dc0a5dac",
   "metadata": {},
   "outputs": [
    {
     "data": {
      "text/html": [
       "<div>\n",
       "<style scoped>\n",
       "    .dataframe tbody tr th:only-of-type {\n",
       "        vertical-align: middle;\n",
       "    }\n",
       "\n",
       "    .dataframe tbody tr th {\n",
       "        vertical-align: top;\n",
       "    }\n",
       "\n",
       "    .dataframe thead th {\n",
       "        text-align: right;\n",
       "    }\n",
       "</style>\n",
       "<table border=\"1\" class=\"dataframe\">\n",
       "  <thead>\n",
       "    <tr style=\"text-align: right;\">\n",
       "      <th></th>\n",
       "      <th>DICE</th>\n",
       "      <th>FN</th>\n",
       "      <th>FP</th>\n",
       "      <th>IoU</th>\n",
       "      <th>TN</th>\n",
       "      <th>TP</th>\n",
       "      <th>n_pred</th>\n",
       "      <th>n_ref</th>\n",
       "      <th>prediction_file</th>\n",
       "      <th>reference_file</th>\n",
       "    </tr>\n",
       "  </thead>\n",
       "  <tbody>\n",
       "    <tr>\n",
       "      <th>651</th>\n",
       "      <td>0.772163</td>\n",
       "      <td>5269</td>\n",
       "      <td>3636</td>\n",
       "      <td>0.628881</td>\n",
       "      <td>52136005</td>\n",
       "      <td>15090</td>\n",
       "      <td>18726</td>\n",
       "      <td>20359</td>\n",
       "      <td>/well/papiez/users/hri611/python/nnUNet_result...</td>\n",
       "      <td>/well/papiez/users/hri611/python/nnUnet_raw/Da...</td>\n",
       "    </tr>\n",
       "  </tbody>\n",
       "</table>\n",
       "</div>"
      ],
      "text/plain": [
       "         DICE    FN    FP       IoU        TN     TP  n_pred  n_ref  \\\n",
       "651  0.772163  5269  3636  0.628881  52136005  15090   18726  20359   \n",
       "\n",
       "                                       prediction_file  \\\n",
       "651  /well/papiez/users/hri611/python/nnUNet_result...   \n",
       "\n",
       "                                        reference_file  \n",
       "651  /well/papiez/users/hri611/python/nnUnet_raw/Da...  "
      ]
     },
     "execution_count": 36,
     "metadata": {},
     "output_type": "execute_result"
    }
   ],
   "source": [
    "filtered_df = df[df['prediction_file'].str.contains('b7c1533a39')]\n",
    "filtered_df"
   ]
  },
  {
   "cell_type": "code",
   "execution_count": 37,
   "id": "0029bfa7",
   "metadata": {},
   "outputs": [
    {
     "data": {
      "text/html": [
       "<div>\n",
       "<style scoped>\n",
       "    .dataframe tbody tr th:only-of-type {\n",
       "        vertical-align: middle;\n",
       "    }\n",
       "\n",
       "    .dataframe tbody tr th {\n",
       "        vertical-align: top;\n",
       "    }\n",
       "\n",
       "    .dataframe thead th {\n",
       "        text-align: right;\n",
       "    }\n",
       "</style>\n",
       "<table border=\"1\" class=\"dataframe\">\n",
       "  <thead>\n",
       "    <tr style=\"text-align: right;\">\n",
       "      <th></th>\n",
       "      <th>DICE</th>\n",
       "      <th>FN</th>\n",
       "      <th>FP</th>\n",
       "      <th>IoU</th>\n",
       "      <th>TN</th>\n",
       "      <th>TP</th>\n",
       "      <th>n_pred</th>\n",
       "      <th>n_ref</th>\n",
       "      <th>prediction_file</th>\n",
       "      <th>reference_file</th>\n",
       "    </tr>\n",
       "  </thead>\n",
       "  <tbody>\n",
       "    <tr>\n",
       "      <th>718</th>\n",
       "      <td>0.0</td>\n",
       "      <td>0</td>\n",
       "      <td>3</td>\n",
       "      <td>0.0</td>\n",
       "      <td>91039997</td>\n",
       "      <td>0</td>\n",
       "      <td>3</td>\n",
       "      <td>0</td>\n",
       "      <td>/well/papiez/users/hri611/python/nnUNet_result...</td>\n",
       "      <td>/well/papiez/users/hri611/python/nnUnet_raw/Da...</td>\n",
       "    </tr>\n",
       "  </tbody>\n",
       "</table>\n",
       "</div>"
      ],
      "text/plain": [
       "     DICE  FN  FP  IoU        TN  TP  n_pred  n_ref  \\\n",
       "718   0.0   0   3  0.0  91039997   0       3      0   \n",
       "\n",
       "                                       prediction_file  \\\n",
       "718  /well/papiez/users/hri611/python/nnUNet_result...   \n",
       "\n",
       "                                        reference_file  \n",
       "718  /well/papiez/users/hri611/python/nnUnet_raw/Da...  "
      ]
     },
     "execution_count": 37,
     "metadata": {},
     "output_type": "execute_result"
    }
   ],
   "source": [
    "filtered_df = df[df['prediction_file'].str.contains('cb240e6f0f')]\n",
    "filtered_df"
   ]
  },
  {
   "cell_type": "code",
   "execution_count": 38,
   "id": "c2e948a0",
   "metadata": {},
   "outputs": [
    {
     "data": {
      "text/html": [
       "<div>\n",
       "<style scoped>\n",
       "    .dataframe tbody tr th:only-of-type {\n",
       "        vertical-align: middle;\n",
       "    }\n",
       "\n",
       "    .dataframe tbody tr th {\n",
       "        vertical-align: top;\n",
       "    }\n",
       "\n",
       "    .dataframe thead th {\n",
       "        text-align: right;\n",
       "    }\n",
       "</style>\n",
       "<table border=\"1\" class=\"dataframe\">\n",
       "  <thead>\n",
       "    <tr style=\"text-align: right;\">\n",
       "      <th></th>\n",
       "      <th>DICE</th>\n",
       "      <th>FN</th>\n",
       "      <th>FP</th>\n",
       "      <th>IoU</th>\n",
       "      <th>TN</th>\n",
       "      <th>TP</th>\n",
       "      <th>n_pred</th>\n",
       "      <th>n_ref</th>\n",
       "      <th>prediction_file</th>\n",
       "      <th>reference_file</th>\n",
       "    </tr>\n",
       "  </thead>\n",
       "  <tbody>\n",
       "    <tr>\n",
       "      <th>726</th>\n",
       "      <td>0.0</td>\n",
       "      <td>0</td>\n",
       "      <td>13263</td>\n",
       "      <td>0.0</td>\n",
       "      <td>50866737</td>\n",
       "      <td>0</td>\n",
       "      <td>13263</td>\n",
       "      <td>0</td>\n",
       "      <td>/well/papiez/users/hri611/python/nnUNet_result...</td>\n",
       "      <td>/well/papiez/users/hri611/python/nnUnet_raw/Da...</td>\n",
       "    </tr>\n",
       "  </tbody>\n",
       "</table>\n",
       "</div>"
      ],
      "text/plain": [
       "     DICE  FN     FP  IoU        TN  TP  n_pred  n_ref  \\\n",
       "726   0.0   0  13263  0.0  50866737   0   13263      0   \n",
       "\n",
       "                                       prediction_file  \\\n",
       "726  /well/papiez/users/hri611/python/nnUNet_result...   \n",
       "\n",
       "                                        reference_file  \n",
       "726  /well/papiez/users/hri611/python/nnUnet_raw/Da...  "
      ]
     },
     "execution_count": 38,
     "metadata": {},
     "output_type": "execute_result"
    }
   ],
   "source": [
    "filtered_df = df[df['prediction_file'].str.contains('ccd8f5ff71')]\n",
    "filtered_df\n"
   ]
  },
  {
   "cell_type": "markdown",
   "id": "dcff5f62",
   "metadata": {},
   "source": [
    "## Compare results across folds"
   ]
  },
  {
   "cell_type": "code",
   "execution_count": 40,
   "id": "91148c6a",
   "metadata": {},
   "outputs": [
    {
     "name": "stdout",
     "output_type": "stream",
     "text": [
      "0.4182794576082057\n",
      "0.38559523278387275\n",
      "0.3436575634487143\n",
      "0.4466689678769976\n",
      "0.38834994223811503\n"
     ]
    }
   ],
   "source": [
    "fold0 = 'nnUNet_results/Dataset219_PETCT/nnUNetTrainer__nnUNetPlans__3d_fullres/fold_0/validation/summary.json'\n",
    "fold1 = 'nnUNet_results/Dataset219_PETCT/nnUNetTrainer__nnUNetPlans__3d_fullres/fold_1/validation/summary.json'\n",
    "fold2 = 'nnUNet_results/Dataset219_PETCT/nnUNetTrainer__nnUNetPlans__3d_fullres/fold_2/validation/summary.json'\n",
    "fold3 = 'nnUNet_results/Dataset219_PETCT/nnUNetTrainer__nnUNetPlans__3d_fullres/fold_3/validation/summary.json'\n",
    "fold4 = 'nnUNet_results/Dataset219_PETCT/nnUNetTrainer__nnUNetPlans__3d_fullres/fold_4/validation/summary.json'\n",
    "\n",
    "list_of_folds = [fold0,fold1,fold2,fold3,fold4]\n",
    "for fold in list_of_folds:\n",
    "    df=make_results_df(fold)\n",
    "    print(df['DICE'].mean())"
   ]
  },
  {
   "cell_type": "markdown",
   "id": "6182d280",
   "metadata": {},
   "source": [
    "### Try running challenge evaluation metrics"
   ]
  },
  {
   "cell_type": "code",
   "execution_count": 2,
   "id": "5ebfe110",
   "metadata": {},
   "outputs": [],
   "source": [
    "import numpy as np\n",
    "import nibabel as nib\n",
    "import pathlib as plb\n",
    "import cc3d\n",
    "import csv\n",
    "import sys\n",
    "\n",
    "\n",
    "def nii2numpy(nii_path):\n",
    "    # input: path of NIfTI segmentation file, output: corresponding numpy array and voxel_vol in ml\n",
    "    mask_nii = nib.load(str(nii_path))\n",
    "    mask = mask_nii.get_fdata()\n",
    "    pixdim = mask_nii.header['pixdim']   \n",
    "    voxel_vol = pixdim[1]*pixdim[2]*pixdim[3]/1000\n",
    "    return mask, voxel_vol\n",
    "\n",
    "\n",
    "def con_comp(seg_array):\n",
    "    # input: a binary segmentation array output: an array with seperated (indexed) connected components of the segmentation array\n",
    "    connectivity = 18\n",
    "    conn_comp = cc3d.connected_components(seg_array, connectivity=connectivity)\n",
    "    return conn_comp\n",
    "\n",
    "\n",
    "def false_pos_pix(gt_array,pred_array):\n",
    "    # compute number of voxels of false positive connected components in prediction mask\n",
    "    pred_conn_comp = con_comp(pred_array)\n",
    "    \n",
    "    false_pos = 0\n",
    "    for idx in range(1,pred_conn_comp.max()+1):\n",
    "        comp_mask = np.isin(pred_conn_comp, idx)\n",
    "        if (comp_mask*gt_array).sum() == 0:\n",
    "            false_pos = false_pos+comp_mask.sum()\n",
    "    return false_pos\n",
    "\n",
    "\n",
    "\n",
    "def false_neg_pix(gt_array,pred_array):\n",
    "    # compute number of voxels of false negative connected components (of the ground truth mask) in the prediction mask\n",
    "    gt_conn_comp = con_comp(gt_array)\n",
    "    \n",
    "    false_neg = 0\n",
    "    for idx in range(1,gt_conn_comp.max()+1):\n",
    "        comp_mask = np.isin(gt_conn_comp, idx)\n",
    "        if (comp_mask*pred_array).sum() == 0:\n",
    "            false_neg = false_neg+comp_mask.sum()\n",
    "            \n",
    "    return false_neg\n",
    "\n",
    "\n",
    "def dice_score(mask1,mask2):\n",
    "    # compute foreground Dice coefficient\n",
    "    overlap = (mask1*mask2).sum()\n",
    "    sum = mask1.sum()+mask2.sum()\n",
    "    dice_score = 2*overlap/sum\n",
    "    return dice_score\n",
    "\n",
    "\n",
    "\n",
    "def compute_metrics(nii_gt_path, nii_pred_path):\n",
    "    # main function\n",
    "    gt_array, voxel_vol = nii2numpy(nii_gt_path)\n",
    "    pred_array, voxel_vol = nii2numpy(nii_pred_path)\n",
    "\n",
    "    false_neg_vol = false_neg_pix(gt_array, pred_array) *voxel_vol\n",
    "    false_pos_vol = false_pos_pix(gt_array, pred_array) *voxel_vol\n",
    "    dice_sc = dice_score(gt_array,pred_array)\n",
    "\n",
    "    return dice_sc, false_pos_vol, false_neg_vol\n",
    "\n",
    "def find_num_conn_comps(path):\n",
    "    array, voxel_vol = nii2numpy(path)\n",
    "    conn_comp = con_comp(array)\n",
    "    num_comps = np.max(conn_comp)\n",
    "    \n",
    "    return num_comps\n",
    "\n",
    "#test_df['challenge_DICE'], test_df['challenge_FP'],test_df['challenge_FN'] = zip(*test_df.apply(lambda row: compute_metrics(row['reference_file'], row['prediction_file']), axis=1))\n"
   ]
  },
  {
   "cell_type": "code",
   "execution_count": 22,
   "id": "98d95e51-7fe0-43c7-bf03-6ff129387adf",
   "metadata": {},
   "outputs": [
    {
     "name": "stderr",
     "output_type": "stream",
     "text": [
      "/tmp/slurm-24564382/ipykernel_122701/368949640.py:55: RuntimeWarning: invalid value encountered in scalar divide\n",
      "  dice_score = 2*overlap/sum\n"
     ]
    }
   ],
   "source": [
    "df = df_g\n",
    "df['challenge_DICE'], df['challenge_FP'],df['challenge_FN'] = zip(*df.apply(lambda row: compute_metrics(row['reference_file'], row['prediction_file']), axis=1))\n",
    "\n"
   ]
  },
  {
   "cell_type": "code",
   "execution_count": 24,
   "id": "4678df06-839e-40af-bd3d-39abf3241bd2",
   "metadata": {},
   "outputs": [
    {
     "name": "stdout",
     "output_type": "stream",
     "text": [
      "DICE\n",
      "0.7224434092355995\n",
      "FN\n",
      "7.22730672199168\n",
      "FP\n",
      "23.79108609811119\n"
     ]
    }
   ],
   "source": [
    "print('DICE')\n",
    "print(df[df['n_ref']!=0]['challenge_DICE'].mean())\n",
    "print('FN')\n",
    "print(df[df['n_ref']!=0]['challenge_FN'].mean())\n",
    "print('FP')\n",
    "print(df['challenge_FP'].mean())"
   ]
  },
  {
   "cell_type": "code",
   "execution_count": 26,
   "id": "0599d381-344e-477b-bb3e-f3acd905bc3c",
   "metadata": {},
   "outputs": [
    {
     "data": {
      "text/plain": [
       "1488.6195652173913"
      ]
     },
     "execution_count": 26,
     "metadata": {},
     "output_type": "execute_result"
    }
   ],
   "source": [
    "(df['n_pred']-df['n_ref']).mean()"
   ]
  },
  {
   "cell_type": "code",
   "execution_count": 27,
   "id": "9f40f071-247a-4fdf-9de3-e00fea1c76cb",
   "metadata": {},
   "outputs": [],
   "source": [
    "df.to_csv('g-fold0-CV-results.csv')"
   ]
  },
  {
   "cell_type": "markdown",
   "id": "cdfd8cb8",
   "metadata": {},
   "source": [
    "## Analyse challenge evaluation metrics"
   ]
  },
  {
   "cell_type": "code",
   "execution_count": 3,
   "id": "94b7a2df",
   "metadata": {},
   "outputs": [
    {
     "data": {
      "text/html": [
       "<div>\n",
       "<style scoped>\n",
       "    .dataframe tbody tr th:only-of-type {\n",
       "        vertical-align: middle;\n",
       "    }\n",
       "\n",
       "    .dataframe tbody tr th {\n",
       "        vertical-align: top;\n",
       "    }\n",
       "\n",
       "    .dataframe thead th {\n",
       "        text-align: right;\n",
       "    }\n",
       "</style>\n",
       "<table border=\"1\" class=\"dataframe\">\n",
       "  <thead>\n",
       "    <tr style=\"text-align: right;\">\n",
       "      <th></th>\n",
       "      <th>Unnamed: 0</th>\n",
       "      <th>DICE</th>\n",
       "      <th>FN</th>\n",
       "      <th>FP</th>\n",
       "      <th>IoU</th>\n",
       "      <th>TN</th>\n",
       "      <th>TP</th>\n",
       "      <th>n_pred</th>\n",
       "      <th>n_ref</th>\n",
       "      <th>prediction_file</th>\n",
       "      <th>reference_file</th>\n",
       "      <th>challenge_DICE</th>\n",
       "      <th>challenge_FP</th>\n",
       "      <th>challenge_FN</th>\n",
       "    </tr>\n",
       "  </thead>\n",
       "  <tbody>\n",
       "    <tr>\n",
       "      <th>0</th>\n",
       "      <td>0</td>\n",
       "      <td>0.895659</td>\n",
       "      <td>123</td>\n",
       "      <td>151</td>\n",
       "      <td>0.811034</td>\n",
       "      <td>52158550</td>\n",
       "      <td>1176</td>\n",
       "      <td>1327</td>\n",
       "      <td>1299</td>\n",
       "      <td>/well/papiez/users/hri611/python/nnUNet_result...</td>\n",
       "      <td>/well/papiez/users/hri611/python/nnUnet_raw/Da...</td>\n",
       "      <td>0.895659</td>\n",
       "      <td>0.833548</td>\n",
       "      <td>0.000000</td>\n",
       "    </tr>\n",
       "    <tr>\n",
       "      <th>1</th>\n",
       "      <td>1</td>\n",
       "      <td>0.715265</td>\n",
       "      <td>42</td>\n",
       "      <td>12172</td>\n",
       "      <td>0.556741</td>\n",
       "      <td>48772445</td>\n",
       "      <td>15341</td>\n",
       "      <td>27513</td>\n",
       "      <td>15383</td>\n",
       "      <td>/well/papiez/users/hri611/python/nnUNet_result...</td>\n",
       "      <td>/well/papiez/users/hri611/python/nnUnet_raw/Da...</td>\n",
       "      <td>0.715265</td>\n",
       "      <td>138.418799</td>\n",
       "      <td>0.124410</td>\n",
       "    </tr>\n",
       "    <tr>\n",
       "      <th>2</th>\n",
       "      <td>2</td>\n",
       "      <td>0.757607</td>\n",
       "      <td>5403</td>\n",
       "      <td>388</td>\n",
       "      <td>0.609797</td>\n",
       "      <td>45425159</td>\n",
       "      <td>9050</td>\n",
       "      <td>9438</td>\n",
       "      <td>14453</td>\n",
       "      <td>/well/papiez/users/hri611/python/nnUNet_result...</td>\n",
       "      <td>/well/papiez/users/hri611/python/nnUnet_raw/Da...</td>\n",
       "      <td>0.757607</td>\n",
       "      <td>0.000000</td>\n",
       "      <td>0.099528</td>\n",
       "    </tr>\n",
       "    <tr>\n",
       "      <th>3</th>\n",
       "      <td>3</td>\n",
       "      <td>0.000000</td>\n",
       "      <td>0</td>\n",
       "      <td>551</td>\n",
       "      <td>0.000000</td>\n",
       "      <td>46079449</td>\n",
       "      <td>0</td>\n",
       "      <td>551</td>\n",
       "      <td>0</td>\n",
       "      <td>/well/papiez/users/hri611/python/nnUNet_result...</td>\n",
       "      <td>/well/papiez/users/hri611/python/nnUnet_raw/Da...</td>\n",
       "      <td>0.000000</td>\n",
       "      <td>6.855003</td>\n",
       "      <td>0.000000</td>\n",
       "    </tr>\n",
       "    <tr>\n",
       "      <th>4</th>\n",
       "      <td>4</td>\n",
       "      <td>0.651873</td>\n",
       "      <td>5991</td>\n",
       "      <td>206</td>\n",
       "      <td>0.483540</td>\n",
       "      <td>52148001</td>\n",
       "      <td>5802</td>\n",
       "      <td>6008</td>\n",
       "      <td>11793</td>\n",
       "      <td>/well/papiez/users/hri611/python/nnUNet_result...</td>\n",
       "      <td>/well/papiez/users/hri611/python/nnUnet_raw/Da...</td>\n",
       "      <td>0.651873</td>\n",
       "      <td>0.037323</td>\n",
       "      <td>13.448744</td>\n",
       "    </tr>\n",
       "    <tr>\n",
       "      <th>...</th>\n",
       "      <td>...</td>\n",
       "      <td>...</td>\n",
       "      <td>...</td>\n",
       "      <td>...</td>\n",
       "      <td>...</td>\n",
       "      <td>...</td>\n",
       "      <td>...</td>\n",
       "      <td>...</td>\n",
       "      <td>...</td>\n",
       "      <td>...</td>\n",
       "      <td>...</td>\n",
       "      <td>...</td>\n",
       "      <td>...</td>\n",
       "      <td>...</td>\n",
       "    </tr>\n",
       "    <tr>\n",
       "      <th>914</th>\n",
       "      <td>914</td>\n",
       "      <td>NaN</td>\n",
       "      <td>0</td>\n",
       "      <td>0</td>\n",
       "      <td>NaN</td>\n",
       "      <td>92320000</td>\n",
       "      <td>0</td>\n",
       "      <td>0</td>\n",
       "      <td>0</td>\n",
       "      <td>/well/papiez/users/hri611/python/nnUNet_result...</td>\n",
       "      <td>/well/papiez/users/hri611/python/nnUnet_raw/Da...</td>\n",
       "      <td>NaN</td>\n",
       "      <td>0.000000</td>\n",
       "      <td>0.000000</td>\n",
       "    </tr>\n",
       "    <tr>\n",
       "      <th>915</th>\n",
       "      <td>915</td>\n",
       "      <td>0.000000</td>\n",
       "      <td>0</td>\n",
       "      <td>296</td>\n",
       "      <td>0.000000</td>\n",
       "      <td>45439704</td>\n",
       "      <td>0</td>\n",
       "      <td>296</td>\n",
       "      <td>0</td>\n",
       "      <td>/well/papiez/users/hri611/python/nnUNet_result...</td>\n",
       "      <td>/well/papiez/users/hri611/python/nnUnet_raw/Da...</td>\n",
       "      <td>0.000000</td>\n",
       "      <td>3.682542</td>\n",
       "      <td>0.000000</td>\n",
       "    </tr>\n",
       "    <tr>\n",
       "      <th>916</th>\n",
       "      <td>916</td>\n",
       "      <td>0.797881</td>\n",
       "      <td>4500</td>\n",
       "      <td>3893</td>\n",
       "      <td>0.663729</td>\n",
       "      <td>45415041</td>\n",
       "      <td>16566</td>\n",
       "      <td>20459</td>\n",
       "      <td>21066</td>\n",
       "      <td>/well/papiez/users/hri611/python/nnUNet_result...</td>\n",
       "      <td>/well/papiez/users/hri611/python/nnUnet_raw/Da...</td>\n",
       "      <td>0.797881</td>\n",
       "      <td>8.024459</td>\n",
       "      <td>12.018026</td>\n",
       "    </tr>\n",
       "    <tr>\n",
       "      <th>917</th>\n",
       "      <td>917</td>\n",
       "      <td>0.000000</td>\n",
       "      <td>0</td>\n",
       "      <td>13</td>\n",
       "      <td>0.000000</td>\n",
       "      <td>52159987</td>\n",
       "      <td>0</td>\n",
       "      <td>13</td>\n",
       "      <td>0</td>\n",
       "      <td>/well/papiez/users/hri611/python/nnUNet_result...</td>\n",
       "      <td>/well/papiez/users/hri611/python/nnUnet_raw/Da...</td>\n",
       "      <td>0.000000</td>\n",
       "      <td>0.161733</td>\n",
       "      <td>0.000000</td>\n",
       "    </tr>\n",
       "    <tr>\n",
       "      <th>918</th>\n",
       "      <td>918</td>\n",
       "      <td>0.000000</td>\n",
       "      <td>0</td>\n",
       "      <td>870</td>\n",
       "      <td>0.000000</td>\n",
       "      <td>86079130</td>\n",
       "      <td>0</td>\n",
       "      <td>870</td>\n",
       "      <td>0</td>\n",
       "      <td>/well/papiez/users/hri611/python/nnUNet_result...</td>\n",
       "      <td>/well/papiez/users/hri611/python/nnUnet_raw/Da...</td>\n",
       "      <td>0.000000</td>\n",
       "      <td>10.823688</td>\n",
       "      <td>0.000000</td>\n",
       "    </tr>\n",
       "  </tbody>\n",
       "</table>\n",
       "<p>919 rows × 14 columns</p>\n",
       "</div>"
      ],
      "text/plain": [
       "     Unnamed: 0      DICE    FN     FP       IoU        TN     TP  n_pred  \\\n",
       "0             0  0.895659   123    151  0.811034  52158550   1176    1327   \n",
       "1             1  0.715265    42  12172  0.556741  48772445  15341   27513   \n",
       "2             2  0.757607  5403    388  0.609797  45425159   9050    9438   \n",
       "3             3  0.000000     0    551  0.000000  46079449      0     551   \n",
       "4             4  0.651873  5991    206  0.483540  52148001   5802    6008   \n",
       "..          ...       ...   ...    ...       ...       ...    ...     ...   \n",
       "914         914       NaN     0      0       NaN  92320000      0       0   \n",
       "915         915  0.000000     0    296  0.000000  45439704      0     296   \n",
       "916         916  0.797881  4500   3893  0.663729  45415041  16566   20459   \n",
       "917         917  0.000000     0     13  0.000000  52159987      0      13   \n",
       "918         918  0.000000     0    870  0.000000  86079130      0     870   \n",
       "\n",
       "     n_ref                                    prediction_file  \\\n",
       "0     1299  /well/papiez/users/hri611/python/nnUNet_result...   \n",
       "1    15383  /well/papiez/users/hri611/python/nnUNet_result...   \n",
       "2    14453  /well/papiez/users/hri611/python/nnUNet_result...   \n",
       "3        0  /well/papiez/users/hri611/python/nnUNet_result...   \n",
       "4    11793  /well/papiez/users/hri611/python/nnUNet_result...   \n",
       "..     ...                                                ...   \n",
       "914      0  /well/papiez/users/hri611/python/nnUNet_result...   \n",
       "915      0  /well/papiez/users/hri611/python/nnUNet_result...   \n",
       "916  21066  /well/papiez/users/hri611/python/nnUNet_result...   \n",
       "917      0  /well/papiez/users/hri611/python/nnUNet_result...   \n",
       "918      0  /well/papiez/users/hri611/python/nnUNet_result...   \n",
       "\n",
       "                                        reference_file  challenge_DICE  \\\n",
       "0    /well/papiez/users/hri611/python/nnUnet_raw/Da...        0.895659   \n",
       "1    /well/papiez/users/hri611/python/nnUnet_raw/Da...        0.715265   \n",
       "2    /well/papiez/users/hri611/python/nnUnet_raw/Da...        0.757607   \n",
       "3    /well/papiez/users/hri611/python/nnUnet_raw/Da...        0.000000   \n",
       "4    /well/papiez/users/hri611/python/nnUnet_raw/Da...        0.651873   \n",
       "..                                                 ...             ...   \n",
       "914  /well/papiez/users/hri611/python/nnUnet_raw/Da...             NaN   \n",
       "915  /well/papiez/users/hri611/python/nnUnet_raw/Da...        0.000000   \n",
       "916  /well/papiez/users/hri611/python/nnUnet_raw/Da...        0.797881   \n",
       "917  /well/papiez/users/hri611/python/nnUnet_raw/Da...        0.000000   \n",
       "918  /well/papiez/users/hri611/python/nnUnet_raw/Da...        0.000000   \n",
       "\n",
       "     challenge_FP  challenge_FN  \n",
       "0        0.833548      0.000000  \n",
       "1      138.418799      0.124410  \n",
       "2        0.000000      0.099528  \n",
       "3        6.855003      0.000000  \n",
       "4        0.037323     13.448744  \n",
       "..            ...           ...  \n",
       "914      0.000000      0.000000  \n",
       "915      3.682542      0.000000  \n",
       "916      8.024459     12.018026  \n",
       "917      0.161733      0.000000  \n",
       "918     10.823688      0.000000  \n",
       "\n",
       "[919 rows x 14 columns]"
      ]
     },
     "execution_count": 3,
     "metadata": {},
     "output_type": "execute_result"
    }
   ],
   "source": [
    "default_metrics_df = pd.read_csv('219-default-CV-results.csv')\n",
    "a_metrics_df = pd.read_csv('a-219-CV-results.csv')\n",
    "e_metrics_df = pd.read_csv('e-219-CV-results.csv')\n",
    "#c_metrics_df = pd.read_csv('c-219-CV-results.csv') # folds 0-2\n",
    "c_metrics_df = pd.read_csv('c01234-219-CV-all-results.csv') # all folds\n",
    "\n",
    "f_metrics_df = pd.read_csv('f-219-CV-all-results.csv')\n",
    "d_metrics_df = pd.read_csv('d-219-CV-all-results.csv')\n",
    "h_metrics_df = pd.read_csv('h-219-CV-all-results.csv')\n",
    "\n",
    "metrics_df_dict = {'a':a_metrics_df,'e':e_metrics_df,'c':c_metrics_df,'f':f_metrics_df,'d':d_metrics_df,'default':default_metrics_df,'h':h_metrics_df}\n",
    "h_metrics_df"
   ]
  },
  {
   "cell_type": "code",
   "execution_count": 4,
   "id": "29580531-1129-47ba-b794-4c7165d59e13",
   "metadata": {},
   "outputs": [
    {
     "name": "stdout",
     "output_type": "stream",
     "text": [
      "DICE\n",
      "0.734255528105348\n",
      "FN\n",
      "7.429634276497918\n",
      "FP\n",
      "10.258197132571347\n",
      "\n"
     ]
    }
   ],
   "source": [
    "    df = metrics_df_dict['h']\n",
    "    print('DICE')\n",
    "    print(df[df['n_ref']!=0]['challenge_DICE'].mean())\n",
    "    print('FN')\n",
    "    print(df[df['n_ref']!=0]['challenge_FN'].mean())\n",
    "    print('FP')\n",
    "    print(df['challenge_FP'].mean())\n",
    "    print('')"
   ]
  },
  {
   "cell_type": "code",
   "execution_count": 7,
   "id": "ff177231-f98b-4dcf-8f69-eb0ced15d5a1",
   "metadata": {},
   "outputs": [
    {
     "name": "stdout",
     "output_type": "stream",
     "text": [
      "a\n",
      "DICE\n",
      "0.7320152097106903\n",
      "FN\n",
      "8.264755049694932\n",
      "FP\n",
      "8.577332620983933\n",
      "\n",
      "e\n",
      "DICE\n",
      "0.6697141760702858\n",
      "FN\n",
      "9.926445650800314\n",
      "FP\n",
      "22.254980618165888\n",
      "\n",
      "c\n",
      "DICE\n",
      "0.740910499201347\n",
      "FN\n",
      "13.959901354457745\n",
      "FP\n",
      "6.745591962866216\n",
      "\n",
      "f\n",
      "DICE\n",
      "0.71394843911523\n",
      "FN\n",
      "7.929978485530338\n",
      "FP\n",
      "13.200857336366008\n",
      "\n",
      "d\n",
      "DICE\n",
      "0.7407836706007717\n",
      "FN\n",
      "13.371455622345323\n",
      "FP\n",
      "7.474191263965938\n",
      "\n",
      "default\n",
      "DICE\n",
      "0.7157064068453426\n",
      "FN\n",
      "8.345111355842878\n",
      "FP\n",
      "11.916101936261462\n",
      "\n"
     ]
    }
   ],
   "source": [
    "for key in metrics_df_dict.keys():\n",
    "    df = metrics_df_dict[key]\n",
    "    print(key)\n",
    "    print('DICE')\n",
    "    print(df[df['n_ref']!=0]['challenge_DICE'].mean())\n",
    "    print('FN')\n",
    "    print(df[df['n_ref']!=0]['challenge_FN'].mean())\n",
    "    print('FP')\n",
    "    print(df['challenge_FP'].mean())\n",
    "    print('')"
   ]
  },
  {
   "cell_type": "code",
   "execution_count": 5,
   "id": "f57a7757-2d08-477f-a843-ff14d3dd575b",
   "metadata": {},
   "outputs": [
    {
     "ename": "KeyboardInterrupt",
     "evalue": "",
     "output_type": "error",
     "traceback": [
      "\u001b[0;31m---------------------------------------------------------------------------\u001b[0m",
      "\u001b[0;31mKeyboardInterrupt\u001b[0m                         Traceback (most recent call last)",
      "Cell \u001b[0;32mIn[5], line 2\u001b[0m\n\u001b[1;32m      1\u001b[0m \u001b[38;5;66;03m### add column for number of connected components\u001b[39;00m\n\u001b[0;32m----> 2\u001b[0m a_metrics_df[\u001b[38;5;124m'\u001b[39m\u001b[38;5;124mnum_pred_conn_comps\u001b[39m\u001b[38;5;124m'\u001b[39m] \u001b[38;5;241m=\u001b[39m [find_num_conn_comps(x) \u001b[38;5;28;01mfor\u001b[39;00m x \u001b[38;5;129;01min\u001b[39;00m a_metrics_df[\u001b[38;5;124m'\u001b[39m\u001b[38;5;124mprediction_file\u001b[39m\u001b[38;5;124m'\u001b[39m]]\n\u001b[1;32m      3\u001b[0m a_metrics_df[\u001b[38;5;124m'\u001b[39m\u001b[38;5;124mnum_gt_conn_comps\u001b[39m\u001b[38;5;124m'\u001b[39m] \u001b[38;5;241m=\u001b[39m [find_num_conn_comps(x) \u001b[38;5;28;01mfor\u001b[39;00m x \u001b[38;5;129;01min\u001b[39;00m a_metrics_df[\u001b[38;5;124m'\u001b[39m\u001b[38;5;124mreference_file\u001b[39m\u001b[38;5;124m'\u001b[39m]]\n\u001b[1;32m      4\u001b[0m a_metrics_df\u001b[38;5;241m.\u001b[39mto_csv(\u001b[38;5;124m'\u001b[39m\u001b[38;5;124ma-219-CV-results.csv\u001b[39m\u001b[38;5;124m'\u001b[39m)\n",
      "Cell \u001b[0;32mIn[5], line 2\u001b[0m, in \u001b[0;36m<listcomp>\u001b[0;34m(.0)\u001b[0m\n\u001b[1;32m      1\u001b[0m \u001b[38;5;66;03m### add column for number of connected components\u001b[39;00m\n\u001b[0;32m----> 2\u001b[0m a_metrics_df[\u001b[38;5;124m'\u001b[39m\u001b[38;5;124mnum_pred_conn_comps\u001b[39m\u001b[38;5;124m'\u001b[39m] \u001b[38;5;241m=\u001b[39m [\u001b[43mfind_num_conn_comps\u001b[49m\u001b[43m(\u001b[49m\u001b[43mx\u001b[49m\u001b[43m)\u001b[49m \u001b[38;5;28;01mfor\u001b[39;00m x \u001b[38;5;129;01min\u001b[39;00m a_metrics_df[\u001b[38;5;124m'\u001b[39m\u001b[38;5;124mprediction_file\u001b[39m\u001b[38;5;124m'\u001b[39m]]\n\u001b[1;32m      3\u001b[0m a_metrics_df[\u001b[38;5;124m'\u001b[39m\u001b[38;5;124mnum_gt_conn_comps\u001b[39m\u001b[38;5;124m'\u001b[39m] \u001b[38;5;241m=\u001b[39m [find_num_conn_comps(x) \u001b[38;5;28;01mfor\u001b[39;00m x \u001b[38;5;129;01min\u001b[39;00m a_metrics_df[\u001b[38;5;124m'\u001b[39m\u001b[38;5;124mreference_file\u001b[39m\u001b[38;5;124m'\u001b[39m]]\n\u001b[1;32m      4\u001b[0m a_metrics_df\u001b[38;5;241m.\u001b[39mto_csv(\u001b[38;5;124m'\u001b[39m\u001b[38;5;124ma-219-CV-results.csv\u001b[39m\u001b[38;5;124m'\u001b[39m)\n",
      "Cell \u001b[0;32mIn[2], line 72\u001b[0m, in \u001b[0;36mfind_num_conn_comps\u001b[0;34m(path)\u001b[0m\n\u001b[1;32m     71\u001b[0m \u001b[38;5;28;01mdef\u001b[39;00m \u001b[38;5;21mfind_num_conn_comps\u001b[39m(path):\n\u001b[0;32m---> 72\u001b[0m     array, voxel_vol \u001b[38;5;241m=\u001b[39m \u001b[43mnii2numpy\u001b[49m\u001b[43m(\u001b[49m\u001b[43mpath\u001b[49m\u001b[43m)\u001b[49m\n\u001b[1;32m     73\u001b[0m     conn_comp \u001b[38;5;241m=\u001b[39m con_comp(array)\n\u001b[1;32m     74\u001b[0m     num_comps \u001b[38;5;241m=\u001b[39m np\u001b[38;5;241m.\u001b[39mmax(conn_comp)\n",
      "Cell \u001b[0;32mIn[2], line 12\u001b[0m, in \u001b[0;36mnii2numpy\u001b[0;34m(nii_path)\u001b[0m\n\u001b[1;32m      9\u001b[0m \u001b[38;5;28;01mdef\u001b[39;00m \u001b[38;5;21mnii2numpy\u001b[39m(nii_path):\n\u001b[1;32m     10\u001b[0m     \u001b[38;5;66;03m# input: path of NIfTI segmentation file, output: corresponding numpy array and voxel_vol in ml\u001b[39;00m\n\u001b[1;32m     11\u001b[0m     mask_nii \u001b[38;5;241m=\u001b[39m nib\u001b[38;5;241m.\u001b[39mload(\u001b[38;5;28mstr\u001b[39m(nii_path))\n\u001b[0;32m---> 12\u001b[0m     mask \u001b[38;5;241m=\u001b[39m \u001b[43mmask_nii\u001b[49m\u001b[38;5;241;43m.\u001b[39;49m\u001b[43mget_fdata\u001b[49m\u001b[43m(\u001b[49m\u001b[43m)\u001b[49m\n\u001b[1;32m     13\u001b[0m     pixdim \u001b[38;5;241m=\u001b[39m mask_nii\u001b[38;5;241m.\u001b[39mheader[\u001b[38;5;124m'\u001b[39m\u001b[38;5;124mpixdim\u001b[39m\u001b[38;5;124m'\u001b[39m]   \n\u001b[1;32m     14\u001b[0m     voxel_vol \u001b[38;5;241m=\u001b[39m pixdim[\u001b[38;5;241m1\u001b[39m]\u001b[38;5;241m*\u001b[39mpixdim[\u001b[38;5;241m2\u001b[39m]\u001b[38;5;241m*\u001b[39mpixdim[\u001b[38;5;241m3\u001b[39m]\u001b[38;5;241m/\u001b[39m\u001b[38;5;241m1000\u001b[39m\n",
      "File \u001b[0;32m/gpfs3/well/papiez/users/hri611/python/env1-skylake/lib/python3.10/site-packages/nibabel/dataobj_images.py:373\u001b[0m, in \u001b[0;36mDataobjImage.get_fdata\u001b[0;34m(self, caching, dtype)\u001b[0m\n\u001b[1;32m    369\u001b[0m         \u001b[38;5;28;01mreturn\u001b[39;00m \u001b[38;5;28mself\u001b[39m\u001b[38;5;241m.\u001b[39m_fdata_cache\n\u001b[1;32m    370\u001b[0m \u001b[38;5;66;03m# Always return requested data type\u001b[39;00m\n\u001b[1;32m    371\u001b[0m \u001b[38;5;66;03m# For array proxies, will attempt to confine data array to dtype\u001b[39;00m\n\u001b[1;32m    372\u001b[0m \u001b[38;5;66;03m# during scaling\u001b[39;00m\n\u001b[0;32m--> 373\u001b[0m data \u001b[38;5;241m=\u001b[39m \u001b[43mnp\u001b[49m\u001b[38;5;241;43m.\u001b[39;49m\u001b[43masanyarray\u001b[49m\u001b[43m(\u001b[49m\u001b[38;5;28;43mself\u001b[39;49m\u001b[38;5;241;43m.\u001b[39;49m\u001b[43m_dataobj\u001b[49m\u001b[43m,\u001b[49m\u001b[43m \u001b[49m\u001b[43mdtype\u001b[49m\u001b[38;5;241;43m=\u001b[39;49m\u001b[43mdtype\u001b[49m\u001b[43m)\u001b[49m\n\u001b[1;32m    374\u001b[0m \u001b[38;5;28;01mif\u001b[39;00m caching \u001b[38;5;241m==\u001b[39m \u001b[38;5;124m'\u001b[39m\u001b[38;5;124mfill\u001b[39m\u001b[38;5;124m'\u001b[39m:\n\u001b[1;32m    375\u001b[0m     \u001b[38;5;28mself\u001b[39m\u001b[38;5;241m.\u001b[39m_fdata_cache \u001b[38;5;241m=\u001b[39m data\n",
      "File \u001b[0;32m/gpfs3/well/papiez/users/hri611/python/env1-skylake/lib/python3.10/site-packages/nibabel/arrayproxy.py:439\u001b[0m, in \u001b[0;36mArrayProxy.__array__\u001b[0;34m(self, dtype)\u001b[0m\n\u001b[1;32m    418\u001b[0m \u001b[38;5;28;01mdef\u001b[39;00m \u001b[38;5;21m__array__\u001b[39m(\u001b[38;5;28mself\u001b[39m, dtype\u001b[38;5;241m=\u001b[39m\u001b[38;5;28;01mNone\u001b[39;00m):\n\u001b[1;32m    419\u001b[0m \u001b[38;5;250m    \u001b[39m\u001b[38;5;124;03m\"\"\"Read data from file and apply scaling, casting to ``dtype``\u001b[39;00m\n\u001b[1;32m    420\u001b[0m \n\u001b[1;32m    421\u001b[0m \u001b[38;5;124;03m    If ``dtype`` is unspecified, the dtype of the returned array is the\u001b[39;00m\n\u001b[0;32m   (...)\u001b[0m\n\u001b[1;32m    437\u001b[0m \u001b[38;5;124;03m        Scaled image data with type `dtype`.\u001b[39;00m\n\u001b[1;32m    438\u001b[0m \u001b[38;5;124;03m    \"\"\"\u001b[39;00m\n\u001b[0;32m--> 439\u001b[0m     arr \u001b[38;5;241m=\u001b[39m \u001b[38;5;28;43mself\u001b[39;49m\u001b[38;5;241;43m.\u001b[39;49m\u001b[43m_get_scaled\u001b[49m\u001b[43m(\u001b[49m\u001b[43mdtype\u001b[49m\u001b[38;5;241;43m=\u001b[39;49m\u001b[43mdtype\u001b[49m\u001b[43m,\u001b[49m\u001b[43m \u001b[49m\u001b[43mslicer\u001b[49m\u001b[38;5;241;43m=\u001b[39;49m\u001b[43m(\u001b[49m\u001b[43m)\u001b[49m\u001b[43m)\u001b[49m\n\u001b[1;32m    440\u001b[0m     \u001b[38;5;28;01mif\u001b[39;00m dtype \u001b[38;5;129;01mis\u001b[39;00m \u001b[38;5;129;01mnot\u001b[39;00m \u001b[38;5;28;01mNone\u001b[39;00m:\n\u001b[1;32m    441\u001b[0m         arr \u001b[38;5;241m=\u001b[39m arr\u001b[38;5;241m.\u001b[39mastype(dtype, copy\u001b[38;5;241m=\u001b[39m\u001b[38;5;28;01mFalse\u001b[39;00m)\n",
      "File \u001b[0;32m/gpfs3/well/papiez/users/hri611/python/env1-skylake/lib/python3.10/site-packages/nibabel/arrayproxy.py:406\u001b[0m, in \u001b[0;36mArrayProxy._get_scaled\u001b[0;34m(self, dtype, slicer)\u001b[0m\n\u001b[1;32m    404\u001b[0m     scl_inter \u001b[38;5;241m=\u001b[39m scl_inter\u001b[38;5;241m.\u001b[39mastype(use_dtype)\n\u001b[1;32m    405\u001b[0m \u001b[38;5;66;03m# Read array and upcast as necessary for big slopes, intercepts\u001b[39;00m\n\u001b[0;32m--> 406\u001b[0m scaled \u001b[38;5;241m=\u001b[39m apply_read_scaling(\u001b[38;5;28;43mself\u001b[39;49m\u001b[38;5;241;43m.\u001b[39;49m\u001b[43m_get_unscaled\u001b[49m\u001b[43m(\u001b[49m\u001b[43mslicer\u001b[49m\u001b[38;5;241;43m=\u001b[39;49m\u001b[43mslicer\u001b[49m\u001b[43m)\u001b[49m, scl_slope, scl_inter)\n\u001b[1;32m    407\u001b[0m \u001b[38;5;28;01mif\u001b[39;00m dtype \u001b[38;5;129;01mis\u001b[39;00m \u001b[38;5;129;01mnot\u001b[39;00m \u001b[38;5;28;01mNone\u001b[39;00m:\n\u001b[1;32m    408\u001b[0m     scaled \u001b[38;5;241m=\u001b[39m scaled\u001b[38;5;241m.\u001b[39mastype(np\u001b[38;5;241m.\u001b[39mpromote_types(scaled\u001b[38;5;241m.\u001b[39mdtype, dtype), copy\u001b[38;5;241m=\u001b[39m\u001b[38;5;28;01mFalse\u001b[39;00m)\n",
      "File \u001b[0;32m/gpfs3/well/papiez/users/hri611/python/env1-skylake/lib/python3.10/site-packages/nibabel/arrayproxy.py:376\u001b[0m, in \u001b[0;36mArrayProxy._get_unscaled\u001b[0;34m(self, slicer)\u001b[0m\n\u001b[1;32m    372\u001b[0m \u001b[38;5;28;01mif\u001b[39;00m canonical_slicers(slicer, \u001b[38;5;28mself\u001b[39m\u001b[38;5;241m.\u001b[39m_shape, \u001b[38;5;28;01mFalse\u001b[39;00m) \u001b[38;5;241m==\u001b[39m canonical_slicers(\n\u001b[1;32m    373\u001b[0m     (), \u001b[38;5;28mself\u001b[39m\u001b[38;5;241m.\u001b[39m_shape, \u001b[38;5;28;01mFalse\u001b[39;00m\n\u001b[1;32m    374\u001b[0m ):\n\u001b[1;32m    375\u001b[0m     \u001b[38;5;28;01mwith\u001b[39;00m \u001b[38;5;28mself\u001b[39m\u001b[38;5;241m.\u001b[39m_get_fileobj() \u001b[38;5;28;01mas\u001b[39;00m fileobj, \u001b[38;5;28mself\u001b[39m\u001b[38;5;241m.\u001b[39m_lock:\n\u001b[0;32m--> 376\u001b[0m         \u001b[38;5;28;01mreturn\u001b[39;00m \u001b[43marray_from_file\u001b[49m\u001b[43m(\u001b[49m\n\u001b[1;32m    377\u001b[0m \u001b[43m            \u001b[49m\u001b[38;5;28;43mself\u001b[39;49m\u001b[38;5;241;43m.\u001b[39;49m\u001b[43m_shape\u001b[49m\u001b[43m,\u001b[49m\n\u001b[1;32m    378\u001b[0m \u001b[43m            \u001b[49m\u001b[38;5;28;43mself\u001b[39;49m\u001b[38;5;241;43m.\u001b[39;49m\u001b[43m_dtype\u001b[49m\u001b[43m,\u001b[49m\n\u001b[1;32m    379\u001b[0m \u001b[43m            \u001b[49m\u001b[43mfileobj\u001b[49m\u001b[43m,\u001b[49m\n\u001b[1;32m    380\u001b[0m \u001b[43m            \u001b[49m\u001b[43moffset\u001b[49m\u001b[38;5;241;43m=\u001b[39;49m\u001b[38;5;28;43mself\u001b[39;49m\u001b[38;5;241;43m.\u001b[39;49m\u001b[43m_offset\u001b[49m\u001b[43m,\u001b[49m\n\u001b[1;32m    381\u001b[0m \u001b[43m            \u001b[49m\u001b[43morder\u001b[49m\u001b[38;5;241;43m=\u001b[39;49m\u001b[38;5;28;43mself\u001b[39;49m\u001b[38;5;241;43m.\u001b[39;49m\u001b[43morder\u001b[49m\u001b[43m,\u001b[49m\n\u001b[1;32m    382\u001b[0m \u001b[43m            \u001b[49m\u001b[43mmmap\u001b[49m\u001b[38;5;241;43m=\u001b[39;49m\u001b[38;5;28;43mself\u001b[39;49m\u001b[38;5;241;43m.\u001b[39;49m\u001b[43m_mmap\u001b[49m\u001b[43m,\u001b[49m\n\u001b[1;32m    383\u001b[0m \u001b[43m        \u001b[49m\u001b[43m)\u001b[49m\n\u001b[1;32m    384\u001b[0m \u001b[38;5;28;01mwith\u001b[39;00m \u001b[38;5;28mself\u001b[39m\u001b[38;5;241m.\u001b[39m_get_fileobj() \u001b[38;5;28;01mas\u001b[39;00m fileobj:\n\u001b[1;32m    385\u001b[0m     \u001b[38;5;28;01mreturn\u001b[39;00m fileslice(\n\u001b[1;32m    386\u001b[0m         fileobj,\n\u001b[1;32m    387\u001b[0m         slicer,\n\u001b[0;32m   (...)\u001b[0m\n\u001b[1;32m    392\u001b[0m         lock\u001b[38;5;241m=\u001b[39m\u001b[38;5;28mself\u001b[39m\u001b[38;5;241m.\u001b[39m_lock,\n\u001b[1;32m    393\u001b[0m     )\n",
      "File \u001b[0;32m/gpfs3/well/papiez/users/hri611/python/env1-skylake/lib/python3.10/site-packages/nibabel/volumeutils.py:465\u001b[0m, in \u001b[0;36marray_from_file\u001b[0;34m(shape, in_dtype, infile, offset, order, mmap)\u001b[0m\n\u001b[1;32m    463\u001b[0m \u001b[38;5;28;01mif\u001b[39;00m \u001b[38;5;28mhasattr\u001b[39m(infile, \u001b[38;5;124m'\u001b[39m\u001b[38;5;124mreadinto\u001b[39m\u001b[38;5;124m'\u001b[39m):\n\u001b[1;32m    464\u001b[0m     data_bytes \u001b[38;5;241m=\u001b[39m \u001b[38;5;28mbytearray\u001b[39m(n_bytes)\n\u001b[0;32m--> 465\u001b[0m     n_read \u001b[38;5;241m=\u001b[39m \u001b[43minfile\u001b[49m\u001b[38;5;241;43m.\u001b[39;49m\u001b[43mreadinto\u001b[49m\u001b[43m(\u001b[49m\u001b[43mdata_bytes\u001b[49m\u001b[43m)\u001b[49m\n\u001b[1;32m    466\u001b[0m     needs_copy \u001b[38;5;241m=\u001b[39m \u001b[38;5;28;01mFalse\u001b[39;00m\n\u001b[1;32m    467\u001b[0m \u001b[38;5;28;01melse\u001b[39;00m:\n",
      "File \u001b[0;32m/apps/eb/2020b/skylake/software/Python/3.10.8-GCCcore-12.2.0/lib/python3.10/gzip.py:301\u001b[0m, in \u001b[0;36mGzipFile.read\u001b[0;34m(self, size)\u001b[0m\n\u001b[1;32m    299\u001b[0m     \u001b[38;5;28;01mimport\u001b[39;00m \u001b[38;5;21;01merrno\u001b[39;00m\n\u001b[1;32m    300\u001b[0m     \u001b[38;5;28;01mraise\u001b[39;00m \u001b[38;5;167;01mOSError\u001b[39;00m(errno\u001b[38;5;241m.\u001b[39mEBADF, \u001b[38;5;124m\"\u001b[39m\u001b[38;5;124mread() on write-only GzipFile object\u001b[39m\u001b[38;5;124m\"\u001b[39m)\n\u001b[0;32m--> 301\u001b[0m \u001b[38;5;28;01mreturn\u001b[39;00m \u001b[38;5;28;43mself\u001b[39;49m\u001b[38;5;241;43m.\u001b[39;49m\u001b[43m_buffer\u001b[49m\u001b[38;5;241;43m.\u001b[39;49m\u001b[43mread\u001b[49m\u001b[43m(\u001b[49m\u001b[43msize\u001b[49m\u001b[43m)\u001b[49m\n",
      "File \u001b[0;32m/apps/eb/2020b/skylake/software/Python/3.10.8-GCCcore-12.2.0/lib/python3.10/_compression.py:68\u001b[0m, in \u001b[0;36mDecompressReader.readinto\u001b[0;34m(self, b)\u001b[0m\n\u001b[1;32m     66\u001b[0m \u001b[38;5;28;01mdef\u001b[39;00m \u001b[38;5;21mreadinto\u001b[39m(\u001b[38;5;28mself\u001b[39m, b):\n\u001b[1;32m     67\u001b[0m     \u001b[38;5;28;01mwith\u001b[39;00m \u001b[38;5;28mmemoryview\u001b[39m(b) \u001b[38;5;28;01mas\u001b[39;00m view, view\u001b[38;5;241m.\u001b[39mcast(\u001b[38;5;124m\"\u001b[39m\u001b[38;5;124mB\u001b[39m\u001b[38;5;124m\"\u001b[39m) \u001b[38;5;28;01mas\u001b[39;00m byte_view:\n\u001b[0;32m---> 68\u001b[0m         data \u001b[38;5;241m=\u001b[39m \u001b[38;5;28;43mself\u001b[39;49m\u001b[38;5;241;43m.\u001b[39;49m\u001b[43mread\u001b[49m\u001b[43m(\u001b[49m\u001b[38;5;28;43mlen\u001b[39;49m\u001b[43m(\u001b[49m\u001b[43mbyte_view\u001b[49m\u001b[43m)\u001b[49m\u001b[43m)\u001b[49m\n\u001b[1;32m     69\u001b[0m         byte_view[:\u001b[38;5;28mlen\u001b[39m(data)] \u001b[38;5;241m=\u001b[39m data\n\u001b[1;32m     70\u001b[0m     \u001b[38;5;28;01mreturn\u001b[39;00m \u001b[38;5;28mlen\u001b[39m(data)\n",
      "File \u001b[0;32m/apps/eb/2020b/skylake/software/Python/3.10.8-GCCcore-12.2.0/lib/python3.10/gzip.py:496\u001b[0m, in \u001b[0;36m_GzipReader.read\u001b[0;34m(self, size)\u001b[0m\n\u001b[1;32m    493\u001b[0m \u001b[38;5;66;03m# Read a chunk of data from the file\u001b[39;00m\n\u001b[1;32m    494\u001b[0m buf \u001b[38;5;241m=\u001b[39m \u001b[38;5;28mself\u001b[39m\u001b[38;5;241m.\u001b[39m_fp\u001b[38;5;241m.\u001b[39mread(io\u001b[38;5;241m.\u001b[39mDEFAULT_BUFFER_SIZE)\n\u001b[0;32m--> 496\u001b[0m uncompress \u001b[38;5;241m=\u001b[39m \u001b[38;5;28;43mself\u001b[39;49m\u001b[38;5;241;43m.\u001b[39;49m\u001b[43m_decompressor\u001b[49m\u001b[38;5;241;43m.\u001b[39;49m\u001b[43mdecompress\u001b[49m\u001b[43m(\u001b[49m\u001b[43mbuf\u001b[49m\u001b[43m,\u001b[49m\u001b[43m \u001b[49m\u001b[43msize\u001b[49m\u001b[43m)\u001b[49m\n\u001b[1;32m    497\u001b[0m \u001b[38;5;28;01mif\u001b[39;00m \u001b[38;5;28mself\u001b[39m\u001b[38;5;241m.\u001b[39m_decompressor\u001b[38;5;241m.\u001b[39munconsumed_tail \u001b[38;5;241m!=\u001b[39m \u001b[38;5;124mb\u001b[39m\u001b[38;5;124m\"\u001b[39m\u001b[38;5;124m\"\u001b[39m:\n\u001b[1;32m    498\u001b[0m     \u001b[38;5;28mself\u001b[39m\u001b[38;5;241m.\u001b[39m_fp\u001b[38;5;241m.\u001b[39mprepend(\u001b[38;5;28mself\u001b[39m\u001b[38;5;241m.\u001b[39m_decompressor\u001b[38;5;241m.\u001b[39munconsumed_tail)\n",
      "\u001b[0;31mKeyboardInterrupt\u001b[0m: "
     ]
    }
   ],
   "source": [
    "### add column for number of connected components\n",
    "a_metrics_df['num_pred_conn_comps'] = [find_num_conn_comps(x) for x in a_metrics_df['prediction_file']]\n",
    "a_metrics_df['num_gt_conn_comps'] = [find_num_conn_comps(x) for x in a_metrics_df['reference_file']]\n",
    "a_metrics_df.to_csv('a-219-CV-results.csv')"
   ]
  },
  {
   "cell_type": "code",
   "execution_count": 79,
   "id": "cd204f38",
   "metadata": {},
   "outputs": [
    {
     "data": {
      "image/png": "[encoded data removed]",
      "text/plain": [
       "<Figure size 1000x500 with 2 Axes>"
      ]
     },
     "metadata": {},
     "output_type": "display_data"
    }
   ],
   "source": [
    "df = a_metrics_df\n",
    "df = df[df['n_ref']!=0]\n",
    "\n",
    "fig, axs = plt.subplots(1, 2, figsize=(10, 5))\n",
    "\n",
    "axs[0].hist(df['num_pred_conn_comps'], bins=50, color='blue', alpha=0.7)\n",
    "axs[0].set_title('Number of Predicted Connected Components')\n",
    "\n",
    "axs[1].hist(df['num_gt_conn_comps'], bins=50, color='orange', alpha=0.7)\n",
    "axs[1].set_title('Number of Ground Truth Connected Components')\n",
    "\n",
    "plt.tight_layout()\n",
    "plt.show()"
   ]
  },
  {
   "cell_type": "markdown",
   "id": "99fb3ec5",
   "metadata": {},
   "source": [
    "Compute DSC, FNs and FPs"
   ]
  },
  {
   "cell_type": "code",
   "execution_count": 16,
   "id": "73222ddf",
   "metadata": {},
   "outputs": [
    {
     "name": "stdout",
     "output_type": "stream",
     "text": [
      "0.711493220210218\n",
      "6.84808553651493\n",
      "14.417655785726462\n"
     ]
    }
   ],
   "source": [
    "# DSC, FN and FP score\n",
    "\n",
    "df = f_metrics_df\n",
    "print(df[df['n_ref']>0]['DICE'].mean())\n",
    "print(df[df['n_ref']>0]['challenge_FN'].mean())\n",
    "print(df['challenge_FP'].mean())\n"
   ]
  },
  {
   "cell_type": "code",
   "execution_count": 27,
   "id": "b9cec83e",
   "metadata": {},
   "outputs": [
    {
     "name": "stdout",
     "output_type": "stream",
     "text": [
      "468\n",
      "122\n"
     ]
    },
    {
     "data": {
      "text/plain": [
       "(0.0, 25000.0)"
      ]
     },
     "execution_count": 27,
     "metadata": {},
     "output_type": "execute_result"
    },
    {
     "data": {
      "image/png": "[encoded data removed]",
      "text/plain": [
       "<Figure size 640x480 with 1 Axes>"
      ]
     },
     "metadata": {},
     "output_type": "display_data"
    }
   ],
   "source": [
    "# number of true negative images, and average number of predictions on negative images\n",
    "df = a_metrics_df\n",
    "neg_imgs = df[df['n_ref']==0]\n",
    "print(len(neg_imgs))\n",
    "print(len(neg_imgs[neg_imgs['n_pred']==0]))\n",
    "plt.hist(neg_imgs['n_pred'],bins=200)\n",
    "plt.xlim([0,25000])"
   ]
  },
  {
   "cell_type": "code",
   "execution_count": 42,
   "id": "89befae4",
   "metadata": {},
   "outputs": [
    {
     "name": "stdout",
     "output_type": "stream",
     "text": [
      "-194.0\n"
     ]
    },
    {
     "data": {
      "image/png": "[encoded data removed]",
      "text/plain": [
       "<Figure size 640x480 with 1 Axes>"
      ]
     },
     "metadata": {},
     "output_type": "display_data"
    }
   ],
   "source": [
    "df = a_metrics_df\n",
    "pos_imgs = df[df['n_ref']!=0]\n",
    "plt.scatter(pos_imgs['n_ref'],pos_imgs['DICE'])\n",
    "plt.xlabel('Number of GT positive pixels')\n",
    "plt.ylabel('Dice score')\n"
   ]
  },
  {
   "cell_type": "code",
   "execution_count": 84,
   "id": "b7c5410f",
   "metadata": {},
   "outputs": [
    {
     "data": {
      "text/plain": [
       "Text(0, 0.5, 'Dice score')"
      ]
     },
     "execution_count": 84,
     "metadata": {},
     "output_type": "execute_result"
    },
    {
     "data": {
      "image/png": "[encoded data removed]",
      "text/plain": [
       "<Figure size 640x480 with 1 Axes>"
      ]
     },
     "metadata": {},
     "output_type": "display_data"
    }
   ],
   "source": [
    "df = a_metrics_df\n",
    "pos_imgs = df[df['n_ref']!=0]\n",
    "plt.scatter(pos_imgs['num_gt_conn_comps'],pos_imgs['DICE'])\n",
    "plt.xlabel('Number of GT positive connected components')\n",
    "plt.ylabel('Dice score')"
   ]
  },
  {
   "cell_type": "code",
   "execution_count": 50,
   "id": "4f2c6c39",
   "metadata": {},
   "outputs": [
    {
     "name": "stdout",
     "output_type": "stream",
     "text": [
      "-96.0\n"
     ]
    },
    {
     "data": {
      "image/png": "[encoded data removed]",
      "text/plain": [
       "<Figure size 640x480 with 1 Axes>"
      ]
     },
     "metadata": {},
     "output_type": "display_data"
    }
   ],
   "source": [
    "df = default_metrics_df\n",
    "pos_imgs = df[df['n_ref']!=0]\n",
    "plt.hist(pos_imgs['n_pred']-pos_imgs['n_ref'],bins=50)\n",
    "plt.xlabel('Predicted pixels - true pos pixels on all positive images')\n",
    "print((pos_imgs['n_pred']-pos_imgs['n_ref']).median())"
   ]
  },
  {
   "cell_type": "markdown",
   "id": "fe612c2b-f72f-47d1-b367-2d8dfd5caef1",
   "metadata": {},
   "source": [
    "## Apply post processing"
   ]
  },
  {
   "cell_type": "code",
   "execution_count": 6,
   "id": "8b86c86b-7543-42df-8188-2977b4e4b87f",
   "metadata": {},
   "outputs": [],
   "source": [
    "def process_array(arr,min_size):\n",
    "    min_size = int(min_size)\n",
    "    \n",
    "    unique_elements, counts = np.unique(arr, return_counts=True)\n",
    "\n",
    "    # Create a mapping to change values less than 125 to 0\n",
    "    change_to_zero = unique_elements[counts < min_size]\n",
    "\n",
    "    # Create a new array with the same values as the input array\n",
    "    processed_arr = arr.copy()\n",
    "\n",
    "    # Change values less than 125 to 0\n",
    "    for val in change_to_zero:\n",
    "        processed_arr[processed_arr == val] = 0\n",
    "        \n",
    "    processed_arr[processed_arr != 0] = 1\n",
    "\n",
    "    return processed_arr\n",
    "\n",
    "def post_process_nifti(nifti_pred_path,output_path,min_size):\n",
    "    # get numpy array\n",
    "    pred_array, voxel_vol = nii2numpy(nifti_pred_path)\n",
    "    pred_conn_comp = con_comp(pred_array)\n",
    "    \n",
    "    # returns numpy array with removal of small connected components\n",
    "    processed_arr = process_array(pred_conn_comp,min_size)\n",
    "    \n",
    "    # return and save nifti image\n",
    "    nifti_img = nib.Nifti1Image(processed_arr, affine=np.eye(4)) \n",
    "    nib.save(nifti_img, output_path)"
   ]
  },
  {
   "cell_type": "code",
   "execution_count": 11,
   "id": "c4a1ceaa-2825-4a9a-bb76-a1439647be69",
   "metadata": {},
   "outputs": [],
   "source": [
    "CV_images_folder = 'nnUNet_results/Dataset219_PETCT/nnUNetTrainer_1500epochs_1e2lr__nnUNetPlans__3d_fullres_maxnum_512_patch_192/crossval_results_folds_0_1_2_3_4'\n",
    "CV_images = [x for x in os.listdir(CV_images_folder) if '.nii.gz' in x]\n",
    "processed_inference_folder='nnUNet_results/Dataset219_PETCT/nnUNetTrainer_1500epochs_1e2lr__nnUNetPlans__3d_fullres_maxnum_512_patch_192/processedCV'\n",
    "#os.mkdir(processed_inference_folder)\n",
    "\n",
    "for image in CV_images:\n",
    "    post_process_nifti(os.path.join(CV_images_folder,image),os.path.join(processed_inference_folder,image),10)"
   ]
  },
  {
   "cell_type": "markdown",
   "id": "d33d64ab-ce8e-41c5-9bef-c91ec5fa1fd1",
   "metadata": {},
   "source": [
    "### Calculate metrics after post-processing\n"
   ]
  },
  {
   "cell_type": "code",
   "execution_count": 14,
   "id": "e182e256-40f7-4ff3-8c6c-0125f6d28d19",
   "metadata": {},
   "outputs": [
    {
     "name": "stdout",
     "output_type": "stream",
     "text": [
      "0\n",
      "1\n",
      "2\n"
     ]
    },
    {
     "name": "stderr",
     "output_type": "stream",
     "text": [
      "/tmp/slurm-24629573/ipykernel_146157/368949640.py:55: RuntimeWarning: invalid value encountered in scalar divide\n",
      "  dice_score = 2*overlap/sum\n"
     ]
    },
    {
     "name": "stdout",
     "output_type": "stream",
     "text": [
      "3\n",
      "4\n",
      "5\n"
     ]
    },
    {
     "ename": "KeyboardInterrupt",
     "evalue": "",
     "output_type": "error",
     "traceback": [
      "\u001b[0;31m---------------------------------------------------------------------------\u001b[0m",
      "\u001b[0;31mKeyboardInterrupt\u001b[0m                         Traceback (most recent call last)",
      "Cell \u001b[0;32mIn[14], line 12\u001b[0m\n\u001b[1;32m     10\u001b[0m nii_gt_path \u001b[38;5;241m=\u001b[39m plb\u001b[38;5;241m.\u001b[39mPath(nii_gt_path)\n\u001b[1;32m     11\u001b[0m nii_pred_path \u001b[38;5;241m=\u001b[39m plb\u001b[38;5;241m.\u001b[39mPath(nii_pred_path)\n\u001b[0;32m---> 12\u001b[0m dice_sc, false_pos_vol, false_neg_vol \u001b[38;5;241m=\u001b[39m \u001b[43mcompute_metrics\u001b[49m\u001b[43m(\u001b[49m\u001b[43mnii_gt_path\u001b[49m\u001b[43m,\u001b[49m\u001b[43m \u001b[49m\u001b[43mnii_pred_path\u001b[49m\u001b[43m)\u001b[49m\n\u001b[1;32m     14\u001b[0m csv_header \u001b[38;5;241m=\u001b[39m [\u001b[38;5;124m'\u001b[39m\u001b[38;5;124mgt_name\u001b[39m\u001b[38;5;124m'\u001b[39m, \u001b[38;5;124m'\u001b[39m\u001b[38;5;124mdice_sc\u001b[39m\u001b[38;5;124m'\u001b[39m, \u001b[38;5;124m'\u001b[39m\u001b[38;5;124mfalse_pos_vol\u001b[39m\u001b[38;5;124m'\u001b[39m, \u001b[38;5;124m'\u001b[39m\u001b[38;5;124mfalse_neg_vol\u001b[39m\u001b[38;5;124m'\u001b[39m]\n\u001b[1;32m     15\u001b[0m path_names\u001b[38;5;241m.\u001b[39mappend(nii_gt_path\u001b[38;5;241m.\u001b[39mname)\n",
      "Cell \u001b[0;32mIn[2], line 65\u001b[0m, in \u001b[0;36mcompute_metrics\u001b[0;34m(nii_gt_path, nii_pred_path)\u001b[0m\n\u001b[1;32m     62\u001b[0m gt_array, voxel_vol \u001b[38;5;241m=\u001b[39m nii2numpy(nii_gt_path)\n\u001b[1;32m     63\u001b[0m pred_array, voxel_vol \u001b[38;5;241m=\u001b[39m nii2numpy(nii_pred_path)\n\u001b[0;32m---> 65\u001b[0m false_neg_vol \u001b[38;5;241m=\u001b[39m \u001b[43mfalse_neg_pix\u001b[49m\u001b[43m(\u001b[49m\u001b[43mgt_array\u001b[49m\u001b[43m,\u001b[49m\u001b[43m \u001b[49m\u001b[43mpred_array\u001b[49m\u001b[43m)\u001b[49m \u001b[38;5;241m*\u001b[39mvoxel_vol\n\u001b[1;32m     66\u001b[0m false_pos_vol \u001b[38;5;241m=\u001b[39m false_pos_pix(gt_array, pred_array) \u001b[38;5;241m*\u001b[39mvoxel_vol\n\u001b[1;32m     67\u001b[0m dice_sc \u001b[38;5;241m=\u001b[39m dice_score(gt_array,pred_array)\n",
      "Cell \u001b[0;32mIn[2], line 44\u001b[0m, in \u001b[0;36mfalse_neg_pix\u001b[0;34m(gt_array, pred_array)\u001b[0m\n\u001b[1;32m     42\u001b[0m false_neg \u001b[38;5;241m=\u001b[39m \u001b[38;5;241m0\u001b[39m\n\u001b[1;32m     43\u001b[0m \u001b[38;5;28;01mfor\u001b[39;00m idx \u001b[38;5;129;01min\u001b[39;00m \u001b[38;5;28mrange\u001b[39m(\u001b[38;5;241m1\u001b[39m,gt_conn_comp\u001b[38;5;241m.\u001b[39mmax()\u001b[38;5;241m+\u001b[39m\u001b[38;5;241m1\u001b[39m):\n\u001b[0;32m---> 44\u001b[0m     comp_mask \u001b[38;5;241m=\u001b[39m \u001b[43mnp\u001b[49m\u001b[38;5;241;43m.\u001b[39;49m\u001b[43misin\u001b[49m\u001b[43m(\u001b[49m\u001b[43mgt_conn_comp\u001b[49m\u001b[43m,\u001b[49m\u001b[43m \u001b[49m\u001b[43midx\u001b[49m\u001b[43m)\u001b[49m\n\u001b[1;32m     45\u001b[0m     \u001b[38;5;28;01mif\u001b[39;00m (comp_mask\u001b[38;5;241m*\u001b[39mpred_array)\u001b[38;5;241m.\u001b[39msum() \u001b[38;5;241m==\u001b[39m \u001b[38;5;241m0\u001b[39m:\n\u001b[1;32m     46\u001b[0m         false_neg \u001b[38;5;241m=\u001b[39m false_neg\u001b[38;5;241m+\u001b[39mcomp_mask\u001b[38;5;241m.\u001b[39msum()\n",
      "File \u001b[0;32m/gpfs3/well/papiez/users/hri611/python/env1-skylake/lib/python3.10/site-packages/numpy/lib/arraysetops.py:890\u001b[0m, in \u001b[0;36misin\u001b[0;34m(element, test_elements, assume_unique, invert, kind)\u001b[0m\n\u001b[1;32m    769\u001b[0m \u001b[38;5;250m\u001b[39m\u001b[38;5;124;03m\"\"\"\u001b[39;00m\n\u001b[1;32m    770\u001b[0m \u001b[38;5;124;03mCalculates ``element in test_elements``, broadcasting over `element` only.\u001b[39;00m\n\u001b[1;32m    771\u001b[0m \u001b[38;5;124;03mReturns a boolean array of the same shape as `element` that is True\u001b[39;00m\n\u001b[0;32m   (...)\u001b[0m\n\u001b[1;32m    887\u001b[0m \u001b[38;5;124;03m       [ True, False]])\u001b[39;00m\n\u001b[1;32m    888\u001b[0m \u001b[38;5;124;03m\"\"\"\u001b[39;00m\n\u001b[1;32m    889\u001b[0m element \u001b[38;5;241m=\u001b[39m np\u001b[38;5;241m.\u001b[39masarray(element)\n\u001b[0;32m--> 890\u001b[0m \u001b[38;5;28;01mreturn\u001b[39;00m \u001b[43min1d\u001b[49m\u001b[43m(\u001b[49m\u001b[43melement\u001b[49m\u001b[43m,\u001b[49m\u001b[43m \u001b[49m\u001b[43mtest_elements\u001b[49m\u001b[43m,\u001b[49m\u001b[43m \u001b[49m\u001b[43massume_unique\u001b[49m\u001b[38;5;241;43m=\u001b[39;49m\u001b[43massume_unique\u001b[49m\u001b[43m,\u001b[49m\n\u001b[1;32m    891\u001b[0m \u001b[43m            \u001b[49m\u001b[43minvert\u001b[49m\u001b[38;5;241;43m=\u001b[39;49m\u001b[43minvert\u001b[49m\u001b[43m,\u001b[49m\u001b[43m \u001b[49m\u001b[43mkind\u001b[49m\u001b[38;5;241;43m=\u001b[39;49m\u001b[43mkind\u001b[49m\u001b[43m)\u001b[49m\u001b[38;5;241m.\u001b[39mreshape(element\u001b[38;5;241m.\u001b[39mshape)\n",
      "File \u001b[0;32m/gpfs3/well/papiez/users/hri611/python/env1-skylake/lib/python3.10/site-packages/numpy/lib/arraysetops.py:618\u001b[0m, in \u001b[0;36min1d\u001b[0;34m(ar1, ar2, assume_unique, invert, kind)\u001b[0m\n\u001b[1;32m    526\u001b[0m \u001b[38;5;250m\u001b[39m\u001b[38;5;124;03m\"\"\"\u001b[39;00m\n\u001b[1;32m    527\u001b[0m \u001b[38;5;124;03mTest whether each element of a 1-D array is also present in a second array.\u001b[39;00m\n\u001b[1;32m    528\u001b[0m \n\u001b[0;32m   (...)\u001b[0m\n\u001b[1;32m    615\u001b[0m \u001b[38;5;124;03marray([1, 5])\u001b[39;00m\n\u001b[1;32m    616\u001b[0m \u001b[38;5;124;03m\"\"\"\u001b[39;00m\n\u001b[1;32m    617\u001b[0m \u001b[38;5;66;03m# Ravel both arrays, behavior for the first array could be different\u001b[39;00m\n\u001b[0;32m--> 618\u001b[0m ar1 \u001b[38;5;241m=\u001b[39m \u001b[43mnp\u001b[49m\u001b[38;5;241;43m.\u001b[39;49m\u001b[43masarray\u001b[49m\u001b[43m(\u001b[49m\u001b[43mar1\u001b[49m\u001b[43m)\u001b[49m\u001b[38;5;241;43m.\u001b[39;49m\u001b[43mravel\u001b[49m\u001b[43m(\u001b[49m\u001b[43m)\u001b[49m\n\u001b[1;32m    619\u001b[0m ar2 \u001b[38;5;241m=\u001b[39m np\u001b[38;5;241m.\u001b[39masarray(ar2)\u001b[38;5;241m.\u001b[39mravel()\n\u001b[1;32m    621\u001b[0m \u001b[38;5;66;03m# Ensure that iteration through object arrays yields size-1 arrays\u001b[39;00m\n",
      "\u001b[0;31mKeyboardInterrupt\u001b[0m: "
     ]
    }
   ],
   "source": [
    "V_images_folder = 'nnUNet_results/Dataset219_PETCT/nnUNetTrainer_1500epochs_1e2lr__nnUNetPlans__3d_fullres_maxnum_512_patch_192/crossval_results_folds_0_1_2_3_4'\n",
    "CV_images = [x for x in os.listdir(CV_images_folder) if '.nii.gz' in x]\n",
    "processed_inference_folder='nnUNet_results/Dataset219_PETCT/nnUNetTrainer_1500epochs_1e2lr__nnUNetPlans__3d_fullres_maxnum_512_patch_192/processedCV'\n",
    "\n",
    "GT_labels_folder = 'nnUnet_raw/Dataset219_PETCT/labelsTr'\n",
    "\n",
    "path_names = []\n",
    "dice = []\n",
    "fp= []\n",
    "fn = []\n",
    "for i in range(len(CV_images)):\n",
    "    print(i)\n",
    "    nii_gt_path, nii_pred_path = os.path.join(GT_labels_folder,CV_images[i]),os.path.join(processed_inference_folder,CV_images[i])\n",
    "    nii_gt_path = plb.Path(nii_gt_path)\n",
    "    nii_pred_path = plb.Path(nii_pred_path)\n",
    "    dice_sc, false_pos_vol, false_neg_vol = compute_metrics(nii_gt_path, nii_pred_path)\n",
    "\n",
    "    csv_header = ['gt_name', 'dice_sc', 'false_pos_vol', 'false_neg_vol']\n",
    "    path_names.append(nii_gt_path.name)\n",
    "    dice.append(dice_sc)\n",
    "    fp.append(false_pos_vol)\n",
    "    fn.append(false_neg_vol)\n",
    "\n",
    "c_pp_metrics_df = pd.DataFrame()\n",
    "c_pp_metrics_df['image'],c_pp_metrics_df['DICE'],c_pp_metrics_df['challenge_FP'],c_pp_metrics_df['challenge_FN'] = path_names,dice,fp,fn\n",
    "\n",
    "c_pp_metrics_df.to_csv('c-219-pp-CV-results.csv')"
   ]
  },
  {
   "cell_type": "code",
   "execution_count": 27,
   "id": "3166fe8e-8566-4174-af02-5c9030dd77e4",
   "metadata": {},
   "outputs": [
    {
     "data": {
      "text/html": [
       "<div>\n",
       "<style scoped>\n",
       "    .dataframe tbody tr th:only-of-type {\n",
       "        vertical-align: middle;\n",
       "    }\n",
       "\n",
       "    .dataframe tbody tr th {\n",
       "        vertical-align: top;\n",
       "    }\n",
       "\n",
       "    .dataframe thead th {\n",
       "        text-align: right;\n",
       "    }\n",
       "</style>\n",
       "<table border=\"1\" class=\"dataframe\">\n",
       "  <thead>\n",
       "    <tr style=\"text-align: right;\">\n",
       "      <th></th>\n",
       "      <th>Unnamed: 0</th>\n",
       "      <th>image</th>\n",
       "      <th>DICE</th>\n",
       "      <th>challenge_FP</th>\n",
       "      <th>challenge_FN</th>\n",
       "    </tr>\n",
       "  </thead>\n",
       "  <tbody>\n",
       "    <tr>\n",
       "      <th>0</th>\n",
       "      <td>0</td>\n",
       "      <td>PETCT_92c5c944a5_07152002.nii.gz</td>\n",
       "      <td>0.706859</td>\n",
       "      <td>0.000</td>\n",
       "      <td>1.483</td>\n",
       "    </tr>\n",
       "    <tr>\n",
       "      <th>1</th>\n",
       "      <td>1</td>\n",
       "      <td>PETCT_9ffd8409b3_07152005.nii.gz</td>\n",
       "      <td>0.827998</td>\n",
       "      <td>0.000</td>\n",
       "      <td>0.155</td>\n",
       "    </tr>\n",
       "    <tr>\n",
       "      <th>2</th>\n",
       "      <td>2</td>\n",
       "      <td>PETCT_f8de0cde56_12052005.nii.gz</td>\n",
       "      <td>NaN</td>\n",
       "      <td>0.000</td>\n",
       "      <td>0.000</td>\n",
       "    </tr>\n",
       "    <tr>\n",
       "      <th>3</th>\n",
       "      <td>3</td>\n",
       "      <td>PETCT_f60ea3abc5_05032003.nii.gz</td>\n",
       "      <td>0.874398</td>\n",
       "      <td>0.000</td>\n",
       "      <td>0.131</td>\n",
       "    </tr>\n",
       "    <tr>\n",
       "      <th>4</th>\n",
       "      <td>4</td>\n",
       "      <td>PETCT_b7c1533a39_02122005.nii.gz</td>\n",
       "      <td>0.886500</td>\n",
       "      <td>0.967</td>\n",
       "      <td>0.161</td>\n",
       "    </tr>\n",
       "    <tr>\n",
       "      <th>...</th>\n",
       "      <td>...</td>\n",
       "      <td>...</td>\n",
       "      <td>...</td>\n",
       "      <td>...</td>\n",
       "      <td>...</td>\n",
       "    </tr>\n",
       "    <tr>\n",
       "      <th>914</th>\n",
       "      <td>914</td>\n",
       "      <td>PETCT_3481507253_06172007.nii.gz</td>\n",
       "      <td>NaN</td>\n",
       "      <td>0.000</td>\n",
       "      <td>0.000</td>\n",
       "    </tr>\n",
       "    <tr>\n",
       "      <th>915</th>\n",
       "      <td>915</td>\n",
       "      <td>PETCT_93bea242d1_07252002.nii.gz</td>\n",
       "      <td>0.770750</td>\n",
       "      <td>0.000</td>\n",
       "      <td>0.000</td>\n",
       "    </tr>\n",
       "    <tr>\n",
       "      <th>916</th>\n",
       "      <td>916</td>\n",
       "      <td>PETCT_a4a66c4fa7_07072006.nii.gz</td>\n",
       "      <td>NaN</td>\n",
       "      <td>0.000</td>\n",
       "      <td>0.000</td>\n",
       "    </tr>\n",
       "    <tr>\n",
       "      <th>917</th>\n",
       "      <td>917</td>\n",
       "      <td>PETCT_790246c76c_02072004.nii.gz</td>\n",
       "      <td>0.710195</td>\n",
       "      <td>0.209</td>\n",
       "      <td>0.000</td>\n",
       "    </tr>\n",
       "    <tr>\n",
       "      <th>918</th>\n",
       "      <td>918</td>\n",
       "      <td>PETCT_7785c10e91_12152006.nii.gz</td>\n",
       "      <td>0.000000</td>\n",
       "      <td>0.000</td>\n",
       "      <td>0.338</td>\n",
       "    </tr>\n",
       "  </tbody>\n",
       "</table>\n",
       "<p>919 rows × 5 columns</p>\n",
       "</div>"
      ],
      "text/plain": [
       "     Unnamed: 0                             image      DICE  challenge_FP  \\\n",
       "0             0  PETCT_92c5c944a5_07152002.nii.gz  0.706859         0.000   \n",
       "1             1  PETCT_9ffd8409b3_07152005.nii.gz  0.827998         0.000   \n",
       "2             2  PETCT_f8de0cde56_12052005.nii.gz       NaN         0.000   \n",
       "3             3  PETCT_f60ea3abc5_05032003.nii.gz  0.874398         0.000   \n",
       "4             4  PETCT_b7c1533a39_02122005.nii.gz  0.886500         0.967   \n",
       "..          ...                               ...       ...           ...   \n",
       "914         914  PETCT_3481507253_06172007.nii.gz       NaN         0.000   \n",
       "915         915  PETCT_93bea242d1_07252002.nii.gz  0.770750         0.000   \n",
       "916         916  PETCT_a4a66c4fa7_07072006.nii.gz       NaN         0.000   \n",
       "917         917  PETCT_790246c76c_02072004.nii.gz  0.710195         0.209   \n",
       "918         918  PETCT_7785c10e91_12152006.nii.gz  0.000000         0.000   \n",
       "\n",
       "     challenge_FN  \n",
       "0           1.483  \n",
       "1           0.155  \n",
       "2           0.000  \n",
       "3           0.131  \n",
       "4           0.161  \n",
       "..            ...  \n",
       "914         0.000  \n",
       "915         0.000  \n",
       "916         0.000  \n",
       "917         0.000  \n",
       "918         0.338  \n",
       "\n",
       "[919 rows x 5 columns]"
      ]
     },
     "execution_count": 27,
     "metadata": {},
     "output_type": "execute_result"
    }
   ],
   "source": [
    "c_pp_metrics_df = pd.read_csv('c-219-pp-CV-results.csv')\n",
    "c_pp_metrics_df"
   ]
  },
  {
   "cell_type": "code",
   "execution_count": 29,
   "id": "f5792173-571c-483a-9e1f-32fbe0e1021e",
   "metadata": {},
   "outputs": [],
   "source": [
    "c_metrics_df['filename'] = c_metrics_df['prediction_file'].apply(lambda x: x.split(\"/\")[-1])\n",
    "\n",
    "# Merge the DataFrames based on the condition\n",
    "merged_df = c_pp_metrics_df.merge(c_metrics_df[['filename', 'n_ref']], \n",
    "                                  left_on='image', \n",
    "                                  right_on='filename', \n",
    "                                  how='left')\n",
    "\n",
    "# Fill NaN values in 'n_ref' column with 0 if needed\n",
    "#merged_df['n_ref'] = merged_df['n_ref'].fillna(0)\n",
    "\n",
    "# Assign the values back to the original DataFrame\n",
    "c_pp_metrics_df['n_ref'] = merged_df['n_ref']"
   ]
  },
  {
   "cell_type": "code",
   "execution_count": 35,
   "id": "27555f40-4d3c-4cb5-9a69-a5c2ef34e00e",
   "metadata": {},
   "outputs": [
    {
     "data": {
      "text/html": [
       "<div>\n",
       "<style scoped>\n",
       "    .dataframe tbody tr th:only-of-type {\n",
       "        vertical-align: middle;\n",
       "    }\n",
       "\n",
       "    .dataframe tbody tr th {\n",
       "        vertical-align: top;\n",
       "    }\n",
       "\n",
       "    .dataframe thead th {\n",
       "        text-align: right;\n",
       "    }\n",
       "</style>\n",
       "<table border=\"1\" class=\"dataframe\">\n",
       "  <thead>\n",
       "    <tr style=\"text-align: right;\">\n",
       "      <th></th>\n",
       "      <th>Unnamed: 0</th>\n",
       "      <th>image</th>\n",
       "      <th>DICE</th>\n",
       "      <th>challenge_FP</th>\n",
       "      <th>challenge_FN</th>\n",
       "      <th>n_ref</th>\n",
       "    </tr>\n",
       "  </thead>\n",
       "  <tbody>\n",
       "    <tr>\n",
       "      <th>0</th>\n",
       "      <td>0</td>\n",
       "      <td>PETCT_92c5c944a5_07152002.nii.gz</td>\n",
       "      <td>0.706859</td>\n",
       "      <td>0.000</td>\n",
       "      <td>1.483</td>\n",
       "      <td>177997</td>\n",
       "    </tr>\n",
       "    <tr>\n",
       "      <th>1</th>\n",
       "      <td>1</td>\n",
       "      <td>PETCT_9ffd8409b3_07152005.nii.gz</td>\n",
       "      <td>0.827998</td>\n",
       "      <td>0.000</td>\n",
       "      <td>0.155</td>\n",
       "      <td>1369</td>\n",
       "    </tr>\n",
       "    <tr>\n",
       "      <th>2</th>\n",
       "      <td>2</td>\n",
       "      <td>PETCT_f8de0cde56_12052005.nii.gz</td>\n",
       "      <td>NaN</td>\n",
       "      <td>0.000</td>\n",
       "      <td>0.000</td>\n",
       "      <td>0</td>\n",
       "    </tr>\n",
       "    <tr>\n",
       "      <th>3</th>\n",
       "      <td>3</td>\n",
       "      <td>PETCT_f60ea3abc5_05032003.nii.gz</td>\n",
       "      <td>0.874398</td>\n",
       "      <td>0.000</td>\n",
       "      <td>0.131</td>\n",
       "      <td>46492</td>\n",
       "    </tr>\n",
       "    <tr>\n",
       "      <th>4</th>\n",
       "      <td>4</td>\n",
       "      <td>PETCT_b7c1533a39_02122005.nii.gz</td>\n",
       "      <td>0.886500</td>\n",
       "      <td>0.967</td>\n",
       "      <td>0.161</td>\n",
       "      <td>20359</td>\n",
       "    </tr>\n",
       "    <tr>\n",
       "      <th>...</th>\n",
       "      <td>...</td>\n",
       "      <td>...</td>\n",
       "      <td>...</td>\n",
       "      <td>...</td>\n",
       "      <td>...</td>\n",
       "      <td>...</td>\n",
       "    </tr>\n",
       "    <tr>\n",
       "      <th>914</th>\n",
       "      <td>914</td>\n",
       "      <td>PETCT_3481507253_06172007.nii.gz</td>\n",
       "      <td>NaN</td>\n",
       "      <td>0.000</td>\n",
       "      <td>0.000</td>\n",
       "      <td>0</td>\n",
       "    </tr>\n",
       "    <tr>\n",
       "      <th>915</th>\n",
       "      <td>915</td>\n",
       "      <td>PETCT_93bea242d1_07252002.nii.gz</td>\n",
       "      <td>0.770750</td>\n",
       "      <td>0.000</td>\n",
       "      <td>0.000</td>\n",
       "      <td>2109</td>\n",
       "    </tr>\n",
       "    <tr>\n",
       "      <th>916</th>\n",
       "      <td>916</td>\n",
       "      <td>PETCT_a4a66c4fa7_07072006.nii.gz</td>\n",
       "      <td>NaN</td>\n",
       "      <td>0.000</td>\n",
       "      <td>0.000</td>\n",
       "      <td>0</td>\n",
       "    </tr>\n",
       "    <tr>\n",
       "      <th>917</th>\n",
       "      <td>917</td>\n",
       "      <td>PETCT_790246c76c_02072004.nii.gz</td>\n",
       "      <td>0.710195</td>\n",
       "      <td>0.209</td>\n",
       "      <td>0.000</td>\n",
       "      <td>5493</td>\n",
       "    </tr>\n",
       "    <tr>\n",
       "      <th>918</th>\n",
       "      <td>918</td>\n",
       "      <td>PETCT_7785c10e91_12152006.nii.gz</td>\n",
       "      <td>0.000000</td>\n",
       "      <td>0.000</td>\n",
       "      <td>0.338</td>\n",
       "      <td>338</td>\n",
       "    </tr>\n",
       "  </tbody>\n",
       "</table>\n",
       "<p>919 rows × 6 columns</p>\n",
       "</div>"
      ],
      "text/plain": [
       "     Unnamed: 0                             image      DICE  challenge_FP  \\\n",
       "0             0  PETCT_92c5c944a5_07152002.nii.gz  0.706859         0.000   \n",
       "1             1  PETCT_9ffd8409b3_07152005.nii.gz  0.827998         0.000   \n",
       "2             2  PETCT_f8de0cde56_12052005.nii.gz       NaN         0.000   \n",
       "3             3  PETCT_f60ea3abc5_05032003.nii.gz  0.874398         0.000   \n",
       "4             4  PETCT_b7c1533a39_02122005.nii.gz  0.886500         0.967   \n",
       "..          ...                               ...       ...           ...   \n",
       "914         914  PETCT_3481507253_06172007.nii.gz       NaN         0.000   \n",
       "915         915  PETCT_93bea242d1_07252002.nii.gz  0.770750         0.000   \n",
       "916         916  PETCT_a4a66c4fa7_07072006.nii.gz       NaN         0.000   \n",
       "917         917  PETCT_790246c76c_02072004.nii.gz  0.710195         0.209   \n",
       "918         918  PETCT_7785c10e91_12152006.nii.gz  0.000000         0.000   \n",
       "\n",
       "     challenge_FN   n_ref  \n",
       "0           1.483  177997  \n",
       "1           0.155    1369  \n",
       "2           0.000       0  \n",
       "3           0.131   46492  \n",
       "4           0.161   20359  \n",
       "..            ...     ...  \n",
       "914         0.000       0  \n",
       "915         0.000    2109  \n",
       "916         0.000       0  \n",
       "917         0.000    5493  \n",
       "918         0.338     338  \n",
       "\n",
       "[919 rows x 6 columns]"
      ]
     },
     "execution_count": 35,
     "metadata": {},
     "output_type": "execute_result"
    }
   ],
   "source": [
    "c_pp_metrics_df"
   ]
  },
  {
   "cell_type": "code",
   "execution_count": 38,
   "id": "14be9673-baf5-46fc-ad9f-5dcf345e830c",
   "metadata": {},
   "outputs": [
    {
     "name": "stdout",
     "output_type": "stream",
     "text": [
      "DICE\n",
      "0.7410400435450663\n",
      "FN\n",
      "1.2246563192904656\n",
      "FP\n",
      "0.5402829162132753\n"
     ]
    }
   ],
   "source": [
    "df = c_pp_metrics_df\n",
    "print('DICE')\n",
    "print(df[df['n_ref']!=0]['DICE'].mean())\n",
    "print('FN')\n",
    "print(df[df['n_ref']!=0]['challenge_FN'].mean())\n",
    "print('FP')\n",
    "print(df['challenge_FP'].mean())\n"
   ]
  },
  {
   "cell_type": "markdown",
   "id": "1ccd691e",
   "metadata": {},
   "source": [
    "## Download 10 training images"
   ]
  },
  {
   "cell_type": "code",
   "execution_count": 41,
   "id": "8c7cf4e1",
   "metadata": {},
   "outputs": [],
   "source": [
    "# set up new folders\n",
    "\n",
    "example_images_folder = 'Example-preds-nnUNetTrainer__nnUNetPlans__3d_fullres-CV'\n",
    "cv_preds_folder = 'Example-preds-nnUNetTrainer__nnUNetPlans__3d_fullres-CV/CV-preds'\n",
    "imagesTr_folder = 'Example-preds-nnUNetTrainer__nnUNetPlans__3d_fullres-CV/imagesTr'\n",
    "labelsTr_folder = 'Example-preds-nnUNetTrainer__nnUNetPlans__3d_fullres-CV/labelsTr'\n",
    "\n",
    "\n",
    "if not os.path.exists(example_images_folder):\n",
    "    os.mkdir(os.path.join(example_images_folder))\n",
    "\n",
    "if not os.path.exists(cv_preds_folder):\n",
    "    os.mkdir(os.path.join(cv_preds_folder))\n",
    "\n",
    "if not os.path.exists(imagesTr_folder):\n",
    "    os.mkdir(os.path.join(imagesTr_folder))\n",
    "\n",
    "if not os.path.exists(labelsTr_folder):\n",
    "    os.mkdir(os.path.join(labelsTr_folder))\n"
   ]
  },
  {
   "cell_type": "code",
   "execution_count": 39,
   "id": "b8fffd3f",
   "metadata": {},
   "outputs": [
    {
     "data": {
      "text/plain": [
       "['PETCT_92c5c944a5_07152002.nii.gz',\n",
       " 'PETCT_9ffd8409b3_07152005.nii.gz',\n",
       " 'PETCT_f8de0cde56_12052005.nii.gz',\n",
       " 'PETCT_f60ea3abc5_05032003.nii.gz',\n",
       " 'PETCT_b7c1533a39_02122005.nii.gz',\n",
       " 'PETCT_82137245b0_01262002.nii.gz',\n",
       " 'PETCT_ccd8f5ff71_10292006.nii.gz',\n",
       " 'PETCT_9860ffe82d_11192004.nii.gz',\n",
       " 'PETCT_cb240e6f0f_04192007.nii.gz',\n",
       " 'PETCT_d3208ff062_03142003.nii.gz']"
      ]
     },
     "execution_count": 39,
     "metadata": {},
     "output_type": "execute_result"
    }
   ],
   "source": [
    "CV_folder_path = 'nnUNet_results/Dataset219_PETCT/nnUNetTrainer__nnUNetPlans__3d_fullres/crossval_results_folds_0_1_2_3_4'\n",
    "example_preds = os.listdir(CV_folder_path)[0:10]\n",
    "data_ids = [x[:-7] for x in example_preds]\n"
   ]
  },
  {
   "cell_type": "code",
   "execution_count": null,
   "id": "7f06442d",
   "metadata": {},
   "outputs": [],
   "source": [
    "# copy the 10 example predictions\n",
    "import shutil\n",
    "\n",
    "for image in example_preds:\n",
    "    shutil.copy(os.path.join(CV_folder_path,image),cv_preds_folder)"
   ]
  },
  {
   "cell_type": "code",
   "execution_count": 49,
   "id": "4793ffe8",
   "metadata": {},
   "outputs": [],
   "source": [
    "# copy the 10 corresponding PET and 10 corresponding CT images\n",
    "images_tr_folder = 'nnUnet_raw/Dataset219_PETCT/imagesTr'\n",
    "for image in os.listdir(images_tr_folder):\n",
    "    for example_id in data_ids:\n",
    "        if example_id in image:\n",
    "            shutil.copy(os.path.join(images_tr_folder,image),imagesTr_folder)\n"
   ]
  },
  {
   "cell_type": "code",
   "execution_count": 51,
   "id": "a812ef29",
   "metadata": {},
   "outputs": [],
   "source": [
    "# copy 10 corresponding labels\n",
    "old_labels_tr_folder = 'nnUnet_raw/Dataset219_PETCT/labelsTr'\n",
    "for image in os.listdir(old_labels_tr_folder):\n",
    "    for example_id in data_ids:\n",
    "        if example_id in image:\n",
    "            shutil.copy(os.path.join(old_labels_tr_folder,image),labelsTr_folder)"
   ]
  },
  {
   "cell_type": "markdown",
   "id": "01dd8ef3",
   "metadata": {},
   "source": [
    "## Look at other prediciton files eg .npz and .pkl"
   ]
  },
  {
   "cell_type": "code",
   "execution_count": 130,
   "id": "4f90feb8",
   "metadata": {},
   "outputs": [
    {
     "data": {
      "text/plain": [
       "['PETCT_9ffd8409b3_07152005.nii.gz',\n",
       " 'PETCT_75046e0c12_10292004.pkl',\n",
       " 'PETCT_be3e55a32f_04052001.npz',\n",
       " 'PETCT_82137245b0_01262002.nii.gz',\n",
       " 'PETCT_5d994c3f44_03052006.npz',\n",
       " 'PETCT_8bebb676bf_12202002.pkl',\n",
       " 'PETCT_b2f82ed4b9_04172003.pkl',\n",
       " 'PETCT_fe705ea1cc_12292002.pkl',\n",
       " 'PETCT_e61c9da258_12132002.npz',\n",
       " 'PETCT_e61c9da258_12132002.pkl',\n",
       " 'PETCT_a2676f03c0_05092003.nii.gz',\n",
       " 'PETCT_2946d59a94_11062006.pkl',\n",
       " 'PETCT_21e4ffcb52_05062002.npz',\n",
       " 'PETCT_d8a92bafe3_03182007.npz',\n",
       " 'PETCT_0011f3deaf_03232003.pkl',\n",
       " 'PETCT_b327726c24_08272000.nii.gz',\n",
       " 'PETCT_12025abab5_11012004.nii.gz',\n",
       " 'PETCT_c4a686881e_04231999.npz',\n",
       " 'PETCT_802f19931c_06302002.npz',\n",
       " 'PETCT_7ef5343426_05122005.pkl',\n",
       " 'PETCT_6aea5c3a03_12272001.nii.gz',\n",
       " 'PETCT_0011f3deaf_03232003.npz',\n",
       " 'PETCT_db3daf78d2_10302000.nii.gz',\n",
       " 'PETCT_b41bc7c1e5_11052006.pkl',\n",
       " 'PETCT_274688d0a8_03242007.pkl',\n",
       " 'PETCT_2946d59a94_11062006.npz',\n",
       " 'PETCT_380f71df1e_08192001.nii.gz',\n",
       " 'PETCT_ae96f738c0_09112003.pkl',\n",
       " 'PETCT_69c90b6820_11212005.pkl',\n",
       " 'PETCT_55d55902c6_05112006.pkl',\n",
       " 'PETCT_978c395243_01132005.nii.gz',\n",
       " 'PETCT_ca47fe5e7d_09012003.npz',\n",
       " 'PETCT_f7a9267a69_02012003.nii.gz',\n",
       " 'PETCT_d65cf203be_04282007.pkl',\n",
       " 'PETCT_ca5406d339_12092004.nii.gz',\n",
       " 'PETCT_456d14846b_09012003.pkl',\n",
       " 'PETCT_777fa0ba88_04072003.pkl',\n",
       " 'PETCT_44bf7dc508_07252002.npz',\n",
       " 'PETCT_1a1712f7d0_02162007.pkl',\n",
       " 'PETCT_572fca6b44_05232005.npz',\n",
       " 'PETCT_faf4a6dbaa_01102003.npz',\n",
       " 'PETCT_35c9c85a96_09232005.pkl',\n",
       " 'PETCT_7a77b26403_10202000.npz',\n",
       " 'PETCT_f47e31ceb5_07262003.pkl',\n",
       " 'PETCT_c094a24c03_03042007.pkl',\n",
       " 'PETCT_f65602d938_03252007.npz',\n",
       " 'PETCT_a2676f03c0_05092003.npz',\n",
       " 'PETCT_5001354a69_11282002.pkl',\n",
       " 'PETCT_389462c0ac_03032005.npz',\n",
       " 'PETCT_75d1080946_07282003.pkl',\n",
       " 'PETCT_742a9413db_11102001.pkl',\n",
       " 'PETCT_b62864161e_07282002.nii.gz',\n",
       " 'PETCT_e69152b6b4_01262004.npz',\n",
       " 'PETCT_7f2a604e03_05052002.npz',\n",
       " 'PETCT_4f7a8f41c0_05272001.pkl',\n",
       " 'PETCT_e69152b6b4_01262004.nii.gz',\n",
       " 'PETCT_bbb83facb4_08232001.npz',\n",
       " 'PETCT_2ad62beb52_03082003.pkl',\n",
       " 'PETCT_855c7fca12_07272006.nii.gz',\n",
       " 'PETCT_8b40e356dc_06182007.npz',\n",
       " 'PETCT_c9f1b9980f_09152003.npz',\n",
       " 'PETCT_544676de40_12152005.pkl',\n",
       " 'PETCT_0fa313309d_10032005.nii.gz',\n",
       " 'PETCT_f15b868db6_02032006.npz',\n",
       " 'PETCT_62405d117c_03112001.pkl',\n",
       " 'PETCT_ae96f738c0_05012003.npz',\n",
       " 'PETCT_f15b868db6_02032006.nii.gz',\n",
       " 'PETCT_a57bd6b006_11092002.npz',\n",
       " 'PETCT_75046e0c12_10292004.npz',\n",
       " 'PETCT_e5d50c5569_08242006.npz',\n",
       " 'PETCT_c7fd7e3e30_11132003.nii.gz',\n",
       " 'PETCT_e0a7ccecad_01282006.pkl',\n",
       " 'PETCT_e0fdc6212a_05292003.npz',\n",
       " 'PETCT_912a25778f_05172007.pkl',\n",
       " 'PETCT_ea0fd89f0f_10252003.pkl',\n",
       " 'PETCT_2b8064fbe2_06112006.nii.gz',\n",
       " 'PETCT_fbd907a179_10042003.npz',\n",
       " 'PETCT_12025abab5_11012004.npz',\n",
       " 'PETCT_a1bc00ad60_08102006.pkl',\n",
       " 'PETCT_0143bab87a_07172005.npz',\n",
       " 'PETCT_a57bd6b006_11092002.pkl',\n",
       " 'PETCT_846c1af245_12062002.npz',\n",
       " 'PETCT_416d3b9b78_08142006.npz',\n",
       " 'PETCT_c58477f3b4_12072002.pkl',\n",
       " 'PETCT_20995a0fe1_12022005.nii.gz',\n",
       " 'PETCT_63508c679d_08212005.nii.gz',\n",
       " 'PETCT_846c1af245_12062002.nii.gz',\n",
       " 'PETCT_ba717a1f22_03282003.nii.gz',\n",
       " 'PETCT_a1bc00ad60_03062003.nii.gz',\n",
       " 'PETCT_777fa0ba88_04072003.npz',\n",
       " 'PETCT_b1aa7ce13e_03092003.npz',\n",
       " 'PETCT_544676de40_12152005.npz',\n",
       " 'PETCT_a37b4bca43_06232002.nii.gz',\n",
       " 'PETCT_ba717a1f22_03282003.pkl',\n",
       " 'PETCT_05bed31780_11242003.npz',\n",
       " 'PETCT_4be28f9cd7_02032002.npz',\n",
       " 'PETCT_2b8064fbe2_06112006.npz',\n",
       " 'PETCT_e6a91fef70_03022006.npz',\n",
       " 'PETCT_8b14e6a819_01292006.nii.gz',\n",
       " 'PETCT_2f587d00b1_09272004.nii.gz',\n",
       " 'PETCT_9a83943958_08032003.pkl',\n",
       " 'PETCT_35c9c85a96_09232005.npz',\n",
       " 'PETCT_e0fdc6212a_05292003.nii.gz',\n",
       " 'PETCT_0011f3deaf_03232003.nii.gz',\n",
       " 'PETCT_a933c9af60_09192002.pkl',\n",
       " 'PETCT_1f2a4f4280_12202002.npz',\n",
       " 'PETCT_f65602d938_03252007.pkl',\n",
       " 'PETCT_da6161d7eb_06202003.npz',\n",
       " 'PETCT_380f71df1e_08192001.pkl',\n",
       " 'PETCT_4f7a8f41c0_05272001.nii.gz',\n",
       " 'PETCT_af547fa618_03112006.nii.gz',\n",
       " 'PETCT_09ee00bdc6_09302005.npz',\n",
       " 'PETCT_277fc3c67c_11152003.nii.gz',\n",
       " 'PETCT_2d9638360e_09092005.npz',\n",
       " 'PETCT_b327726c24_08272000.npz',\n",
       " 'PETCT_e90a287d09_02242003.nii.gz',\n",
       " 'PETCT_5ac322455f_05262003.npz',\n",
       " 'PETCT_8bebb676bf_12202002.npz',\n",
       " 'PETCT_9a66a81ad1_10312004.nii.gz',\n",
       " 'PETCT_e77124b7f4_09292005.npz',\n",
       " 'PETCT_e2309b8f92_06032007.pkl',\n",
       " 'PETCT_9ffd8409b3_07152005.pkl',\n",
       " 'PETCT_389462c0ac_03032005.nii.gz',\n",
       " 'PETCT_e90a287d09_02242003.npz',\n",
       " 'PETCT_f9e0c504af_06292003.nii.gz',\n",
       " 'PETCT_30e2b83b74_09012002.npz',\n",
       " 'PETCT_d8d9e52cd5_05072007.npz',\n",
       " 'PETCT_3bce0eb7aa_06032007.npz',\n",
       " 'PETCT_277fc3c67c_11152003.npz',\n",
       " 'PETCT_a19c2a0c65_03052006.nii.gz',\n",
       " 'PETCT_456d14846b_09012003.nii.gz',\n",
       " 'PETCT_2f9aec0275_05312003.pkl',\n",
       " 'PETCT_ba717a1f22_03282003.npz',\n",
       " 'PETCT_978c395243_01132005.pkl',\n",
       " 'PETCT_f1594a7d8a_04252003.npz',\n",
       " 'PETCT_b41bc7c1e5_11052006.npz',\n",
       " 'PETCT_e2309b8f92_06032007.npz',\n",
       " 'PETCT_572fca6b44_05232005.nii.gz',\n",
       " 'PETCT_5420205a5f_12072006.nii.gz',\n",
       " 'PETCT_a37b4bca43_06232002.npz',\n",
       " 'PETCT_9c8842d12e_01252004.nii.gz',\n",
       " 'PETCT_55ca11402a_06052003.npz',\n",
       " 'PETCT_ea0fd89f0f_10252003.npz',\n",
       " 'PETCT_f9e0c504af_06292003.npz',\n",
       " 'PETCT_a4cb97ffc7_07112005.pkl',\n",
       " 'PETCT_a29cae0316_06292006.nii.gz',\n",
       " 'PETCT_5d994c3f44_03052006.pkl',\n",
       " 'PETCT_a29cae0316_06292006.pkl',\n",
       " 'PETCT_4776e75543_04012007.nii.gz',\n",
       " 'PETCT_76ebd5c736_12292005.nii.gz',\n",
       " 'PETCT_61d5bc58fc_06232006.npz',\n",
       " 'PETCT_7f2a604e03_05052002.nii.gz',\n",
       " 'PETCT_36bb0257fc_08032003.npz',\n",
       " 'PETCT_12025abab5_11012004.pkl',\n",
       " 'PETCT_23ed525e82_08012003.pkl',\n",
       " 'PETCT_da4ce0da01_06132003.npz',\n",
       " 'PETCT_da6161d7eb_06202003.pkl',\n",
       " 'PETCT_5c55b3087d_12112000.nii.gz',\n",
       " 'PETCT_c094a24c03_03042007.npz',\n",
       " 'PETCT_0143bab87a_07172005.pkl',\n",
       " 'PETCT_0410759456_11072002.npz',\n",
       " 'PETCT_a87dda9193_01262003.npz',\n",
       " 'PETCT_40f0749cb7_10062001.pkl',\n",
       " 'PETCT_2b8064fbe2_06112006.pkl',\n",
       " 'PETCT_23ed525e82_08012003.nii.gz',\n",
       " 'PETCT_5bd311a5e9_09122005.nii.gz',\n",
       " 'PETCT_c58477f3b4_12072002.nii.gz',\n",
       " 'PETCT_ca29501275_11042004.pkl',\n",
       " 'PETCT_15f4b7254f_07182003.pkl',\n",
       " 'PETCT_eee2ede9ad_11242006.pkl',\n",
       " 'PETCT_802f19931c_06302002.nii.gz',\n",
       " 'PETCT_fc0389a486_05302005.pkl',\n",
       " 'PETCT_901573a747_05132005.pkl',\n",
       " 'PETCT_ae96f738c0_09112003.nii.gz',\n",
       " 'PETCT_c7fd7e3e30_11132003.pkl',\n",
       " 'PETCT_eee2ede9ad_11242006.nii.gz',\n",
       " 'PETCT_e664932bbc_06092007.pkl',\n",
       " 'PETCT_62a78a061f_08292005.nii.gz',\n",
       " 'PETCT_a2676f03c0_05092003.pkl',\n",
       " 'PETCT_e52eca67d7_03132006.nii.gz',\n",
       " 'PETCT_2f9aec0275_05312003.npz',\n",
       " 'PETCT_a87dda9193_01262003.nii.gz',\n",
       " 'PETCT_2745fb1adb_12212002.nii.gz',\n",
       " 'PETCT_ae8c77a995_05182007.npz',\n",
       " 'PETCT_38733c001e_07282006.npz',\n",
       " 'PETCT_e6a91fef70_03022006.pkl',\n",
       " 'PETCT_b62864161e_07282002.npz',\n",
       " 'PETCT_ea0fd89f0f_10252003.nii.gz',\n",
       " 'PETCT_389c968170_08192005.pkl',\n",
       " 'PETCT_e664932bbc_06092007.nii.gz',\n",
       " 'PETCT_cc7cb73213_12182004.pkl',\n",
       " 'PETCT_e2834e6f5c_06142002.nii.gz',\n",
       " 'PETCT_770ee48d09_07152005.pkl',\n",
       " 'PETCT_86e54ea60a_03182002.npz',\n",
       " 'PETCT_1a1712f7d0_02162007.nii.gz',\n",
       " 'PETCT_2745fb1adb_12212002.npz',\n",
       " 'PETCT_41fadf6520_02272003.npz',\n",
       " 'PETCT_d46f0109f8_09092000.nii.gz',\n",
       " 'PETCT_642d6c78d6_09102005.nii.gz',\n",
       " 'PETCT_c16c13211c_10262003.npz',\n",
       " 'PETCT_274688d0a8_03242007.nii.gz',\n",
       " 'PETCT_389c968170_08192005.nii.gz',\n",
       " 'PETCT_2f587d00b1_09272004.pkl',\n",
       " 'PETCT_173b804eda_10112004.npz',\n",
       " 'PETCT_c38b168f1a_04152006.pkl',\n",
       " 'PETCT_36bb0257fc_08032003.nii.gz',\n",
       " 'PETCT_e03b96666f_05172001.nii.gz',\n",
       " 'PETCT_4776e75543_04012007.npz',\n",
       " 'PETCT_855c7fca12_07272006.npz',\n",
       " 'PETCT_4be28f9cd7_02032002.nii.gz',\n",
       " 'PETCT_61d5bc58fc_06232006.nii.gz',\n",
       " 'PETCT_fc0389a486_05302005.nii.gz',\n",
       " 'PETCT_15f4b7254f_07182003.nii.gz',\n",
       " 'PETCT_35c9c85a96_04082005.nii.gz',\n",
       " 'PETCT_5420205a5f_12072006.pkl',\n",
       " 'PETCT_e2834e6f5c_06142002.pkl',\n",
       " 'PETCT_f47e31ceb5_07262003.nii.gz',\n",
       " 'PETCT_870181d7fd_10312004.npz',\n",
       " 'PETCT_e69152b6b4_01262004.pkl',\n",
       " 'PETCT_eee2ede9ad_11242006.npz',\n",
       " 'PETCT_9837205b34_09012002.nii.gz',\n",
       " 'PETCT_5ef99b0b6b_09072000.pkl',\n",
       " 'PETCT_9c8842d12e_01252004.pkl',\n",
       " 'PETCT_fc0389a486_05302005.npz',\n",
       " 'PETCT_3cf68da275_03202003.pkl',\n",
       " 'PETCT_2716c9bfff_10312002.pkl',\n",
       " 'PETCT_76ebd5c736_12292005.pkl',\n",
       " 'PETCT_2dc17aaeaf_07012005.npz',\n",
       " 'PETCT_6dd36a2c19_11282003.npz',\n",
       " 'PETCT_9b9d67b3ff_07122003.pkl',\n",
       " 'PETCT_39eca178a1_06082003.npz',\n",
       " 'PETCT_9a83943958_08032003.npz',\n",
       " 'PETCT_416d3b9b78_08142006.nii.gz',\n",
       " 'PETCT_ca5406d339_12092004.npz',\n",
       " 'PETCT_d8d9e52cd5_05072007.pkl',\n",
       " 'PETCT_fbd907a179_10042003.pkl',\n",
       " 'PETCT_55d55902c6_05112006.npz',\n",
       " 'PETCT_c9f1b9980f_09152003.pkl',\n",
       " 'PETCT_5bd311a5e9_09122005.npz',\n",
       " 'PETCT_a87dda9193_01262003.pkl',\n",
       " 'PETCT_25707f94a2_07032003.nii.gz',\n",
       " 'PETCT_777fa0ba88_04072003.nii.gz',\n",
       " 'PETCT_f47e31ceb5_07262003.npz',\n",
       " 'PETCT_0e2034240b_01312003.npz',\n",
       " 'PETCT_49f3d297b0_07242003.npz',\n",
       " 'PETCT_6aea5c3a03_12272001.pkl',\n",
       " 'PETCT_b2f82ed4b9_04172003.npz',\n",
       " 'PETCT_7a77b26403_10202000.nii.gz',\n",
       " 'PETCT_55819a54c2_04142007.pkl',\n",
       " 'PETCT_3c94a00f90_05112007.npz',\n",
       " 'PETCT_f1594a7d8a_04252003.nii.gz',\n",
       " 'PETCT_39eca178a1_06082003.pkl',\n",
       " 'PETCT_9a83943958_08032003.nii.gz',\n",
       " 'PETCT_e6b8b963b2_12222006.nii.gz',\n",
       " 'PETCT_faf4a6dbaa_01102003.nii.gz',\n",
       " 'PETCT_f1594a7d8a_04252003.pkl',\n",
       " 'PETCT_82137245b0_01262002.npz',\n",
       " 'PETCT_8af3757198_12032006.pkl',\n",
       " 'PETCT_760c77b289_01202002.pkl',\n",
       " 'PETCT_9b9d67b3ff_07122003.nii.gz',\n",
       " 'PETCT_40f0749cb7_10062001.npz',\n",
       " 'PETCT_d8d9e52cd5_07042004.nii.gz',\n",
       " 'PETCT_e90a287d09_02242003.pkl',\n",
       " 'PETCT_a4cb97ffc7_07112005.nii.gz',\n",
       " 'PETCT_1fcfa34d10_09192003.pkl',\n",
       " 'PETCT_63508c679d_08212005.pkl',\n",
       " 'PETCT_ae96f738c0_09112003.npz',\n",
       " 'PETCT_5d994c3f44_03052006.nii.gz',\n",
       " 'PETCT_ae96f738c0_05012003.pkl',\n",
       " 'PETCT_05bed31780_11242003.nii.gz',\n",
       " 'PETCT_f7a9267a69_02012003.pkl',\n",
       " 'PETCT_01682f60c3_03112002.nii.gz',\n",
       " 'PETCT_4be28f9cd7_02032002.pkl',\n",
       " 'PETCT_fe705ea1cc_12292002.nii.gz',\n",
       " 'PETCT_f5cff2e59d_05102007.pkl',\n",
       " 'PETCT_49f3d297b0_07242003.pkl',\n",
       " 'PETCT_389c968170_08192005.npz',\n",
       " 'PETCT_44bf7dc508_07252002.pkl',\n",
       " 'PETCT_6dd36a2c19_11282003.pkl',\n",
       " 'PETCT_d8d9e52cd5_07042004.npz',\n",
       " 'PETCT_770ee48d09_07152005.nii.gz',\n",
       " 'PETCT_e52eca67d7_03132006.npz',\n",
       " 'PETCT_9837205b34_09012002.pkl',\n",
       " 'PETCT_94962fe878_06012007.nii.gz',\n",
       " 'PETCT_62a78a061f_08292005.npz',\n",
       " 'PETCT_770ee48d09_07152005.npz',\n",
       " 'PETCT_75d1080946_07282003.nii.gz',\n",
       " 'PETCT_685d7c09b5_12232000.npz',\n",
       " 'PETCT_9a2c6e618a_02142000.npz',\n",
       " 'PETCT_7a262070a9_11252005.pkl',\n",
       " 'PETCT_a19c2a0c65_03052006.pkl',\n",
       " 'PETCT_7a77b26403_10202000.pkl',\n",
       " 'PETCT_e6f6c84ec5_11052005.pkl',\n",
       " 'PETCT_c094a24c03_03042007.nii.gz',\n",
       " 'PETCT_23ed525e82_08012003.npz',\n",
       " 'PETCT_ca47fe5e7d_09012003.nii.gz',\n",
       " 'PETCT_14f931f634_06092005.pkl',\n",
       " 'PETCT_0410759456_11072002.nii.gz',\n",
       " 'PETCT_2745fb1adb_12212002.pkl',\n",
       " 'PETCT_5ef99b0b6b_09072000.nii.gz',\n",
       " 'PETCT_cd50f3fec4_12012002.nii.gz',\n",
       " 'PETCT_901573a747_05132005.npz',\n",
       " 'PETCT_7ef5343426_05122005.nii.gz',\n",
       " 'PETCT_a1bc00ad60_03062003.pkl',\n",
       " 'PETCT_870181d7fd_10312004.nii.gz',\n",
       " 'PETCT_d0ea6c975f_10112002.pkl',\n",
       " 'PETCT_572fca6b44_05232005.pkl',\n",
       " 'PETCT_a1bc00ad60_03062003.npz',\n",
       " 'PETCT_4a0d2e5166_11242006.npz',\n",
       " 'PETCT_5ac322455f_05262003.pkl',\n",
       " 'PETCT_0e2034240b_01312003.nii.gz',\n",
       " 'PETCT_2d9638360e_09092005.pkl',\n",
       " 'PETCT_1a1712f7d0_02162007.npz',\n",
       " 'PETCT_41fadf6520_02272003.pkl',\n",
       " 'PETCT_901573a747_05132005.nii.gz',\n",
       " 'PETCT_8af3757198_12032006.npz',\n",
       " 'PETCT_cc7cb73213_12182004.npz',\n",
       " 'PETCT_416d3b9b78_08142006.pkl',\n",
       " 'PETCT_855c7fca12_07272006.pkl',\n",
       " 'PETCT_c227131152_10262003.npz',\n",
       " 'PETCT_be3e55a32f_04052001.nii.gz',\n",
       " 'PETCT_49f3d297b0_07242003.nii.gz',\n",
       " 'PETCT_d4a08e4bde_03162006.pkl',\n",
       " 'PETCT_0fa313309d_10032005.npz',\n",
       " 'PETCT_2716c9bfff_10312002.npz',\n",
       " 'PETCT_cd50f3fec4_12012002.pkl',\n",
       " 'PETCT_7a262070a9_11252005.nii.gz',\n",
       " 'PETCT_e5d50c5569_08242006.nii.gz',\n",
       " 'PETCT_61d5bc58fc_06232006.pkl',\n",
       " 'PETCT_249c02c01c_07262003.nii.gz',\n",
       " 'PETCT_e6f6c84ec5_11052005.npz',\n",
       " 'PETCT_7d97f7a102_04212002.pkl',\n",
       " 'PETCT_ca5406d339_12092004.pkl',\n",
       " 'PETCT_40f0749cb7_10062001.nii.gz',\n",
       " 'PETCT_1f6b6b0548_10162003.pkl',\n",
       " 'PETCT_642d6c78d6_09102005.npz',\n",
       " 'PETCT_9c8842d12e_01252004.npz',\n",
       " 'PETCT_7ef5343426_05122005.npz',\n",
       " 'PETCT_c9f1b9980f_09152003.nii.gz',\n",
       " 'PETCT_c7fd7e3e30_11132003.npz',\n",
       " 'PETCT_5e339b2ecf_11112005.npz',\n",
       " 'PETCT_3c94a00f90_05112007.nii.gz',\n",
       " 'PETCT_c4a686881e_04231999.nii.gz',\n",
       " 'PETCT_912a25778f_05172007.npz',\n",
       " 'PETCT_d626611daf_11122004.pkl',\n",
       " 'PETCT_b327726c24_08272000.pkl',\n",
       " 'PETCT_411801de5a_08252002.nii.gz',\n",
       " 'PETCT_ca47fe5e7d_09012003.pkl',\n",
       " 'PETCT_6dd36a2c19_11282003.nii.gz',\n",
       " 'PETCT_c58477f3b4_12072002.npz',\n",
       " 'PETCT_34aa521b46_03302007.npz',\n",
       " 'PETCT_c227131152_10262003.pkl',\n",
       " 'PETCT_249c02c01c_07262003.pkl',\n",
       " 'PETCT_34aa521b46_03302007.nii.gz',\n",
       " 'PETCT_a933c9af60_09192002.npz',\n",
       " 'PETCT_c38b168f1a_04152006.nii.gz',\n",
       " 'PETCT_456d14846b_09012003.npz',\n",
       " 'PETCT_345b11778a_10142005.nii.gz',\n",
       " 'PETCT_9ffd8409b3_07152005.npz',\n",
       " 'PETCT_a1bc00ad60_08102006.nii.gz',\n",
       " 'PETCT_41fadf6520_02272003.nii.gz',\n",
       " 'PETCT_e77124b7f4_09292005.pkl',\n",
       " 'PETCT_4a0d2e5166_11242006.pkl',\n",
       " 'PETCT_5420205a5f_12072006.npz',\n",
       " 'PETCT_411801de5a_08252002.pkl',\n",
       " 'PETCT_e2834e6f5c_06142002.npz',\n",
       " 'PETCT_2140db0ca5_04132007.npz',\n",
       " 'PETCT_39eca178a1_06082003.nii.gz',\n",
       " 'PETCT_ae8c77a995_05182007.nii.gz',\n",
       " 'PETCT_d46f0109f8_09092000.npz',\n",
       " 'PETCT_8c5d99b459_05042007.nii.gz',\n",
       " 'PETCT_474d7af918_12092004.pkl',\n",
       " 'PETCT_1f2a4f4280_12202002.nii.gz',\n",
       " 'PETCT_f65602d938_03252007.nii.gz',\n",
       " 'PETCT_8af3757198_12032006.nii.gz',\n",
       " 'PETCT_8b14e6a819_01292006.npz',\n",
       " 'PETCT_62a78a061f_08292005.pkl',\n",
       " 'PETCT_ed9dca00d2_09252004.npz',\n",
       " 'PETCT_5001354a69_11282002.npz',\n",
       " 'PETCT_2716c9bfff_10312002.nii.gz',\n",
       " 'PETCT_7f2a604e03_05052002.pkl',\n",
       " 'PETCT_38733c001e_07282006.pkl',\n",
       " 'PETCT_3cf68da275_03202003.nii.gz',\n",
       " 'PETCT_09ee00bdc6_09302005.nii.gz',\n",
       " 'PETCT_2ad62beb52_03082003.nii.gz',\n",
       " 'PETCT_963a71819a_10292001.pkl',\n",
       " 'PETCT_ed9dca00d2_09252004.pkl',\n",
       " 'PETCT_cd50f3fec4_12012002.npz',\n",
       " 'PETCT_1291700093_07132003.nii.gz',\n",
       " 'PETCT_4f7a8f41c0_05272001.npz',\n",
       " 'PETCT_ed9dca00d2_09252004.nii.gz',\n",
       " 'PETCT_d8a92bafe3_03182007.nii.gz',\n",
       " 'PETCT_20995a0fe1_12022005.npz',\n",
       " 'PETCT_8e02f36295_11082004.nii.gz',\n",
       " 'PETCT_7d97f7a102_04212002.nii.gz',\n",
       " 'PETCT_62405d117c_03112001.nii.gz',\n",
       " 'PETCT_963a71819a_10292001.nii.gz',\n",
       " 'PETCT_76ebd5c736_12292005.npz',\n",
       " 'PETCT_c227131152_10262003.nii.gz',\n",
       " 'PETCT_1fcfa34d10_09192003.nii.gz',\n",
       " 'PETCT_760c77b289_01202002.npz',\n",
       " 'PETCT_9a2c6e618a_02142000.pkl',\n",
       " 'PETCT_e6f6c84ec5_11052005.nii.gz',\n",
       " 'PETCT_e52eca67d7_03132006.pkl',\n",
       " 'PETCT_1cb2d26a19_06042007.nii.gz',\n",
       " 'PETCT_141fffa2a9_03012003.nii.gz',\n",
       " 'PETCT_35c9c85a96_04082005.pkl',\n",
       " 'PETCT_09ee00bdc6_09302005.pkl',\n",
       " 'PETCT_1f6b6b0548_10162003.npz',\n",
       " 'PETCT_0410759456_11072002.pkl',\n",
       " 'PETCT_25707f94a2_07032003.npz',\n",
       " 'PETCT_173b804eda_10112004.nii.gz',\n",
       " 'PETCT_5001354a69_11282002.nii.gz',\n",
       " 'PETCT_d626611daf_11122004.nii.gz',\n",
       " 'PETCT_d8d9e52cd5_07042004.pkl',\n",
       " 'PETCT_d0ea6c975f_10112002.nii.gz',\n",
       " 'PETCT_0143bab87a_07172005.nii.gz',\n",
       " 'PETCT_e6b8b963b2_12222006.npz',\n",
       " 'PETCT_141fffa2a9_03012003.pkl',\n",
       " 'PETCT_d65cf203be_04282007.nii.gz',\n",
       " 'PETCT_8b40e356dc_06182007.nii.gz',\n",
       " 'PETCT_ca29501275_11042004.nii.gz',\n",
       " 'PETCT_345b11778a_10142005.pkl',\n",
       " 'PETCT_61d5bc58fc_06152007.npz',\n",
       " 'PETCT_af547fa618_03112006.pkl',\n",
       " 'PETCT_802f19931c_06302002.pkl',\n",
       " 'PETCT_f5cff2e59d_05102007.nii.gz',\n",
       " 'PETCT_be3e55a32f_04052001.pkl',\n",
       " 'PETCT_1291700093_07132003.pkl',\n",
       " 'PETCT_d4a08e4bde_03162006.nii.gz',\n",
       " 'PETCT_fe705ea1cc_12292002.npz',\n",
       " 'PETCT_db3daf78d2_10302000.pkl',\n",
       " 'PETCT_e0a7ccecad_01282006.nii.gz',\n",
       " 'PETCT_21e4ffcb52_05062002.pkl',\n",
       " 'PETCT_da4ce0da01_06132003.nii.gz',\n",
       " 'PETCT_d8a92bafe3_03182007.pkl',\n",
       " 'PETCT_55819a54c2_04142007.nii.gz',\n",
       " 'PETCT_9a2c6e618a_02142000.nii.gz',\n",
       " 'PETCT_e61c9da258_12132002.nii.gz',\n",
       " 'PETCT_742a9413db_11102001.npz',\n",
       " 'PETCT_8e02f36295_11082004.npz',\n",
       " 'PETCT_a19c2a0c65_03052006.npz',\n",
       " 'PETCT_1cb2d26a19_06042007.npz',\n",
       " 'PETCT_6f46454a8d_09072003.pkl',\n",
       " 'PETCT_e03b96666f_05172001.pkl',\n",
       " 'PETCT_c16d325d12_02152003.npz',\n",
       " 'PETCT_c16d325d12_02152003.nii.gz',\n",
       " 'PETCT_d4a08e4bde_03162006.npz',\n",
       " 'PETCT_82137245b0_01262002.pkl',\n",
       " 'PETCT_35c9c85a96_04082005.npz',\n",
       " 'PETCT_2f9aec0275_05312003.nii.gz',\n",
       " 'PETCT_55d55902c6_05112006.nii.gz',\n",
       " 'PETCT_1291700093_07132003.npz',\n",
       " 'PETCT_6f46454a8d_09072003.npz',\n",
       " 'PETCT_94962fe878_06012007.npz',\n",
       " 'PETCT_bbb83facb4_08232001.pkl',\n",
       " 'PETCT_2ad62beb52_03082003.npz',\n",
       " 'PETCT_da6161d7eb_06202003.nii.gz',\n",
       " 'PETCT_277fc3c67c_11152003.pkl',\n",
       " 'PETCT_71ae114917_04132003.npz',\n",
       " 'PETCT_685d7c09b5_12232000.pkl',\n",
       " 'PETCT_75046e0c12_10292004.nii.gz',\n",
       " 'PETCT_912a25778f_05172007.nii.gz',\n",
       " 'PETCT_9837205b34_09012002.npz',\n",
       " 'PETCT_61d5bc58fc_06152007.pkl',\n",
       " 'PETCT_b2f82ed4b9_04172003.nii.gz',\n",
       " 'PETCT_af547fa618_03112006.npz',\n",
       " 'PETCT_f7a9267a69_02012003.npz',\n",
       " 'PETCT_3c94a00f90_05112007.pkl',\n",
       " 'PETCT_642d6c78d6_09102005.pkl',\n",
       " 'PETCT_d8d9e52cd5_05072007.nii.gz',\n",
       " 'PETCT_69c90b6820_11212005.nii.gz',\n",
       " 'PETCT_544676de40_12152005.nii.gz',\n",
       " 'PETCT_2f587d00b1_09272004.npz',\n",
       " 'PETCT_30e2b83b74_09012002.nii.gz',\n",
       " 'PETCT_2140db0ca5_04132007.nii.gz',\n",
       " 'PETCT_4b688f46b0_02182005.nii.gz',\n",
       " 'PETCT_e0a7ccecad_01282006.npz',\n",
       " 'PETCT_685d7c09b5_12232000.nii.gz',\n",
       " 'PETCT_e6a91fef70_03022006.nii.gz',\n",
       " 'PETCT_55819a54c2_04142007.npz',\n",
       " 'PETCT_760c77b289_01202002.nii.gz',\n",
       " 'PETCT_63508c679d_08212005.npz',\n",
       " 'PETCT_e5d50c5569_08242006.pkl',\n",
       " 'PETCT_36bb0257fc_08032003.pkl',\n",
       " 'PETCT_25707f94a2_07032003.pkl',\n",
       " 'PETCT_ae96f738c0_05012003.nii.gz',\n",
       " 'PETCT_0fa313309d_10032005.pkl',\n",
       " 'PETCT_2dc17aaeaf_07012005.pkl',\n",
       " 'PETCT_01682f60c3_03112002.npz',\n",
       " 'PETCT_db3daf78d2_10302000.npz',\n",
       " 'PETCT_20995a0fe1_12022005.pkl',\n",
       " 'PETCT_a933c9af60_09192002.nii.gz',\n",
       " 'PETCT_e0fdc6212a_05292003.pkl',\n",
       " 'PETCT_411801de5a_08252002.npz',\n",
       " 'PETCT_742a9413db_11102001.nii.gz',\n",
       " 'PETCT_6f46454a8d_09072003.nii.gz',\n",
       " 'PETCT_1f6b6b0548_10162003.nii.gz',\n",
       " 'PETCT_30e2b83b74_09012002.pkl',\n",
       " 'PETCT_15f4b7254f_07182003.npz',\n",
       " 'PETCT_21e4ffcb52_05062002.nii.gz',\n",
       " 'PETCT_c16c13211c_10262003.pkl',\n",
       " 'PETCT_a1bc00ad60_08102006.npz',\n",
       " 'PETCT_b1aa7ce13e_03092003.pkl',\n",
       " 'PETCT_3cf68da275_03202003.npz',\n",
       " 'PETCT_7a262070a9_11252005.npz',\n",
       " 'PETCT_35c9c85a96_09232005.nii.gz',\n",
       " 'PETCT_fbd907a179_10042003.nii.gz',\n",
       " 'PETCT_3bce0eb7aa_06032007.nii.gz',\n",
       " 'PETCT_5bd311a5e9_09122005.pkl',\n",
       " 'PETCT_55ca11402a_06052003.nii.gz',\n",
       " 'PETCT_380f71df1e_08192001.npz',\n",
       " 'PETCT_a29cae0316_06292006.npz',\n",
       " 'PETCT_474d7af918_12092004.nii.gz',\n",
       " 'PETCT_4b688f46b0_02182005.pkl',\n",
       " 'PETCT_69c90b6820_11212005.npz',\n",
       " 'PETCT_2d9638360e_09092005.nii.gz',\n",
       " 'PETCT_a57bd6b006_11092002.nii.gz',\n",
       " 'PETCT_474d7af918_12092004.npz',\n",
       " 'PETCT_14f931f634_06092005.nii.gz',\n",
       " 'PETCT_b41bc7c1e5_11052006.nii.gz',\n",
       " 'PETCT_71ae114917_04132003.pkl',\n",
       " 'PETCT_d65cf203be_04282007.npz',\n",
       " 'PETCT_8b73608326_04042003.pkl',\n",
       " 'PETCT_5c55b3087d_12112000.pkl',\n",
       " 'PETCT_173b804eda_10112004.pkl',\n",
       " 'PETCT_86e54ea60a_03182002.pkl',\n",
       " 'PETCT_8b40e356dc_06182007.pkl',\n",
       " 'PETCT_1f2a4f4280_12202002.pkl',\n",
       " 'PETCT_55ca11402a_06052003.pkl',\n",
       " 'PETCT_846c1af245_12062002.pkl',\n",
       " 'PETCT_9a66a81ad1_10312004.pkl',\n",
       " 'PETCT_6aea5c3a03_12272001.npz',\n",
       " 'PETCT_2946d59a94_11062006.nii.gz',\n",
       " 'PETCT_d0ea6c975f_10112002.npz',\n",
       " 'PETCT_5e339b2ecf_11112005.nii.gz',\n",
       " 'PETCT_e2309b8f92_06032007.nii.gz',\n",
       " 'PETCT_2140db0ca5_04132007.pkl',\n",
       " 'PETCT_8b73608326_04042003.nii.gz',\n",
       " 'PETCT_f15b868db6_02032006.pkl',\n",
       " 'PETCT_8b73608326_04042003.npz',\n",
       " 'PETCT_62405d117c_03112001.npz',\n",
       " 'PETCT_ae3074834a_07262003.nii.gz',\n",
       " 'PETCT_f5cff2e59d_05102007.npz',\n",
       " 'PETCT_591b3025ff_11132004.npz',\n",
       " 'PETCT_14f931f634_06092005.npz',\n",
       " 'PETCT_ae8c77a995_05182007.pkl',\n",
       " 'PETCT_05bed31780_11242003.pkl',\n",
       " 'PETCT_7d97f7a102_04212002.npz',\n",
       " 'PETCT_c4a686881e_04231999.pkl',\n",
       " 'PETCT_86e54ea60a_03182002.nii.gz',\n",
       " 'PETCT_75d1080946_07282003.npz',\n",
       " 'PETCT_591b3025ff_11132004.pkl',\n",
       " 'PETCT_c16c13211c_10262003.nii.gz',\n",
       " 'PETCT_5ac322455f_05262003.nii.gz',\n",
       " 'PETCT_e77124b7f4_09292005.nii.gz',\n",
       " 'PETCT_f9e0c504af_06292003.pkl',\n",
       " 'PETCT_1cb2d26a19_06042007.pkl',\n",
       " 'PETCT_249c02c01c_07262003.npz',\n",
       " 'PETCT_8c5d99b459_05042007.pkl',\n",
       " 'PETCT_8b14e6a819_01292006.pkl',\n",
       " 'PETCT_274688d0a8_03242007.npz',\n",
       " 'PETCT_a37b4bca43_06232002.pkl',\n",
       " 'PETCT_4a0d2e5166_11242006.nii.gz',\n",
       " 'PETCT_e664932bbc_06092007.npz',\n",
       " 'PETCT_c38b168f1a_04152006.npz',\n",
       " 'PETCT_ca29501275_11042004.npz',\n",
       " 'PETCT_e6b8b963b2_12222006.pkl',\n",
       " 'PETCT_5ef99b0b6b_09072000.npz',\n",
       " 'PETCT_8c5d99b459_05042007.npz',\n",
       " 'PETCT_61d5bc58fc_06152007.nii.gz',\n",
       " 'PETCT_b1aa7ce13e_03092003.nii.gz',\n",
       " 'PETCT_389462c0ac_03032005.pkl',\n",
       " 'PETCT_44bf7dc508_07252002.nii.gz',\n",
       " 'PETCT_ae3074834a_07262003.pkl',\n",
       " 'PETCT_01682f60c3_03112002.pkl',\n",
       " 'PETCT_da4ce0da01_06132003.pkl',\n",
       " 'PETCT_34aa521b46_03302007.pkl',\n",
       " 'PETCT_5c55b3087d_12112000.npz',\n",
       " 'PETCT_94962fe878_06012007.pkl',\n",
       " 'summary.json',\n",
       " 'PETCT_978c395243_01132005.npz',\n",
       " 'PETCT_d626611daf_11122004.npz',\n",
       " 'PETCT_e03b96666f_05172001.npz',\n",
       " 'PETCT_1fcfa34d10_09192003.npz',\n",
       " 'PETCT_9a66a81ad1_10312004.npz',\n",
       " 'PETCT_4776e75543_04012007.pkl',\n",
       " 'PETCT_2dc17aaeaf_07012005.nii.gz',\n",
       " 'PETCT_3bce0eb7aa_06032007.pkl',\n",
       " 'PETCT_591b3025ff_11132004.nii.gz',\n",
       " 'PETCT_faf4a6dbaa_01102003.pkl',\n",
       " 'PETCT_4b688f46b0_02182005.npz',\n",
       " 'PETCT_141fffa2a9_03012003.npz',\n",
       " 'PETCT_0e2034240b_01312003.pkl',\n",
       " 'PETCT_ae3074834a_07262003.npz',\n",
       " 'PETCT_d46f0109f8_09092000.pkl',\n",
       " 'PETCT_bbb83facb4_08232001.nii.gz',\n",
       " 'PETCT_71ae114917_04132003.nii.gz',\n",
       " 'PETCT_b62864161e_07282002.pkl',\n",
       " 'PETCT_8bebb676bf_12202002.nii.gz',\n",
       " 'PETCT_cc7cb73213_12182004.nii.gz',\n",
       " 'PETCT_a4cb97ffc7_07112005.npz',\n",
       " 'PETCT_345b11778a_10142005.npz',\n",
       " 'PETCT_870181d7fd_10312004.pkl',\n",
       " 'PETCT_963a71819a_10292001.npz',\n",
       " 'PETCT_9b9d67b3ff_07122003.npz',\n",
       " 'PETCT_8e02f36295_11082004.pkl',\n",
       " 'PETCT_38733c001e_07282006.nii.gz',\n",
       " 'PETCT_c16d325d12_02152003.pkl',\n",
       " 'PETCT_5e339b2ecf_11112005.pkl']"
      ]
     },
     "execution_count": 130,
     "metadata": {},
     "output_type": "execute_result"
    }
   ],
   "source": [
    "os.listdir('nnUNet_results/Dataset218_PETCT/nnUNetTrainer__nnUNetPlans__3d_fullres/fold_0/validation/')"
   ]
  },
  {
   "cell_type": "code",
   "execution_count": 131,
   "id": "7c118fe0",
   "metadata": {},
   "outputs": [],
   "source": [
    "fold0_path = 'nnUNet_results/Dataset218_PETCT/nnUNetTrainer__nnUNetPlans__3d_fullres/fold_0/validation/'\n",
    "ex_npz = 'PETCT_be3e55a32f_04052001.npz'\n",
    "ex_pkl = 'PETCT_75046e0c12_10292004.pkl'"
   ]
  },
  {
   "cell_type": "code",
   "execution_count": 132,
   "id": "e0cb8be1",
   "metadata": {},
   "outputs": [],
   "source": [
    "npz= np.load(os.path.join(fold0_path,ex_npz))"
   ]
  },
  {
   "cell_type": "code",
   "execution_count": 134,
   "id": "e8403a42",
   "metadata": {},
   "outputs": [
    {
     "data": {
      "text/plain": [
       "NpzFile 'nnUNet_results/Dataset218_PETCT/nnUNetTrainer__nnUNetPlans__3d_fullres/fold_0/validation/PETCT_be3e55a32f_04052001.npz' with keys: probabilities"
      ]
     },
     "execution_count": 134,
     "metadata": {},
     "output_type": "execute_result"
    }
   ],
   "source": [
    "npz"
   ]
  },
  {
   "cell_type": "code",
   "execution_count": 133,
   "id": "f2dd27fb",
   "metadata": {},
   "outputs": [
    {
     "name": "stdout",
     "output_type": "stream",
     "text": [
      "(2, 284, 400, 400)\n",
      "1.0\n",
      "0.000114219954\n",
      "0.9998859\n"
     ]
    }
   ],
   "source": [
    "print(npz['probabilities'].shape)\n",
    "print((npz['probabilities'][0]+npz['probabilities'][1]).flatten().mean())\n",
    "print(npz['probabilities'][1].flatten().mean())\n",
    "print(npz['probabilities'][0].flatten().mean())"
   ]
  },
  {
   "cell_type": "code",
   "execution_count": 15,
   "id": "c3a1b31e",
   "metadata": {},
   "outputs": [
    {
     "data": {
      "text/plain": [
       "array([[[[9.9999988e-01, 9.9999988e-01, 9.9999988e-01, ...,\n",
       "          9.9999988e-01, 9.9999988e-01, 9.9999988e-01],\n",
       "         [9.9999976e-01, 9.9999988e-01, 1.0000000e+00, ...,\n",
       "          1.0000000e+00, 9.9999988e-01, 9.9999976e-01],\n",
       "         [9.9999976e-01, 9.9999988e-01, 9.9999988e-01, ...,\n",
       "          9.9999988e-01, 9.9999988e-01, 9.9999976e-01],\n",
       "         ...,\n",
       "         [9.9999988e-01, 1.0000000e+00, 1.0000000e+00, ...,\n",
       "          1.0000000e+00, 1.0000000e+00, 9.9999988e-01],\n",
       "         [1.0000000e+00, 1.0000000e+00, 1.0000000e+00, ...,\n",
       "          1.0000000e+00, 1.0000000e+00, 1.0000000e+00],\n",
       "         [9.9999988e-01, 1.0000000e+00, 1.0000000e+00, ...,\n",
       "          1.0000000e+00, 1.0000000e+00, 9.9999988e-01]],\n",
       "\n",
       "        [[1.0000000e+00, 1.0000000e+00, 1.0000000e+00, ...,\n",
       "          1.0000000e+00, 1.0000000e+00, 1.0000000e+00],\n",
       "         [1.0000000e+00, 1.0000000e+00, 1.0000000e+00, ...,\n",
       "          1.0000000e+00, 1.0000000e+00, 1.0000000e+00],\n",
       "         [1.0000000e+00, 1.0000000e+00, 1.0000000e+00, ...,\n",
       "          1.0000000e+00, 1.0000000e+00, 1.0000000e+00],\n",
       "         ...,\n",
       "         [1.0000000e+00, 1.0000000e+00, 1.0000000e+00, ...,\n",
       "          1.0000000e+00, 1.0000000e+00, 1.0000000e+00],\n",
       "         [1.0000000e+00, 1.0000000e+00, 1.0000000e+00, ...,\n",
       "          1.0000000e+00, 1.0000000e+00, 1.0000000e+00],\n",
       "         [1.0000000e+00, 1.0000000e+00, 1.0000000e+00, ...,\n",
       "          1.0000000e+00, 1.0000000e+00, 1.0000000e+00]],\n",
       "\n",
       "        [[1.0000000e+00, 1.0000000e+00, 1.0000000e+00, ...,\n",
       "          1.0000000e+00, 1.0000000e+00, 1.0000000e+00],\n",
       "         [1.0000000e+00, 1.0000000e+00, 1.0000000e+00, ...,\n",
       "          1.0000000e+00, 1.0000000e+00, 1.0000000e+00],\n",
       "         [1.0000000e+00, 1.0000000e+00, 1.0000000e+00, ...,\n",
       "          1.0000000e+00, 1.0000000e+00, 1.0000000e+00],\n",
       "         ...,\n",
       "         [1.0000000e+00, 1.0000000e+00, 1.0000000e+00, ...,\n",
       "          1.0000000e+00, 1.0000000e+00, 1.0000000e+00],\n",
       "         [1.0000000e+00, 1.0000000e+00, 1.0000000e+00, ...,\n",
       "          1.0000000e+00, 1.0000000e+00, 1.0000000e+00],\n",
       "         [1.0000000e+00, 1.0000000e+00, 1.0000000e+00, ...,\n",
       "          1.0000000e+00, 1.0000000e+00, 1.0000000e+00]],\n",
       "\n",
       "        ...,\n",
       "\n",
       "        [[1.0000000e+00, 1.0000000e+00, 1.0000000e+00, ...,\n",
       "          1.0000000e+00, 1.0000000e+00, 1.0000000e+00],\n",
       "         [1.0000000e+00, 1.0000000e+00, 1.0000000e+00, ...,\n",
       "          1.0000000e+00, 1.0000000e+00, 1.0000000e+00],\n",
       "         [1.0000000e+00, 1.0000000e+00, 1.0000000e+00, ...,\n",
       "          1.0000000e+00, 1.0000000e+00, 1.0000000e+00],\n",
       "         ...,\n",
       "         [1.0000000e+00, 1.0000000e+00, 1.0000000e+00, ...,\n",
       "          1.0000000e+00, 1.0000000e+00, 1.0000000e+00],\n",
       "         [1.0000000e+00, 1.0000000e+00, 1.0000000e+00, ...,\n",
       "          1.0000000e+00, 1.0000000e+00, 1.0000000e+00],\n",
       "         [1.0000000e+00, 1.0000000e+00, 1.0000000e+00, ...,\n",
       "          1.0000000e+00, 1.0000000e+00, 1.0000000e+00]],\n",
       "\n",
       "        [[1.0000000e+00, 1.0000000e+00, 1.0000000e+00, ...,\n",
       "          1.0000000e+00, 1.0000000e+00, 1.0000000e+00],\n",
       "         [1.0000000e+00, 1.0000000e+00, 1.0000000e+00, ...,\n",
       "          1.0000000e+00, 1.0000000e+00, 1.0000000e+00],\n",
       "         [1.0000000e+00, 1.0000000e+00, 1.0000000e+00, ...,\n",
       "          1.0000000e+00, 1.0000000e+00, 1.0000000e+00],\n",
       "         ...,\n",
       "         [1.0000000e+00, 1.0000000e+00, 1.0000000e+00, ...,\n",
       "          1.0000000e+00, 1.0000000e+00, 1.0000000e+00],\n",
       "         [1.0000000e+00, 1.0000000e+00, 1.0000000e+00, ...,\n",
       "          1.0000000e+00, 1.0000000e+00, 1.0000000e+00],\n",
       "         [1.0000000e+00, 1.0000000e+00, 1.0000000e+00, ...,\n",
       "          1.0000000e+00, 1.0000000e+00, 1.0000000e+00]],\n",
       "\n",
       "        [[9.9999988e-01, 9.9999988e-01, 9.9999988e-01, ...,\n",
       "          9.9999988e-01, 9.9999988e-01, 9.9999988e-01],\n",
       "         [9.9999976e-01, 9.9999988e-01, 1.0000000e+00, ...,\n",
       "          1.0000000e+00, 9.9999988e-01, 9.9999976e-01],\n",
       "         [9.9999976e-01, 9.9999988e-01, 9.9999988e-01, ...,\n",
       "          9.9999988e-01, 9.9999988e-01, 9.9999976e-01],\n",
       "         ...,\n",
       "         [9.9999988e-01, 1.0000000e+00, 1.0000000e+00, ...,\n",
       "          1.0000000e+00, 1.0000000e+00, 9.9999988e-01],\n",
       "         [9.9999988e-01, 1.0000000e+00, 1.0000000e+00, ...,\n",
       "          1.0000000e+00, 1.0000000e+00, 9.9999988e-01],\n",
       "         [9.9999988e-01, 1.0000000e+00, 1.0000000e+00, ...,\n",
       "          1.0000000e+00, 1.0000000e+00, 1.0000000e+00]]],\n",
       "\n",
       "\n",
       "       [[[1.3574332e-07, 1.6309934e-07, 1.4115072e-07, ...,\n",
       "          1.4563132e-07, 1.6762063e-07, 1.4677353e-07],\n",
       "         [1.8993903e-07, 7.6145099e-08, 4.1399375e-08, ...,\n",
       "          4.1724075e-08, 7.6145099e-08, 1.9750534e-07],\n",
       "         [1.8337749e-07, 7.9799378e-08, 6.1184309e-08, ...,\n",
       "          6.4623507e-08, 8.1691766e-08, 1.9142874e-07],\n",
       "         ...,\n",
       "         [1.4005228e-07, 6.9727930e-09, 4.5019735e-09, ...,\n",
       "          4.4669388e-09, 6.9727930e-09, 1.4005228e-07],\n",
       "         [5.4845263e-08, 1.7768255e-09, 6.9039996e-10, ...,\n",
       "          6.9039996e-10, 1.8048064e-09, 5.4845263e-08],\n",
       "         [1.1430733e-07, 2.4337439e-08, 1.8660161e-08, ...,\n",
       "          1.8660161e-08, 2.4337439e-08, 1.1430733e-07]],\n",
       "\n",
       "        [[1.8954015e-08, 3.4517829e-09, 1.9212065e-09, ...,\n",
       "          1.9667665e-09, 3.4788554e-09, 1.9709057e-08],\n",
       "         [6.7056694e-09, 1.6918980e-10, 1.1270470e-10, ...,\n",
       "          1.0838705e-10, 1.5770223e-10, 6.7056694e-09],\n",
       "         [1.1406728e-08, 7.1231565e-10, 9.4366492e-10, ...,\n",
       "          1.0045260e-09, 6.9039996e-10, 1.1677231e-08],\n",
       "         ...,\n",
       "         [3.8127507e-10, 1.9241006e-12, 7.4919836e-12, ...,\n",
       "          7.5507439e-12, 1.9391914e-12, 3.8127507e-10],\n",
       "         [8.5073969e-11, 4.7422125e-14, 2.6601402e-14, ...,\n",
       "          2.7232235e-14, 4.6686911e-14, 8.5741213e-11],\n",
       "         [2.7520013e-09, 1.6236651e-11, 7.3184323e-12, ...,\n",
       "          7.3184323e-12, 1.6110297e-11, 2.7520013e-09]],\n",
       "\n",
       "        [[5.2744173e-08, 1.2430347e-08, 6.7056694e-09, ...,\n",
       "          6.9185302e-09, 1.2333613e-08, 5.6145883e-08],\n",
       "         [1.5469817e-08, 8.7959240e-10, 3.9337805e-10, ...,\n",
       "          4.0586520e-10, 8.5253016e-10, 1.5713431e-08],\n",
       "         [3.1249890e-08, 4.2292125e-09, 4.0671941e-09, ...,\n",
       "          4.5019735e-09, 4.5019735e-09, 3.2749604e-08],\n",
       "         ...,\n",
       "         [1.3623394e-09, 2.6354686e-11, 1.5048052e-10, ...,\n",
       "          1.4930947e-10, 2.6561389e-11, 1.3517376e-09],\n",
       "         [2.6000702e-10, 3.0443692e-13, 1.9502961e-13, ...,\n",
       "          1.9810088e-13, 3.0443692e-13, 2.5798363e-10],\n",
       "         [7.4807147e-09, 4.9623208e-11, 2.4184420e-11, ...,\n",
       "          2.4374100e-11, 5.0404660e-11, 7.5985191e-09]],\n",
       "\n",
       "        ...,\n",
       "\n",
       "        [[5.3994967e-08, 1.2725124e-08, 6.9727930e-09, ...,\n",
       "          6.3488002e-09, 1.1586358e-08, 5.4845263e-08],\n",
       "         [1.5713431e-08, 9.2180491e-10, 4.0586520e-10, ...,\n",
       "          3.6666867e-10, 7.6420315e-10, 1.4993860e-08],\n",
       "         [3.1742005e-08, 4.3295056e-09, 4.0990935e-09, ...,\n",
       "          4.3634620e-09, 4.1636445e-09, 3.1494984e-08],\n",
       "         ...,\n",
       "         [4.0440362e-08, 6.5878425e-10, 3.4987768e-10, ...,\n",
       "          2.5597599e-10, 9.2180491e-10, 4.1399375e-08],\n",
       "         [1.3335816e-08, 3.3056183e-11, 8.4234633e-12, ...,\n",
       "          3.3840087e-11, 1.3917173e-10, 2.1815939e-08],\n",
       "         [3.7110162e-08, 9.5852548e-10, 3.5817480e-10, ...,\n",
       "          8.4589574e-10, 2.0611537e-09, 3.9196141e-08]],\n",
       "\n",
       "        [[1.9252498e-08, 3.6174372e-09, 2.0451136e-09, ...,\n",
       "          1.8767017e-09, 3.2426497e-09, 1.9555682e-08],\n",
       "         [7.0274813e-09, 1.7870003e-10, 1.1997353e-10, ...,\n",
       "          9.8687530e-11, 1.4026326e-10, 6.3985945e-09],\n",
       "         [1.1861120e-08, 7.5825601e-10, 9.9670872e-10, ...,\n",
       "          9.5852548e-10, 6.4352357e-10, 1.1406728e-08],\n",
       "         ...,\n",
       "         [6.7056694e-09, 1.4930947e-10, 2.8556185e-10, ...,\n",
       "          4.4228685e-10, 4.7450449e-10, 9.0234646e-09],\n",
       "         [2.6673308e-09, 1.2160690e-11, 1.2256068e-11, ...,\n",
       "          6.8895001e-11, 8.8462931e-11, 6.2503709e-09],\n",
       "         [8.4767606e-09, 3.7536396e-10, 3.2867967e-10, ...,\n",
       "          9.1463137e-10, 1.0445418e-09, 1.0884376e-08]],\n",
       "\n",
       "        [[1.3574332e-07, 1.6373771e-07, 1.4225778e-07, ...,\n",
       "          1.4060042e-07, 1.6246348e-07, 1.4677353e-07],\n",
       "         [1.8993903e-07, 7.7950830e-08, 4.2713534e-08, ...,\n",
       "          3.9813393e-08, 7.2658160e-08, 1.9596834e-07],\n",
       "         [1.8337749e-07, 8.0425252e-08, 6.3126507e-08, ...,\n",
       "          6.4120606e-08, 7.9799378e-08, 1.9368524e-07],\n",
       "         ...,\n",
       "         [7.9799378e-08, 1.6858051e-08, 2.0176445e-08, ...,\n",
       "          2.0654916e-08, 1.9555682e-08, 6.3126507e-08],\n",
       "         [7.3228030e-08, 9.8332134e-09, 1.1861120e-08, ...,\n",
       "          1.9709057e-08, 1.7805650e-08, 7.0422708e-08],\n",
       "         [6.5130358e-08, 3.0765406e-08, 4.0440362e-08, ...,\n",
       "          4.1399375e-08, 3.2494743e-08, 4.7650392e-08]]]], dtype=float32)"
      ]
     },
     "execution_count": 15,
     "metadata": {},
     "output_type": "execute_result"
    }
   ],
   "source": [
    "npz['probabilities']"
   ]
  },
  {
   "cell_type": "code",
   "execution_count": 16,
   "id": "b79f4c34",
   "metadata": {},
   "outputs": [],
   "source": [
    "import pickle\n",
    "\n",
    "\n",
    "with open(os.path.join(fold0_path,ex_pkl), 'rb') as f:\n",
    "    data = pickle.load(f)"
   ]
  },
  {
   "cell_type": "code",
   "execution_count": 17,
   "id": "848d2086",
   "metadata": {},
   "outputs": [
    {
     "data": {
      "text/plain": [
       "{'sitk_stuff': {'spacing': (2.0364201068878174, 2.0364201068878174, 3.0),\n",
       "  'origin': (-406.6929931640625, 201.12158203125, -1261.0),\n",
       "  'direction': (1.0, 0.0, 0.0, 0.0, -1.0, 0.0, 0.0, 0.0, 1.0)},\n",
       " 'spacing': [3.0, 2.0364201068878174, 2.0364201068878174],\n",
       " 'shape_before_cropping': (326, 400, 400),\n",
       " 'bbox_used_for_cropping': [[0, 326], [0, 400], [0, 400]],\n",
       " 'shape_after_cropping_and_before_resampling': (326, 400, 400),\n",
       " 'class_locations': {1: []}}"
      ]
     },
     "execution_count": 17,
     "metadata": {},
     "output_type": "execute_result"
    }
   ],
   "source": [
    "data"
   ]
  }
 ],
 "metadata": {
  "kernelspec": {
   "display_name": "env1-skylake",
   "language": "python",
   "name": "env1-skylake"
  },
  "language_info": {
   "codemirror_mode": {
    "name": "ipython",
    "version": 3
   },
   "file_extension": ".py",
   "mimetype": "text/x-python",
   "name": "python",
   "nbconvert_exporter": "python",
   "pygments_lexer": "ipython3",
   "version": "3.10.8"
  }
 },
 "nbformat": 4,
 "nbformat_minor": 5
}
