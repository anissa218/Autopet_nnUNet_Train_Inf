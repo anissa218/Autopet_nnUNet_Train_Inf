{
 "cells": [
  {
   "cell_type": "code",
   "execution_count": 16,
   "id": "3b04e285",
   "metadata": {},
   "outputs": [],
   "source": [
    "import pickle\n",
    "import os\n",
    "import sys\n",
    "from pathlib import Path\n",
    "import logging\n",
    "import pandas as pd\n",
    "import os\n",
    "import nibabel as nib\n",
    "import matplotlib.pyplot as plt\n",
    "import torch\n",
    "import SimpleITK as sitk\n",
    "import json\n",
    "import pandas as pd\n",
    "import numpy as np\n",
    "import cc3d\n",
    "import csv\n",
    "from scipy.stats import gaussian_kde"
   ]
  },
  {
   "cell_type": "markdown",
   "id": "a626438f",
   "metadata": {},
   "source": [
    "## Make and save dicts with number of connected components and their size for each image"
   ]
  },
  {
   "cell_type": "code",
   "execution_count": 2,
   "id": "de67d985",
   "metadata": {},
   "outputs": [],
   "source": [
    "def nii2numpy(nii_path):\n",
    "    # input: path of NIfTI segmentation file, output: corresponding numpy array and voxel_vol in ml\n",
    "    mask_nii = nib.load(str(nii_path))\n",
    "    mask = mask_nii.get_fdata()\n",
    "    pixdim = mask_nii.header['pixdim']   \n",
    "    voxel_vol = pixdim[1]*pixdim[2]*pixdim[3]/1000\n",
    "    return mask, voxel_vol\n",
    "\n",
    "\n",
    "def con_comp(seg_array):\n",
    "    # input: a binary segmentation array output: an array with seperated (indexed) connected components of the segmentation array\n",
    "    connectivity = 18\n",
    "    conn_comp = cc3d.connected_components(seg_array, connectivity=connectivity)\n",
    "    return conn_comp"
   ]
  },
  {
   "cell_type": "code",
   "execution_count": 3,
   "id": "ed890038",
   "metadata": {},
   "outputs": [],
   "source": [
    "labels_tr_folder = 'nnUnet_raw/Dataset219_PETCT/labelsTr'\n",
    "#CV_preds_folder = 'nnUNet_results/Dataset219_PETCT/nnUNetTrainer__nnUNetPlans__3d_fullres/crossval_results_folds_0_1_2_3_4'\n",
    "\n",
    "CV_preds_folder = \"nnUNet_results/Dataset219_PETCT/nnUNetTrainer_1500epochs_NoMirroring__nnUNetPlans__3d_fullres/crossval_results_folds_0_1_2_3_4\"\n",
    "\n",
    "labels = os.listdir(labels_tr_folder)\n",
    "\n",
    "CV_preds = [x for x in os.listdir(CV_preds_folder) if 'nii.gz' in x]"
   ]
  },
  {
   "cell_type": "code",
   "execution_count": 4,
   "id": "af347b4a",
   "metadata": {},
   "outputs": [],
   "source": [
    "def make_conn_comp_dict(labels,folder):\n",
    "#look at how big each connected component is in all the GT images\n",
    "    dict_of_images = {}\n",
    "    for label in labels:\n",
    "        gt_mask,voxel_vol = nii2numpy(os.path.join(folder,label))\n",
    "        conn_comp_array = con_comp(gt_mask)\n",
    "\n",
    "        unique_elements, counts = np.unique(conn_comp_array, return_counts=True)\n",
    "\n",
    "        indiv_dict = {}\n",
    "\n",
    "        # Print the results\n",
    "        for element, count in zip(unique_elements, counts):\n",
    "            indiv_dict[int(element)]=int(count)\n",
    "\n",
    "        dict_of_images[label] = indiv_dict\n",
    "    \n",
    "    return dict_of_images"
   ]
  },
  {
   "cell_type": "code",
   "execution_count": 5,
   "id": "d83dabcd",
   "metadata": {},
   "outputs": [
    {
     "ename": "KeyboardInterrupt",
     "evalue": "",
     "output_type": "error",
     "traceback": [
      "\u001b[0;31m---------------------------------------------------------------------------\u001b[0m",
      "\u001b[0;31mKeyboardInterrupt\u001b[0m                         Traceback (most recent call last)",
      "Cell \u001b[0;32mIn[5], line 1\u001b[0m\n\u001b[0;32m----> 1\u001b[0m dict_of_images \u001b[38;5;241m=\u001b[39m \u001b[43mmake_conn_comp_dict\u001b[49m\u001b[43m(\u001b[49m\u001b[43mlabels\u001b[49m\u001b[43m,\u001b[49m\u001b[43mlabels_tr_folder\u001b[49m\u001b[43m)\u001b[49m\n\u001b[1;32m      2\u001b[0m \u001b[38;5;28;01mwith\u001b[39;00m \u001b[38;5;28mopen\u001b[39m(\u001b[38;5;124m\"\u001b[39m\u001b[38;5;124mGT_conn_comps.json\u001b[39m\u001b[38;5;124m\"\u001b[39m, \u001b[38;5;124m\"\u001b[39m\u001b[38;5;124mw\u001b[39m\u001b[38;5;124m\"\u001b[39m) \u001b[38;5;28;01mas\u001b[39;00m outfile:\n\u001b[1;32m      3\u001b[0m     json\u001b[38;5;241m.\u001b[39mdump(dict_of_images, outfile)\n",
      "Cell \u001b[0;32mIn[4], line 8\u001b[0m, in \u001b[0;36mmake_conn_comp_dict\u001b[0;34m(labels, folder)\u001b[0m\n\u001b[1;32m      5\u001b[0m gt_mask,voxel_vol \u001b[38;5;241m=\u001b[39m nii2numpy(os\u001b[38;5;241m.\u001b[39mpath\u001b[38;5;241m.\u001b[39mjoin(folder,label))\n\u001b[1;32m      6\u001b[0m conn_comp_array \u001b[38;5;241m=\u001b[39m con_comp(gt_mask)\n\u001b[0;32m----> 8\u001b[0m unique_elements, counts \u001b[38;5;241m=\u001b[39m \u001b[43mnp\u001b[49m\u001b[38;5;241;43m.\u001b[39;49m\u001b[43munique\u001b[49m\u001b[43m(\u001b[49m\u001b[43mconn_comp_array\u001b[49m\u001b[43m,\u001b[49m\u001b[43m \u001b[49m\u001b[43mreturn_counts\u001b[49m\u001b[38;5;241;43m=\u001b[39;49m\u001b[38;5;28;43;01mTrue\u001b[39;49;00m\u001b[43m)\u001b[49m\n\u001b[1;32m     10\u001b[0m indiv_dict \u001b[38;5;241m=\u001b[39m {}\n\u001b[1;32m     12\u001b[0m \u001b[38;5;66;03m# Print the results\u001b[39;00m\n",
      "File \u001b[0;32m/gpfs3/well/papiez/users/hri611/python/env1-skylake/lib/python3.10/site-packages/numpy/lib/arraysetops.py:274\u001b[0m, in \u001b[0;36munique\u001b[0;34m(ar, return_index, return_inverse, return_counts, axis, equal_nan)\u001b[0m\n\u001b[1;32m    272\u001b[0m ar \u001b[38;5;241m=\u001b[39m np\u001b[38;5;241m.\u001b[39masanyarray(ar)\n\u001b[1;32m    273\u001b[0m \u001b[38;5;28;01mif\u001b[39;00m axis \u001b[38;5;129;01mis\u001b[39;00m \u001b[38;5;28;01mNone\u001b[39;00m:\n\u001b[0;32m--> 274\u001b[0m     ret \u001b[38;5;241m=\u001b[39m \u001b[43m_unique1d\u001b[49m\u001b[43m(\u001b[49m\u001b[43mar\u001b[49m\u001b[43m,\u001b[49m\u001b[43m \u001b[49m\u001b[43mreturn_index\u001b[49m\u001b[43m,\u001b[49m\u001b[43m \u001b[49m\u001b[43mreturn_inverse\u001b[49m\u001b[43m,\u001b[49m\u001b[43m \u001b[49m\u001b[43mreturn_counts\u001b[49m\u001b[43m,\u001b[49m\u001b[43m \u001b[49m\n\u001b[1;32m    275\u001b[0m \u001b[43m                    \u001b[49m\u001b[43mequal_nan\u001b[49m\u001b[38;5;241;43m=\u001b[39;49m\u001b[43mequal_nan\u001b[49m\u001b[43m)\u001b[49m\n\u001b[1;32m    276\u001b[0m     \u001b[38;5;28;01mreturn\u001b[39;00m _unpack_tuple(ret)\n\u001b[1;32m    278\u001b[0m \u001b[38;5;66;03m# axis was specified and not None\u001b[39;00m\n",
      "File \u001b[0;32m/gpfs3/well/papiez/users/hri611/python/env1-skylake/lib/python3.10/site-packages/numpy/lib/arraysetops.py:336\u001b[0m, in \u001b[0;36m_unique1d\u001b[0;34m(ar, return_index, return_inverse, return_counts, equal_nan)\u001b[0m\n\u001b[1;32m    334\u001b[0m     aux \u001b[38;5;241m=\u001b[39m ar[perm]\n\u001b[1;32m    335\u001b[0m \u001b[38;5;28;01melse\u001b[39;00m:\n\u001b[0;32m--> 336\u001b[0m     \u001b[43mar\u001b[49m\u001b[38;5;241;43m.\u001b[39;49m\u001b[43msort\u001b[49m\u001b[43m(\u001b[49m\u001b[43m)\u001b[49m\n\u001b[1;32m    337\u001b[0m     aux \u001b[38;5;241m=\u001b[39m ar\n\u001b[1;32m    338\u001b[0m mask \u001b[38;5;241m=\u001b[39m np\u001b[38;5;241m.\u001b[39mempty(aux\u001b[38;5;241m.\u001b[39mshape, dtype\u001b[38;5;241m=\u001b[39mnp\u001b[38;5;241m.\u001b[39mbool_)\n",
      "\u001b[0;31mKeyboardInterrupt\u001b[0m: "
     ]
    }
   ],
   "source": [
    "dict_of_images = make_conn_comp_dict(labels,labels_tr_folder)\n",
    "with open(\"GT_conn_comps.json\", \"w\") as outfile:\n",
    "    json.dump(dict_of_images, outfile)"
   ]
  },
  {
   "cell_type": "code",
   "execution_count": null,
   "id": "1e2519b4",
   "metadata": {},
   "outputs": [],
   "source": [
    "dict_of_images_preds = make_conn_comp_dict(CV_preds,CV_preds_folder)\n",
    "\n",
    "with open(\"a_CV_preds_conn_comps.json\", \"w\") as outfile:\n",
    "    json.dump(dict_of_images_preds, outfile)\n",
    "    "
   ]
  },
  {
   "cell_type": "code",
   "execution_count": 9,
   "id": "caf1be6a-3a8b-4b04-b749-cd18c76c2399",
   "metadata": {},
   "outputs": [],
   "source": [
    "f = open('a_CV_preds_conn_comps.json')\n",
    "f_gt = open(\"GT_conn_comps.json\")\n",
    "dict_of_images_preds = json.load(f)\n",
    "dict_of_images = json.load(f_gt)"
   ]
  },
  {
   "cell_type": "code",
   "execution_count": 10,
   "id": "32026b29",
   "metadata": {},
   "outputs": [],
   "source": [
    "# create final dict with predictions for positive images\n",
    "pos_dict_of_images_preds = {}\n",
    "\n",
    "for key in dict_of_images:\n",
    "    if len(dict_of_images[key]) != 1:\n",
    "        pos_dict_of_images_preds[key] = dict_of_images_preds[key]"
   ]
  },
  {
   "cell_type": "markdown",
   "id": "51f649ba",
   "metadata": {},
   "source": [
    "## Analyse connected components"
   ]
  },
  {
   "cell_type": "code",
   "execution_count": 11,
   "id": "b1cd6e4e",
   "metadata": {},
   "outputs": [],
   "source": [
    "fg_counts_gt = []\n",
    "for key in dict_of_images.keys():\n",
    "    fg_counts_gt.append(list(dict_of_images[key].values())[1:]) #only take foreground counts (not 0 for background)\n",
    "\n",
    "fg_counts_preds = []\n",
    "for key in dict_of_images_preds.keys():\n",
    "    fg_counts_preds.append(list(dict_of_images_preds[key].values())[1:]) #only take foreground counts (not 0 for background)\n",
    "    \n",
    "fg_counts_pos_preds = []\n",
    "for key in pos_dict_of_images_preds.keys():\n",
    "    fg_counts_pos_preds.append(list(pos_dict_of_images_preds[key].values())[1:]) #only take foreground counts (not 0 for background)\n"
   ]
  },
  {
   "cell_type": "markdown",
   "id": "265667f2",
   "metadata": {},
   "source": [
    "### Count median number of components"
   ]
  },
  {
   "cell_type": "code",
   "execution_count": 30,
   "id": "306fef47",
   "metadata": {},
   "outputs": [],
   "source": [
    "import numpy as np\n",
    "def count_comps(fg_list):\n",
    "    # make list of num of connected comps per image\n",
    "    num_comps = []\n",
    "    for sublist in fg_list:\n",
    "        num_comps.append(len(sublist))\n",
    "\n",
    "    # remove lists which are true negative images\n",
    "    non_zero = []\n",
    "    zeros = 0\n",
    "    for item in num_comps:\n",
    "        if item != 0:\n",
    "            non_zero.append(item)\n",
    "        else:\n",
    "            zeros += 1\n",
    "    \n",
    "    # number of negative images\n",
    "    print(f\"Number of negative images: {zeros}/{len(num_comps)}\")\n",
    "\n",
    "    # median number of conn comps in pos images\n",
    "    print(f\"Median number of conn comps in pos images: {np.median(non_zero)}\")\n",
    "      \n",
    "    # mean number of conn comps\n",
    "    print(f\"Mean number of conn comps in pos images: {np.mean(non_zero)}\")\n",
    "    \n",
    "    return num_comps"
   ]
  },
  {
   "cell_type": "code",
   "execution_count": 31,
   "id": "c8db1ac1",
   "metadata": {},
   "outputs": [
    {
     "name": "stdout",
     "output_type": "stream",
     "text": [
      "Number of negative images: 468/919\n",
      "Median number of conn comps in pos images: 6.0\n",
      "Mean number of conn comps in pos images: 17.059866962305986\n"
     ]
    }
   ],
   "source": [
    "# ground truth\n",
    "num_comps_gt = count_comps(fg_counts_gt)"
   ]
  },
  {
   "cell_type": "code",
   "execution_count": 32,
   "id": "3604f80a",
   "metadata": {},
   "outputs": [
    {
     "name": "stdout",
     "output_type": "stream",
     "text": [
      "Number of negative images: 125/919\n",
      "Median number of conn comps in pos images: 5.0\n",
      "Mean number of conn comps in pos images: 10.210327455919396\n"
     ]
    }
   ],
   "source": [
    "# CV val predictions\n",
    "num_comps_preds = count_comps(fg_counts_preds)"
   ]
  },
  {
   "cell_type": "code",
   "execution_count": 33,
   "id": "875f6ace",
   "metadata": {},
   "outputs": [
    {
     "name": "stdout",
     "output_type": "stream",
     "text": [
      "Number of negative images: 3/451\n",
      "Median number of conn comps in pos images: 8.0\n",
      "Mean number of conn comps in pos images: 15.138392857142858\n"
     ]
    }
   ],
   "source": [
    "# CV val predictions on positive imgaes\n",
    "num_comps_pos_preds = count_comps(fg_counts_pos_preds)"
   ]
  },
  {
   "cell_type": "code",
   "execution_count": 89,
   "id": "6cd6c330",
   "metadata": {},
   "outputs": [
    {
     "data": {
      "text/plain": [
       "(0.0, 100.0)"
      ]
     },
     "execution_count": 89,
     "metadata": {},
     "output_type": "execute_result"
    },
    {
     "data": {
      "image/png": "[encoded data removed]",
      "text/plain": [
       "<Figure size 640x480 with 1 Axes>"
      ]
     },
     "metadata": {},
     "output_type": "display_data"
    }
   ],
   "source": [
    "# distribution of number of conn comps in GT labels (when non-0)\n",
    "plt.hist([x for x in num_comps_gt if x != 0],bins=200)\n",
    "plt.xlim([0,100])"
   ]
  },
  {
   "cell_type": "code",
   "execution_count": 87,
   "id": "1c6d4f43",
   "metadata": {},
   "outputs": [
    {
     "data": {
      "text/plain": [
       "(0.0, 100.0)"
      ]
     },
     "execution_count": 87,
     "metadata": {},
     "output_type": "execute_result"
    },
    {
     "data": {
      "image/png": "[encoded data removed]",
      "text/plain": [
       "<Figure size 640x480 with 1 Axes>"
      ]
     },
     "metadata": {},
     "output_type": "display_data"
    }
   ],
   "source": [
    "plt.hist([x for x in num_comps_preds if x != 0],bins=200)\n",
    "plt.xlim([0,100])"
   ]
  },
  {
   "cell_type": "code",
   "execution_count": 88,
   "id": "581dd60a",
   "metadata": {},
   "outputs": [
    {
     "data": {
      "text/plain": [
       "(0.0, 100.0)"
      ]
     },
     "execution_count": 88,
     "metadata": {},
     "output_type": "execute_result"
    },
    {
     "data": {
      "image/png": "[encoded data removed]",
      "text/plain": [
       "<Figure size 640x480 with 1 Axes>"
      ]
     },
     "metadata": {},
     "output_type": "display_data"
    }
   ],
   "source": [
    "plt.hist([x for x in num_comps_pos_preds if x != 0],bins=200)\n",
    "plt.xlim([0,100])"
   ]
  },
  {
   "cell_type": "markdown",
   "id": "5ca0a995",
   "metadata": {},
   "source": [
    "### Count median size of components"
   ]
  },
  {
   "cell_type": "code",
   "execution_count": 38,
   "id": "06ca0fdd",
   "metadata": {},
   "outputs": [],
   "source": [
    "def count_sizes(fg_counts):\n",
    "    mean_sizes = []\n",
    "    median_sizes = []\n",
    "    for image in fg_counts:\n",
    "        if len(image) != 0:\n",
    "            mean_sizes.append(np.mean(image))\n",
    "            median_sizes.append(np.median(image))\n",
    "\n",
    "    print(f\"Median number of mean size of conn comps in pos images: {np.median(mean_sizes)}\")\n",
    "    print(f\"Median number of median size of conn comps in pos images: {np.median(median_sizes)}\")\n",
    "    \n",
    "    return median_sizes"
   ]
  },
  {
   "cell_type": "code",
   "execution_count": 39,
   "id": "12ad07ad",
   "metadata": {},
   "outputs": [
    {
     "name": "stdout",
     "output_type": "stream",
     "text": [
      "Median number of mean size of conn comps in pos images: 935.8571428571429\n",
      "Median number of median size of conn comps in pos images: 183.0\n"
     ]
    }
   ],
   "source": [
    "median_sizes_gt = count_sizes(fg_counts_gt)"
   ]
  },
  {
   "cell_type": "code",
   "execution_count": 40,
   "id": "dea7b51c",
   "metadata": {},
   "outputs": [
    {
     "name": "stdout",
     "output_type": "stream",
     "text": [
      "Median number of mean size of conn comps in pos images: 231.54761904761904\n",
      "Median number of median size of conn comps in pos images: 59.25\n"
     ]
    }
   ],
   "source": [
    "median_sizes_preds = count_sizes(fg_counts_preds)"
   ]
  },
  {
   "cell_type": "code",
   "execution_count": 41,
   "id": "d4c9c8f4",
   "metadata": {},
   "outputs": [
    {
     "name": "stdout",
     "output_type": "stream",
     "text": [
      "Median number of mean size of conn comps in pos images: 763.7\n",
      "Median number of median size of conn comps in pos images: 91.0\n"
     ]
    }
   ],
   "source": [
    "median_sizes_preds_pos = count_sizes(fg_counts_pos_preds)"
   ]
  },
  {
   "cell_type": "code",
   "execution_count": 42,
   "id": "332085d1",
   "metadata": {},
   "outputs": [
    {
     "data": {
      "text/plain": [
       "(0.0, 5000.0)"
      ]
     },
     "execution_count": 42,
     "metadata": {},
     "output_type": "execute_result"
    },
    {
     "data": {
      "image/png": "[encoded data removed]",
      "text/plain": [
       "<Figure size 640x480 with 1 Axes>"
      ]
     },
     "metadata": {},
     "output_type": "display_data"
    }
   ],
   "source": [
    "plt.hist(median_sizes_gt,bins=100)\n",
    "plt.hist(median_sizes_preds,bins=100)\n",
    "\n",
    "plt.xlim([0,5000])"
   ]
  },
  {
   "cell_type": "code",
   "execution_count": 54,
   "id": "dd5d98ab-b40f-4b3b-b3a0-bf1d806edacc",
   "metadata": {},
   "outputs": [
    {
     "data": {
      "image/png": "[encoded data removed]",
      "text/plain": [
       "<Figure size 640x480 with 1 Axes>"
      ]
     },
     "metadata": {},
     "output_type": "display_data"
    }
   ],
   "source": [
    "plt.hist(median_sizes_gt, bins=380, alpha=0.5, label='Ground Truth', color='blue')\n",
    "\n",
    "plt.hist(median_sizes_preds, bins=200, alpha=0.5, label='Predicted', color='red')\n",
    "\n",
    "plt.xlim([0, 2500])\n",
    "plt.xlabel('Median size of positive connected components')\n",
    "plt.ylabel('Frequency')\n",
    "plt.legend()\n",
    "plt.show()\n"
   ]
  },
  {
   "cell_type": "code",
   "execution_count": 49,
   "id": "0622a636",
   "metadata": {},
   "outputs": [
    {
     "ename": "NameError",
     "evalue": "name 'mean_sizes_gt' is not defined",
     "output_type": "error",
     "traceback": [
      "\u001b[0;31m---------------------------------------------------------------------------\u001b[0m",
      "\u001b[0;31mNameError\u001b[0m                                 Traceback (most recent call last)",
      "Cell \u001b[0;32mIn[49], line 1\u001b[0m\n\u001b[0;32m----> 1\u001b[0m plt\u001b[38;5;241m.\u001b[39mhist(\u001b[43mmean_sizes_gt\u001b[49m, bins\u001b[38;5;241m=\u001b[39m\u001b[38;5;241m400\u001b[39m, alpha\u001b[38;5;241m=\u001b[39m\u001b[38;5;241m0.5\u001b[39m, label\u001b[38;5;241m=\u001b[39m\u001b[38;5;124m'\u001b[39m\u001b[38;5;124mGround Truth\u001b[39m\u001b[38;5;124m'\u001b[39m, color\u001b[38;5;241m=\u001b[39m\u001b[38;5;124m'\u001b[39m\u001b[38;5;124mblue\u001b[39m\u001b[38;5;124m'\u001b[39m)\n\u001b[1;32m      3\u001b[0m \u001b[38;5;66;03m# Create a histogram for predicted data\u001b[39;00m\n\u001b[1;32m      4\u001b[0m plt\u001b[38;5;241m.\u001b[39mhist(mean_sizes_preds, bins\u001b[38;5;241m=\u001b[39m\u001b[38;5;241m200\u001b[39m, alpha\u001b[38;5;241m=\u001b[39m\u001b[38;5;241m0.5\u001b[39m, label\u001b[38;5;241m=\u001b[39m\u001b[38;5;124m'\u001b[39m\u001b[38;5;124mPredicted\u001b[39m\u001b[38;5;124m'\u001b[39m, color\u001b[38;5;241m=\u001b[39m\u001b[38;5;124m'\u001b[39m\u001b[38;5;124mred\u001b[39m\u001b[38;5;124m'\u001b[39m)\n",
      "\u001b[0;31mNameError\u001b[0m: name 'mean_sizes_gt' is not defined"
     ]
    }
   ],
   "source": [
    "plt.hist(mean_sizes_gt, bins=400, alpha=0.5, label='Ground Truth', color='blue')\n",
    "\n",
    "# Create a histogram for predicted data\n",
    "plt.hist(mean_sizes_preds, bins=200, alpha=0.5, label='Predicted', color='red')\n",
    "\n",
    "# Set the x-axis limits\n",
    "plt.xlim([0, 2500])\n",
    "\n",
    "# Add labels and a legend\n",
    "plt.xlabel('Size')\n",
    "plt.ylabel('Frequency')\n",
    "plt.legend()\n",
    "\n",
    "# Add a title\n",
    "plt.title('Size Distribution Comparison')\n",
    "\n",
    "# Show the plot\n",
    "plt.show()\n"
   ]
  },
  {
   "cell_type": "code",
   "execution_count": 116,
   "id": "8f37ff53",
   "metadata": {},
   "outputs": [
    {
     "data": {
      "text/plain": [
       "(0.0, 5000.0)"
      ]
     },
     "execution_count": 116,
     "metadata": {},
     "output_type": "execute_result"
    },
    {
     "data": {
      "image/png": "[encoded data removed]",
      "text/plain": [
       "<Figure size 640x480 with 1 Axes>"
      ]
     },
     "metadata": {},
     "output_type": "display_data"
    }
   ],
   "source": [
    "plt.hist(median_sizes_preds_pos,bins=100)\n",
    "plt.xlim([0,5000])"
   ]
  },
  {
   "cell_type": "markdown",
   "id": "838a93cb",
   "metadata": {},
   "source": [
    "### Look at distribution of component size"
   ]
  },
  {
   "cell_type": "code",
   "execution_count": 149,
   "id": "75260eba",
   "metadata": {},
   "outputs": [],
   "source": [
    "def plot_size_dist(fg_list):\n",
    "    flattened_list = [item for sublist in fg_list for item in sublist]\n",
    "    \n",
    "    #plt.hist(flattened_list,bins=100)\n",
    "    plt.hist([x for x in flattened_list if x < 100],bins=20)\n",
    "\n",
    "    plt.xlabel('Conn component size')\n"
   ]
  },
  {
   "cell_type": "code",
   "execution_count": 150,
   "id": "35d62a91",
   "metadata": {},
   "outputs": [
    {
     "data": {
      "image/png": "[encoded data removed]",
      "text/plain": [
       "<Figure size 640x480 with 1 Axes>"
      ]
     },
     "metadata": {},
     "output_type": "display_data"
    }
   ],
   "source": [
    "plot_size_dist(fg_counts_gt)"
   ]
  },
  {
   "cell_type": "code",
   "execution_count": 151,
   "id": "40f5be35",
   "metadata": {},
   "outputs": [
    {
     "data": {
      "image/png": "[encoded data removed]",
      "text/plain": [
       "<Figure size 640x480 with 1 Axes>"
      ]
     },
     "metadata": {},
     "output_type": "display_data"
    }
   ],
   "source": [
    "plot_size_dist(fg_counts_preds)"
   ]
  },
  {
   "cell_type": "code",
   "execution_count": 152,
   "id": "d6d8e613",
   "metadata": {},
   "outputs": [
    {
     "data": {
      "image/png": "[encoded data removed]",
      "text/plain": [
       "<Figure size 640x480 with 1 Axes>"
      ]
     },
     "metadata": {},
     "output_type": "display_data"
    }
   ],
   "source": [
    "plot_size_dist(fg_counts_pos_preds)"
   ]
  },
  {
   "cell_type": "markdown",
   "id": "abc7cc5e",
   "metadata": {},
   "source": [
    "## Analyse effect of removal of different sized connected components"
   ]
  },
  {
   "cell_type": "code",
   "execution_count": 3,
   "id": "81a63ea1",
   "metadata": {},
   "outputs": [],
   "source": [
    "from datetime import datetime\n",
    "\n",
    "clinical_data_df = pd.read_csv('Clinical Metadata FDG PET_CT Lesions (1).csv')\n",
    "#clinical_data_df['Study Date'] = clinical_data_df['Study Date'].apply(lambda x: x.replace(\"/\", \"\"))\n",
    "\n",
    "# add zeros to date so it is compatible w/ other data\n",
    "clinical_data_df['Study Date'] = clinical_data_df['Study Date'].apply(lambda x: (datetime.strptime(x, \"%m/%d/%Y\")).strftime(\"%m%d%Y\"))\n",
    "def load_process_inf_metrics(input_df):\n",
    "    f_metrics_df = pd.read_csv(input_df)\n",
    "    f_metrics_df['subject_id'] = f_metrics_df['image'].apply(lambda x: x.split('_')[0]+\"_\"+x.split('_')[1])\n",
    "    f_metrics_df['subject_date'] = f_metrics_df['image'].apply(lambda x: x.split('_')[2].split(\".\")[0])\n",
    "    \n",
    "    f_metrics_df = f_metrics_df.drop(columns=['Unnamed: 0'])\n",
    "    \n",
    "    # Merge the two DataFrames based on 'subject_id' and 'subject_date'\n",
    "    merged_df = f_metrics_df.merge(clinical_data_df, left_on=['subject_id', 'subject_date'], right_on=['Subject ID', 'Study Date'], how='left')\n",
    "\n",
    "    # Drop the duplicate columns 'Subject ID' and 'Study Date' (optional, if you want to keep only one set of them)\n",
    "    merged_df.drop(columns=['Subject ID', 'Study Date'], inplace=True)\n",
    "\n",
    "    # Rename the 'Diagnosis' column to 'diagnosis' (optional, if you want to match the column name)\n",
    "    merged_df.rename(columns={'Diagnosis': 'diagnosis'}, inplace=True)\n",
    "    \n",
    "    merged_df = merged_df[merged_df['Modality']=='SEG']\n",
    "    \n",
    "    return merged_df"
   ]
  },
  {
   "cell_type": "code",
   "execution_count": 4,
   "id": "410e3296",
   "metadata": {},
   "outputs": [],
   "source": [
    "list_csvs = ['a_219_inf_results.csv','5_pp_metrics_df','10_pp_metrics_df','20_pp_metrics_df','40_pp_metrics_df','80_pp_metrics_df']\n",
    "list_pp_sizes = [0,5,10,20,40,80]\n",
    "\n",
    "list_dfs = []\n",
    "for csv in list_csvs:\n",
    "    list_dfs.append(load_process_inf_metrics(csv))\n"
   ]
  },
  {
   "cell_type": "code",
   "execution_count": 9,
   "id": "8e879e20-c1d1-43e4-9bf9-a4473729111b",
   "metadata": {},
   "outputs": [
    {
     "data": {
      "text/html": [
       "<div>\n",
       "<style scoped>\n",
       "    .dataframe tbody tr th:only-of-type {\n",
       "        vertical-align: middle;\n",
       "    }\n",
       "\n",
       "    .dataframe tbody tr th {\n",
       "        vertical-align: top;\n",
       "    }\n",
       "\n",
       "    .dataframe thead th {\n",
       "        text-align: right;\n",
       "    }\n",
       "</style>\n",
       "<table border=\"1\" class=\"dataframe\">\n",
       "  <thead>\n",
       "    <tr style=\"text-align: right;\">\n",
       "      <th></th>\n",
       "      <th>image</th>\n",
       "      <th>DICE</th>\n",
       "      <th>challenge_FP</th>\n",
       "      <th>challenge_FN</th>\n",
       "      <th>subject_id</th>\n",
       "      <th>subject_date</th>\n",
       "      <th>Series UID</th>\n",
       "      <th>Collection</th>\n",
       "      <th>3rd Party Analysis</th>\n",
       "      <th>Data Description URI</th>\n",
       "      <th>...</th>\n",
       "      <th>Modality</th>\n",
       "      <th>SOP Class Name</th>\n",
       "      <th>SOP Class UID</th>\n",
       "      <th>Number of Images</th>\n",
       "      <th>File Size</th>\n",
       "      <th>File Location</th>\n",
       "      <th>Download Timestamp</th>\n",
       "      <th>diagnosis</th>\n",
       "      <th>age</th>\n",
       "      <th>sex</th>\n",
       "    </tr>\n",
       "  </thead>\n",
       "  <tbody>\n",
       "    <tr>\n",
       "      <th>0</th>\n",
       "      <td>PETCT_661ddc60e0_03082002.nii.gz</td>\n",
       "      <td>0.839286</td>\n",
       "      <td>0.000000</td>\n",
       "      <td>0.000000</td>\n",
       "      <td>PETCT_661ddc60e0</td>\n",
       "      <td>03082002</td>\n",
       "      <td>1.3.6.1.4.1.14519.5.2.1.4219.6651.329516157931...</td>\n",
       "      <td>FDG-PET-CT-Lesions</td>\n",
       "      <td>NO</td>\n",
       "      <td>NaN</td>\n",
       "      <td>...</td>\n",
       "      <td>SEG</td>\n",
       "      <td>Segmentation Storage</td>\n",
       "      <td>1.2.840.10008.5.1.4.1.1.66.4</td>\n",
       "      <td>1</td>\n",
       "      <td>5.88 MB</td>\n",
       "      <td>./FDG-PET-CT-Lesions/PETCT_661ddc60e0/03-08-20...</td>\n",
       "      <td>2022-03-17T16:04:14.333</td>\n",
       "      <td>MELANOMA</td>\n",
       "      <td>078Y</td>\n",
       "      <td>M</td>\n",
       "    </tr>\n",
       "    <tr>\n",
       "      <th>4</th>\n",
       "      <td>PETCT_f082a3d319_11082004.nii.gz</td>\n",
       "      <td>0.000000</td>\n",
       "      <td>0.136851</td>\n",
       "      <td>0.000000</td>\n",
       "      <td>PETCT_f082a3d319</td>\n",
       "      <td>11082004</td>\n",
       "      <td>1.3.6.1.4.1.14519.5.2.1.4219.6651.306359696386...</td>\n",
       "      <td>FDG-PET-CT-Lesions</td>\n",
       "      <td>NO</td>\n",
       "      <td>NaN</td>\n",
       "      <td>...</td>\n",
       "      <td>SEG</td>\n",
       "      <td>Segmentation Storage</td>\n",
       "      <td>1.2.840.10008.5.1.4.1.1.66.4</td>\n",
       "      <td>1</td>\n",
       "      <td>5.01 MB</td>\n",
       "      <td>./FDG-PET-CT-Lesions/PETCT_f082a3d319/11-08-20...</td>\n",
       "      <td>2022-03-17T21:19:53.125</td>\n",
       "      <td>NEGATIVE</td>\n",
       "      <td>044Y</td>\n",
       "      <td>M</td>\n",
       "    </tr>\n",
       "    <tr>\n",
       "      <th>7</th>\n",
       "      <td>PETCT_2922971d0f_07192003.nii.gz</td>\n",
       "      <td>0.000000</td>\n",
       "      <td>8.683833</td>\n",
       "      <td>0.000000</td>\n",
       "      <td>PETCT_2922971d0f</td>\n",
       "      <td>07192003</td>\n",
       "      <td>1.3.6.1.4.1.14519.5.2.1.4219.6651.168597161521...</td>\n",
       "      <td>FDG-PET-CT-Lesions</td>\n",
       "      <td>NO</td>\n",
       "      <td>NaN</td>\n",
       "      <td>...</td>\n",
       "      <td>SEG</td>\n",
       "      <td>Segmentation Storage</td>\n",
       "      <td>1.2.840.10008.5.1.4.1.1.66.4</td>\n",
       "      <td>1</td>\n",
       "      <td>6.75 MB</td>\n",
       "      <td>./FDG-PET-CT-Lesions/PETCT_2922971d0f/07-19-20...</td>\n",
       "      <td>2022-03-17T13:58:56.794</td>\n",
       "      <td>NEGATIVE</td>\n",
       "      <td>077Y</td>\n",
       "      <td>F</td>\n",
       "    </tr>\n",
       "    <tr>\n",
       "      <th>9</th>\n",
       "      <td>PETCT_ae8c77a995_05182007.nii.gz</td>\n",
       "      <td>0.479889</td>\n",
       "      <td>0.000000</td>\n",
       "      <td>3.222224</td>\n",
       "      <td>PETCT_ae8c77a995</td>\n",
       "      <td>05182007</td>\n",
       "      <td>1.3.6.1.4.1.14519.5.2.1.4219.6651.223200767263...</td>\n",
       "      <td>FDG-PET-CT-Lesions</td>\n",
       "      <td>NO</td>\n",
       "      <td>NaN</td>\n",
       "      <td>...</td>\n",
       "      <td>SEG</td>\n",
       "      <td>Segmentation Storage</td>\n",
       "      <td>1.2.840.10008.5.1.4.1.1.66.4</td>\n",
       "      <td>1</td>\n",
       "      <td>6.60 MB</td>\n",
       "      <td>./FDG-PET-CT-Lesions/PETCT_ae8c77a995/05-18-20...</td>\n",
       "      <td>2022-03-17T18:31:32.903</td>\n",
       "      <td>MELANOMA</td>\n",
       "      <td>050Y</td>\n",
       "      <td>F</td>\n",
       "    </tr>\n",
       "    <tr>\n",
       "      <th>12</th>\n",
       "      <td>PETCT_277fc3c67c_11152003.nii.gz</td>\n",
       "      <td>0.000000</td>\n",
       "      <td>21.585171</td>\n",
       "      <td>0.000000</td>\n",
       "      <td>PETCT_277fc3c67c</td>\n",
       "      <td>11152003</td>\n",
       "      <td>1.3.6.1.4.1.14519.5.2.1.4219.6651.197238272238...</td>\n",
       "      <td>FDG-PET-CT-Lesions</td>\n",
       "      <td>NO</td>\n",
       "      <td>NaN</td>\n",
       "      <td>...</td>\n",
       "      <td>SEG</td>\n",
       "      <td>Segmentation Storage</td>\n",
       "      <td>1.2.840.10008.5.1.4.1.1.66.4</td>\n",
       "      <td>1</td>\n",
       "      <td>5.88 MB</td>\n",
       "      <td>./FDG-PET-CT-Lesions/PETCT_277fc3c67c/11-15-20...</td>\n",
       "      <td>2022-03-17T13:55:42.07</td>\n",
       "      <td>NEGATIVE</td>\n",
       "      <td>073Y</td>\n",
       "      <td>F</td>\n",
       "    </tr>\n",
       "    <tr>\n",
       "      <th>...</th>\n",
       "      <td>...</td>\n",
       "      <td>...</td>\n",
       "      <td>...</td>\n",
       "      <td>...</td>\n",
       "      <td>...</td>\n",
       "      <td>...</td>\n",
       "      <td>...</td>\n",
       "      <td>...</td>\n",
       "      <td>...</td>\n",
       "      <td>...</td>\n",
       "      <td>...</td>\n",
       "      <td>...</td>\n",
       "      <td>...</td>\n",
       "      <td>...</td>\n",
       "      <td>...</td>\n",
       "      <td>...</td>\n",
       "      <td>...</td>\n",
       "      <td>...</td>\n",
       "      <td>...</td>\n",
       "      <td>...</td>\n",
       "      <td>...</td>\n",
       "    </tr>\n",
       "    <tr>\n",
       "      <th>270</th>\n",
       "      <td>PETCT_76ebd5c736_12292005.nii.gz</td>\n",
       "      <td>0.461538</td>\n",
       "      <td>0.111969</td>\n",
       "      <td>0.796225</td>\n",
       "      <td>PETCT_76ebd5c736</td>\n",
       "      <td>12292005</td>\n",
       "      <td>1.3.6.1.4.1.14519.5.2.1.4219.6651.134630856972...</td>\n",
       "      <td>FDG-PET-CT-Lesions</td>\n",
       "      <td>NO</td>\n",
       "      <td>NaN</td>\n",
       "      <td>...</td>\n",
       "      <td>SEG</td>\n",
       "      <td>Segmentation Storage</td>\n",
       "      <td>1.2.840.10008.5.1.4.1.1.66.4</td>\n",
       "      <td>1</td>\n",
       "      <td>6.60 MB</td>\n",
       "      <td>./FDG-PET-CT-Lesions/PETCT_76ebd5c736/12-29-20...</td>\n",
       "      <td>2022-03-17T16:27:04.01</td>\n",
       "      <td>MELANOMA</td>\n",
       "      <td>053Y</td>\n",
       "      <td>M</td>\n",
       "    </tr>\n",
       "    <tr>\n",
       "      <th>273</th>\n",
       "      <td>PETCT_a9d7a14ba1_08142000.nii.gz</td>\n",
       "      <td>0.557038</td>\n",
       "      <td>0.049764</td>\n",
       "      <td>0.049764</td>\n",
       "      <td>PETCT_a9d7a14ba1</td>\n",
       "      <td>08142000</td>\n",
       "      <td>1.3.6.1.4.1.14519.5.2.1.4219.6651.101931276996...</td>\n",
       "      <td>FDG-PET-CT-Lesions</td>\n",
       "      <td>NO</td>\n",
       "      <td>NaN</td>\n",
       "      <td>...</td>\n",
       "      <td>SEG</td>\n",
       "      <td>Segmentation Storage</td>\n",
       "      <td>1.2.840.10008.5.1.4.1.1.66.4</td>\n",
       "      <td>1</td>\n",
       "      <td>5.88 MB</td>\n",
       "      <td>./FDG-PET-CT-Lesions/PETCT_a9d7a14ba1/08-14-20...</td>\n",
       "      <td>2022-03-17T18:21:07.855</td>\n",
       "      <td>LUNG_CANCER</td>\n",
       "      <td>065Y</td>\n",
       "      <td>M</td>\n",
       "    </tr>\n",
       "    <tr>\n",
       "      <th>276</th>\n",
       "      <td>PETCT_89fb723947_09032000.nii.gz</td>\n",
       "      <td>0.869232</td>\n",
       "      <td>0.634492</td>\n",
       "      <td>0.000000</td>\n",
       "      <td>PETCT_89fb723947</td>\n",
       "      <td>09032000</td>\n",
       "      <td>1.3.6.1.4.1.14519.5.2.1.4219.6651.194801755496...</td>\n",
       "      <td>FDG-PET-CT-Lesions</td>\n",
       "      <td>NO</td>\n",
       "      <td>NaN</td>\n",
       "      <td>...</td>\n",
       "      <td>SEG</td>\n",
       "      <td>Segmentation Storage</td>\n",
       "      <td>1.2.840.10008.5.1.4.1.1.66.4</td>\n",
       "      <td>1</td>\n",
       "      <td>6.76 MB</td>\n",
       "      <td>./FDG-PET-CT-Lesions/PETCT_89fb723947/09-03-20...</td>\n",
       "      <td>2022-03-17T17:02:10.62</td>\n",
       "      <td>LUNG_CANCER</td>\n",
       "      <td>058Y</td>\n",
       "      <td>M</td>\n",
       "    </tr>\n",
       "    <tr>\n",
       "      <th>280</th>\n",
       "      <td>PETCT_ded50b1e68_02092006.nii.gz</td>\n",
       "      <td>NaN</td>\n",
       "      <td>0.000000</td>\n",
       "      <td>0.000000</td>\n",
       "      <td>PETCT_ded50b1e68</td>\n",
       "      <td>02092006</td>\n",
       "      <td>1.3.6.1.4.1.14519.5.2.1.4219.6651.294313739661...</td>\n",
       "      <td>FDG-PET-CT-Lesions</td>\n",
       "      <td>NO</td>\n",
       "      <td>NaN</td>\n",
       "      <td>...</td>\n",
       "      <td>SEG</td>\n",
       "      <td>Segmentation Storage</td>\n",
       "      <td>1.2.840.10008.5.1.4.1.1.66.4</td>\n",
       "      <td>1</td>\n",
       "      <td>6.13 MB</td>\n",
       "      <td>./FDG-PET-CT-Lesions/PETCT_ded50b1e68/02-09-20...</td>\n",
       "      <td>2022-03-17T20:44:06.955</td>\n",
       "      <td>NEGATIVE</td>\n",
       "      <td>060Y</td>\n",
       "      <td>M</td>\n",
       "    </tr>\n",
       "    <tr>\n",
       "      <th>283</th>\n",
       "      <td>PETCT_e2309b8f92_06032007.nii.gz</td>\n",
       "      <td>0.000000</td>\n",
       "      <td>4.988849</td>\n",
       "      <td>0.000000</td>\n",
       "      <td>PETCT_e2309b8f92</td>\n",
       "      <td>06032007</td>\n",
       "      <td>1.3.6.1.4.1.14519.5.2.1.4219.6651.246198250121...</td>\n",
       "      <td>FDG-PET-CT-Lesions</td>\n",
       "      <td>NO</td>\n",
       "      <td>NaN</td>\n",
       "      <td>...</td>\n",
       "      <td>SEG</td>\n",
       "      <td>Segmentation Storage</td>\n",
       "      <td>1.2.840.10008.5.1.4.1.1.66.4</td>\n",
       "      <td>1</td>\n",
       "      <td>6.13 MB</td>\n",
       "      <td>./FDG-PET-CT-Lesions/PETCT_e2309b8f92/06-03-20...</td>\n",
       "      <td>2022-03-17T20:49:47.996</td>\n",
       "      <td>NEGATIVE</td>\n",
       "      <td>071Y</td>\n",
       "      <td>F</td>\n",
       "    </tr>\n",
       "  </tbody>\n",
       "</table>\n",
       "<p>95 rows × 24 columns</p>\n",
       "</div>"
      ],
      "text/plain": [
       "                                image      DICE  challenge_FP  challenge_FN  \\\n",
       "0    PETCT_661ddc60e0_03082002.nii.gz  0.839286      0.000000      0.000000   \n",
       "4    PETCT_f082a3d319_11082004.nii.gz  0.000000      0.136851      0.000000   \n",
       "7    PETCT_2922971d0f_07192003.nii.gz  0.000000      8.683833      0.000000   \n",
       "9    PETCT_ae8c77a995_05182007.nii.gz  0.479889      0.000000      3.222224   \n",
       "12   PETCT_277fc3c67c_11152003.nii.gz  0.000000     21.585171      0.000000   \n",
       "..                                ...       ...           ...           ...   \n",
       "270  PETCT_76ebd5c736_12292005.nii.gz  0.461538      0.111969      0.796225   \n",
       "273  PETCT_a9d7a14ba1_08142000.nii.gz  0.557038      0.049764      0.049764   \n",
       "276  PETCT_89fb723947_09032000.nii.gz  0.869232      0.634492      0.000000   \n",
       "280  PETCT_ded50b1e68_02092006.nii.gz       NaN      0.000000      0.000000   \n",
       "283  PETCT_e2309b8f92_06032007.nii.gz  0.000000      4.988849      0.000000   \n",
       "\n",
       "           subject_id subject_date  \\\n",
       "0    PETCT_661ddc60e0     03082002   \n",
       "4    PETCT_f082a3d319     11082004   \n",
       "7    PETCT_2922971d0f     07192003   \n",
       "9    PETCT_ae8c77a995     05182007   \n",
       "12   PETCT_277fc3c67c     11152003   \n",
       "..                ...          ...   \n",
       "270  PETCT_76ebd5c736     12292005   \n",
       "273  PETCT_a9d7a14ba1     08142000   \n",
       "276  PETCT_89fb723947     09032000   \n",
       "280  PETCT_ded50b1e68     02092006   \n",
       "283  PETCT_e2309b8f92     06032007   \n",
       "\n",
       "                                            Series UID          Collection  \\\n",
       "0    1.3.6.1.4.1.14519.5.2.1.4219.6651.329516157931...  FDG-PET-CT-Lesions   \n",
       "4    1.3.6.1.4.1.14519.5.2.1.4219.6651.306359696386...  FDG-PET-CT-Lesions   \n",
       "7    1.3.6.1.4.1.14519.5.2.1.4219.6651.168597161521...  FDG-PET-CT-Lesions   \n",
       "9    1.3.6.1.4.1.14519.5.2.1.4219.6651.223200767263...  FDG-PET-CT-Lesions   \n",
       "12   1.3.6.1.4.1.14519.5.2.1.4219.6651.197238272238...  FDG-PET-CT-Lesions   \n",
       "..                                                 ...                 ...   \n",
       "270  1.3.6.1.4.1.14519.5.2.1.4219.6651.134630856972...  FDG-PET-CT-Lesions   \n",
       "273  1.3.6.1.4.1.14519.5.2.1.4219.6651.101931276996...  FDG-PET-CT-Lesions   \n",
       "276  1.3.6.1.4.1.14519.5.2.1.4219.6651.194801755496...  FDG-PET-CT-Lesions   \n",
       "280  1.3.6.1.4.1.14519.5.2.1.4219.6651.294313739661...  FDG-PET-CT-Lesions   \n",
       "283  1.3.6.1.4.1.14519.5.2.1.4219.6651.246198250121...  FDG-PET-CT-Lesions   \n",
       "\n",
       "    3rd Party Analysis  Data Description URI  ... Modality  \\\n",
       "0                   NO                   NaN  ...      SEG   \n",
       "4                   NO                   NaN  ...      SEG   \n",
       "7                   NO                   NaN  ...      SEG   \n",
       "9                   NO                   NaN  ...      SEG   \n",
       "12                  NO                   NaN  ...      SEG   \n",
       "..                 ...                   ...  ...      ...   \n",
       "270                 NO                   NaN  ...      SEG   \n",
       "273                 NO                   NaN  ...      SEG   \n",
       "276                 NO                   NaN  ...      SEG   \n",
       "280                 NO                   NaN  ...      SEG   \n",
       "283                 NO                   NaN  ...      SEG   \n",
       "\n",
       "           SOP Class Name                 SOP Class UID Number of Images  \\\n",
       "0    Segmentation Storage  1.2.840.10008.5.1.4.1.1.66.4                1   \n",
       "4    Segmentation Storage  1.2.840.10008.5.1.4.1.1.66.4                1   \n",
       "7    Segmentation Storage  1.2.840.10008.5.1.4.1.1.66.4                1   \n",
       "9    Segmentation Storage  1.2.840.10008.5.1.4.1.1.66.4                1   \n",
       "12   Segmentation Storage  1.2.840.10008.5.1.4.1.1.66.4                1   \n",
       "..                    ...                           ...              ...   \n",
       "270  Segmentation Storage  1.2.840.10008.5.1.4.1.1.66.4                1   \n",
       "273  Segmentation Storage  1.2.840.10008.5.1.4.1.1.66.4                1   \n",
       "276  Segmentation Storage  1.2.840.10008.5.1.4.1.1.66.4                1   \n",
       "280  Segmentation Storage  1.2.840.10008.5.1.4.1.1.66.4                1   \n",
       "283  Segmentation Storage  1.2.840.10008.5.1.4.1.1.66.4                1   \n",
       "\n",
       "    File Size                                      File Location  \\\n",
       "0     5.88 MB  ./FDG-PET-CT-Lesions/PETCT_661ddc60e0/03-08-20...   \n",
       "4     5.01 MB  ./FDG-PET-CT-Lesions/PETCT_f082a3d319/11-08-20...   \n",
       "7     6.75 MB  ./FDG-PET-CT-Lesions/PETCT_2922971d0f/07-19-20...   \n",
       "9     6.60 MB  ./FDG-PET-CT-Lesions/PETCT_ae8c77a995/05-18-20...   \n",
       "12    5.88 MB  ./FDG-PET-CT-Lesions/PETCT_277fc3c67c/11-15-20...   \n",
       "..        ...                                                ...   \n",
       "270   6.60 MB  ./FDG-PET-CT-Lesions/PETCT_76ebd5c736/12-29-20...   \n",
       "273   5.88 MB  ./FDG-PET-CT-Lesions/PETCT_a9d7a14ba1/08-14-20...   \n",
       "276   6.76 MB  ./FDG-PET-CT-Lesions/PETCT_89fb723947/09-03-20...   \n",
       "280   6.13 MB  ./FDG-PET-CT-Lesions/PETCT_ded50b1e68/02-09-20...   \n",
       "283   6.13 MB  ./FDG-PET-CT-Lesions/PETCT_e2309b8f92/06-03-20...   \n",
       "\n",
       "          Download Timestamp    diagnosis   age sex  \n",
       "0    2022-03-17T16:04:14.333     MELANOMA  078Y   M  \n",
       "4    2022-03-17T21:19:53.125     NEGATIVE  044Y   M  \n",
       "7    2022-03-17T13:58:56.794     NEGATIVE  077Y   F  \n",
       "9    2022-03-17T18:31:32.903     MELANOMA  050Y   F  \n",
       "12    2022-03-17T13:55:42.07     NEGATIVE  073Y   F  \n",
       "..                       ...          ...   ...  ..  \n",
       "270   2022-03-17T16:27:04.01     MELANOMA  053Y   M  \n",
       "273  2022-03-17T18:21:07.855  LUNG_CANCER  065Y   M  \n",
       "276   2022-03-17T17:02:10.62  LUNG_CANCER  058Y   M  \n",
       "280  2022-03-17T20:44:06.955     NEGATIVE  060Y   M  \n",
       "283  2022-03-17T20:49:47.996     NEGATIVE  071Y   F  \n",
       "\n",
       "[95 rows x 24 columns]"
      ]
     },
     "execution_count": 9,
     "metadata": {},
     "output_type": "execute_result"
    }
   ],
   "source": [
    "list_dfs[0]"
   ]
  },
  {
   "cell_type": "code",
   "execution_count": 21,
   "id": "0d37968b-ced2-42d6-b12e-e78f7ad58239",
   "metadata": {
    "scrolled": true
   },
   "outputs": [
    {
     "name": "stdout",
     "output_type": "stream",
     "text": [
      "0.001\n",
      "0.001\n",
      "0.001\n",
      "0.001\n",
      "0.001\n",
      "0.001\n",
      "0.001\n",
      "0.001\n",
      "0.001\n",
      "0.001\n",
      "0.001\n",
      "0.001\n"
     ]
    },
    {
     "ename": "KeyboardInterrupt",
     "evalue": "",
     "output_type": "error",
     "traceback": [
      "\u001b[0;31m---------------------------------------------------------------------------\u001b[0m",
      "\u001b[0;31mKeyboardInterrupt\u001b[0m                         Traceback (most recent call last)",
      "Cell \u001b[0;32mIn[21], line 3\u001b[0m\n\u001b[1;32m      1\u001b[0m CV_preds_folder \u001b[38;5;241m=\u001b[39m \u001b[38;5;124m\"\u001b[39m\u001b[38;5;124mnnUNet_results/Dataset219_PETCT/nnUNetTrainer_1500epochs_NoMirroring__nnUNetPlans__3d_fullres/processedinferTs10\u001b[39m\u001b[38;5;124m\"\u001b[39m\n\u001b[1;32m      2\u001b[0m \u001b[38;5;28;01mfor\u001b[39;00m image \u001b[38;5;129;01min\u001b[39;00m os\u001b[38;5;241m.\u001b[39mlistdir(CV_preds_folder):\n\u001b[0;32m----> 3\u001b[0m     a, vol \u001b[38;5;241m=\u001b[39m\u001b[43mnii2numpy\u001b[49m\u001b[43m(\u001b[49m\u001b[43mos\u001b[49m\u001b[38;5;241;43m.\u001b[39;49m\u001b[43mpath\u001b[49m\u001b[38;5;241;43m.\u001b[39;49m\u001b[43mjoin\u001b[49m\u001b[43m(\u001b[49m\u001b[43mCV_preds_folder\u001b[49m\u001b[43m,\u001b[49m\u001b[43mimage\u001b[49m\u001b[43m)\u001b[49m\u001b[43m)\u001b[49m\n\u001b[1;32m      4\u001b[0m     \u001b[38;5;28mprint\u001b[39m(vol)\n",
      "Cell \u001b[0;32mIn[7], line 3\u001b[0m, in \u001b[0;36mnii2numpy\u001b[0;34m(nii_path)\u001b[0m\n\u001b[1;32m      1\u001b[0m \u001b[38;5;28;01mdef\u001b[39;00m \u001b[38;5;21mnii2numpy\u001b[39m(nii_path):\n\u001b[1;32m      2\u001b[0m     \u001b[38;5;66;03m# input: path of NIfTI segmentation file, output: corresponding numpy array and voxel_vol in ml\u001b[39;00m\n\u001b[0;32m----> 3\u001b[0m     mask_nii \u001b[38;5;241m=\u001b[39m \u001b[43mnib\u001b[49m\u001b[38;5;241;43m.\u001b[39;49m\u001b[43mload\u001b[49m\u001b[43m(\u001b[49m\u001b[38;5;28;43mstr\u001b[39;49m\u001b[43m(\u001b[49m\u001b[43mnii_path\u001b[49m\u001b[43m)\u001b[49m\u001b[43m)\u001b[49m\n\u001b[1;32m      4\u001b[0m     mask \u001b[38;5;241m=\u001b[39m mask_nii\u001b[38;5;241m.\u001b[39mget_fdata()\n\u001b[1;32m      5\u001b[0m     pixdim \u001b[38;5;241m=\u001b[39m mask_nii\u001b[38;5;241m.\u001b[39mheader[\u001b[38;5;124m'\u001b[39m\u001b[38;5;124mpixdim\u001b[39m\u001b[38;5;124m'\u001b[39m]   \n",
      "File \u001b[0;32m/gpfs3/well/papiez/users/hri611/python/env1-skylake/lib/python3.10/site-packages/nibabel/loadsave.py:108\u001b[0m, in \u001b[0;36mload\u001b[0;34m(filename, **kwargs)\u001b[0m\n\u001b[1;32m    106\u001b[0m sniff \u001b[38;5;241m=\u001b[39m \u001b[38;5;28;01mNone\u001b[39;00m\n\u001b[1;32m    107\u001b[0m \u001b[38;5;28;01mfor\u001b[39;00m image_klass \u001b[38;5;129;01min\u001b[39;00m all_image_classes:\n\u001b[0;32m--> 108\u001b[0m     is_valid, sniff \u001b[38;5;241m=\u001b[39m \u001b[43mimage_klass\u001b[49m\u001b[38;5;241;43m.\u001b[39;49m\u001b[43mpath_maybe_image\u001b[49m\u001b[43m(\u001b[49m\u001b[43mfilename\u001b[49m\u001b[43m,\u001b[49m\u001b[43m \u001b[49m\u001b[43msniff\u001b[49m\u001b[43m)\u001b[49m\n\u001b[1;32m    109\u001b[0m     \u001b[38;5;28;01mif\u001b[39;00m is_valid:\n\u001b[1;32m    110\u001b[0m         img \u001b[38;5;241m=\u001b[39m image_klass\u001b[38;5;241m.\u001b[39mfrom_filename(filename, \u001b[38;5;241m*\u001b[39m\u001b[38;5;241m*\u001b[39mkwargs)\n",
      "File \u001b[0;32m/gpfs3/well/papiez/users/hri611/python/env1-skylake/lib/python3.10/site-packages/nibabel/filebasedimages.py:476\u001b[0m, in \u001b[0;36mFileBasedImage.path_maybe_image\u001b[0;34m(klass, filename, sniff, sniff_max)\u001b[0m\n\u001b[1;32m    474\u001b[0m \u001b[38;5;28;01mif\u001b[39;00m sniff \u001b[38;5;129;01mis\u001b[39;00m \u001b[38;5;129;01mnot\u001b[39;00m \u001b[38;5;28;01mNone\u001b[39;00m \u001b[38;5;129;01mand\u001b[39;00m \u001b[38;5;28mlen\u001b[39m(sniff[\u001b[38;5;241m0\u001b[39m]) \u001b[38;5;241m<\u001b[39m klass\u001b[38;5;241m.\u001b[39m_meta_sniff_len:\n\u001b[1;32m    475\u001b[0m     sniff \u001b[38;5;241m=\u001b[39m \u001b[38;5;28;01mNone\u001b[39;00m\n\u001b[0;32m--> 476\u001b[0m sniff \u001b[38;5;241m=\u001b[39m \u001b[43mklass\u001b[49m\u001b[38;5;241;43m.\u001b[39;49m\u001b[43m_sniff_meta_for\u001b[49m\u001b[43m(\u001b[49m\u001b[43mfilename\u001b[49m\u001b[43m,\u001b[49m\u001b[43m \u001b[49m\u001b[38;5;28;43mmax\u001b[39;49m\u001b[43m(\u001b[49m\u001b[43mklass\u001b[49m\u001b[38;5;241;43m.\u001b[39;49m\u001b[43m_meta_sniff_len\u001b[49m\u001b[43m,\u001b[49m\u001b[43m \u001b[49m\u001b[43msniff_max\u001b[49m\u001b[43m)\u001b[49m\u001b[43m,\u001b[49m\u001b[43m \u001b[49m\u001b[43msniff\u001b[49m\u001b[43m)\u001b[49m\n\u001b[1;32m    477\u001b[0m \u001b[38;5;28;01mif\u001b[39;00m sniff \u001b[38;5;129;01mis\u001b[39;00m \u001b[38;5;28;01mNone\u001b[39;00m \u001b[38;5;129;01mor\u001b[39;00m \u001b[38;5;28mlen\u001b[39m(sniff[\u001b[38;5;241m0\u001b[39m]) \u001b[38;5;241m<\u001b[39m klass\u001b[38;5;241m.\u001b[39m_meta_sniff_len:\n\u001b[1;32m    478\u001b[0m     \u001b[38;5;28;01mreturn\u001b[39;00m \u001b[38;5;28;01mFalse\u001b[39;00m, sniff\n",
      "File \u001b[0;32m/gpfs3/well/papiez/users/hri611/python/env1-skylake/lib/python3.10/site-packages/nibabel/filebasedimages.py:422\u001b[0m, in \u001b[0;36mFileBasedImage._sniff_meta_for\u001b[0;34m(klass, filename, sniff_nbytes, sniff)\u001b[0m\n\u001b[1;32m    420\u001b[0m \u001b[38;5;28;01mtry\u001b[39;00m:\n\u001b[1;32m    421\u001b[0m     \u001b[38;5;28;01mwith\u001b[39;00m ImageOpener(meta_fname, \u001b[38;5;124m'\u001b[39m\u001b[38;5;124mrb\u001b[39m\u001b[38;5;124m'\u001b[39m) \u001b[38;5;28;01mas\u001b[39;00m fobj:\n\u001b[0;32m--> 422\u001b[0m         binaryblock \u001b[38;5;241m=\u001b[39m \u001b[43mfobj\u001b[49m\u001b[38;5;241;43m.\u001b[39;49m\u001b[43mread\u001b[49m\u001b[43m(\u001b[49m\u001b[43msniff_nbytes\u001b[49m\u001b[43m)\u001b[49m\n\u001b[1;32m    423\u001b[0m \u001b[38;5;28;01mexcept\u001b[39;00m COMPRESSION_ERRORS \u001b[38;5;241m+\u001b[39m (\u001b[38;5;167;01mOSError\u001b[39;00m, \u001b[38;5;167;01mEOFError\u001b[39;00m):\n\u001b[1;32m    424\u001b[0m     \u001b[38;5;28;01mreturn\u001b[39;00m \u001b[38;5;28;01mNone\u001b[39;00m\n",
      "File \u001b[0;32m/gpfs3/well/papiez/users/hri611/python/env1-skylake/lib/python3.10/site-packages/nibabel/openers.py:223\u001b[0m, in \u001b[0;36mOpener.read\u001b[0;34m(self, size)\u001b[0m\n\u001b[1;32m    222\u001b[0m \u001b[38;5;28;01mdef\u001b[39;00m \u001b[38;5;21mread\u001b[39m(\u001b[38;5;28mself\u001b[39m, size: \u001b[38;5;28mint\u001b[39m \u001b[38;5;241m=\u001b[39m \u001b[38;5;241m-\u001b[39m\u001b[38;5;241m1\u001b[39m, \u001b[38;5;241m/\u001b[39m) \u001b[38;5;241m-\u001b[39m\u001b[38;5;241m>\u001b[39m \u001b[38;5;28mbytes\u001b[39m:\n\u001b[0;32m--> 223\u001b[0m     \u001b[38;5;28;01mreturn\u001b[39;00m \u001b[38;5;28;43mself\u001b[39;49m\u001b[38;5;241;43m.\u001b[39;49m\u001b[43mfobj\u001b[49m\u001b[38;5;241;43m.\u001b[39;49m\u001b[43mread\u001b[49m\u001b[43m(\u001b[49m\u001b[43msize\u001b[49m\u001b[43m)\u001b[49m\n",
      "File \u001b[0;32m/apps/eb/2020b/skylake/software/Python/3.10.8-GCCcore-12.2.0/lib/python3.10/gzip.py:301\u001b[0m, in \u001b[0;36mGzipFile.read\u001b[0;34m(self, size)\u001b[0m\n\u001b[1;32m    299\u001b[0m     \u001b[38;5;28;01mimport\u001b[39;00m \u001b[38;5;21;01merrno\u001b[39;00m\n\u001b[1;32m    300\u001b[0m     \u001b[38;5;28;01mraise\u001b[39;00m \u001b[38;5;167;01mOSError\u001b[39;00m(errno\u001b[38;5;241m.\u001b[39mEBADF, \u001b[38;5;124m\"\u001b[39m\u001b[38;5;124mread() on write-only GzipFile object\u001b[39m\u001b[38;5;124m\"\u001b[39m)\n\u001b[0;32m--> 301\u001b[0m \u001b[38;5;28;01mreturn\u001b[39;00m \u001b[38;5;28;43mself\u001b[39;49m\u001b[38;5;241;43m.\u001b[39;49m\u001b[43m_buffer\u001b[49m\u001b[38;5;241;43m.\u001b[39;49m\u001b[43mread\u001b[49m\u001b[43m(\u001b[49m\u001b[43msize\u001b[49m\u001b[43m)\u001b[49m\n",
      "File \u001b[0;32m/apps/eb/2020b/skylake/software/Python/3.10.8-GCCcore-12.2.0/lib/python3.10/_compression.py:68\u001b[0m, in \u001b[0;36mDecompressReader.readinto\u001b[0;34m(self, b)\u001b[0m\n\u001b[1;32m     66\u001b[0m \u001b[38;5;28;01mdef\u001b[39;00m \u001b[38;5;21mreadinto\u001b[39m(\u001b[38;5;28mself\u001b[39m, b):\n\u001b[1;32m     67\u001b[0m     \u001b[38;5;28;01mwith\u001b[39;00m \u001b[38;5;28mmemoryview\u001b[39m(b) \u001b[38;5;28;01mas\u001b[39;00m view, view\u001b[38;5;241m.\u001b[39mcast(\u001b[38;5;124m\"\u001b[39m\u001b[38;5;124mB\u001b[39m\u001b[38;5;124m\"\u001b[39m) \u001b[38;5;28;01mas\u001b[39;00m byte_view:\n\u001b[0;32m---> 68\u001b[0m         data \u001b[38;5;241m=\u001b[39m \u001b[38;5;28;43mself\u001b[39;49m\u001b[38;5;241;43m.\u001b[39;49m\u001b[43mread\u001b[49m\u001b[43m(\u001b[49m\u001b[38;5;28;43mlen\u001b[39;49m\u001b[43m(\u001b[49m\u001b[43mbyte_view\u001b[49m\u001b[43m)\u001b[49m\u001b[43m)\u001b[49m\n\u001b[1;32m     69\u001b[0m         byte_view[:\u001b[38;5;28mlen\u001b[39m(data)] \u001b[38;5;241m=\u001b[39m data\n\u001b[1;32m     70\u001b[0m     \u001b[38;5;28;01mreturn\u001b[39;00m \u001b[38;5;28mlen\u001b[39m(data)\n",
      "File \u001b[0;32m/apps/eb/2020b/skylake/software/Python/3.10.8-GCCcore-12.2.0/lib/python3.10/gzip.py:488\u001b[0m, in \u001b[0;36m_GzipReader.read\u001b[0;34m(self, size)\u001b[0m\n\u001b[1;32m    484\u001b[0m \u001b[38;5;28;01mif\u001b[39;00m \u001b[38;5;28mself\u001b[39m\u001b[38;5;241m.\u001b[39m_new_member:\n\u001b[1;32m    485\u001b[0m     \u001b[38;5;66;03m# If the _new_member flag is set, we have to\u001b[39;00m\n\u001b[1;32m    486\u001b[0m     \u001b[38;5;66;03m# jump to the next member, if there is one.\u001b[39;00m\n\u001b[1;32m    487\u001b[0m     \u001b[38;5;28mself\u001b[39m\u001b[38;5;241m.\u001b[39m_init_read()\n\u001b[0;32m--> 488\u001b[0m     \u001b[38;5;28;01mif\u001b[39;00m \u001b[38;5;129;01mnot\u001b[39;00m \u001b[38;5;28;43mself\u001b[39;49m\u001b[38;5;241;43m.\u001b[39;49m\u001b[43m_read_gzip_header\u001b[49m\u001b[43m(\u001b[49m\u001b[43m)\u001b[49m:\n\u001b[1;32m    489\u001b[0m         \u001b[38;5;28mself\u001b[39m\u001b[38;5;241m.\u001b[39m_size \u001b[38;5;241m=\u001b[39m \u001b[38;5;28mself\u001b[39m\u001b[38;5;241m.\u001b[39m_pos\n\u001b[1;32m    490\u001b[0m         \u001b[38;5;28;01mreturn\u001b[39;00m \u001b[38;5;124mb\u001b[39m\u001b[38;5;124m\"\u001b[39m\u001b[38;5;124m\"\u001b[39m\n",
      "File \u001b[0;32m/apps/eb/2020b/skylake/software/Python/3.10.8-GCCcore-12.2.0/lib/python3.10/gzip.py:431\u001b[0m, in \u001b[0;36m_GzipReader._read_gzip_header\u001b[0;34m(self)\u001b[0m\n\u001b[1;32m    430\u001b[0m \u001b[38;5;28;01mdef\u001b[39;00m \u001b[38;5;21m_read_gzip_header\u001b[39m(\u001b[38;5;28mself\u001b[39m):\n\u001b[0;32m--> 431\u001b[0m     magic \u001b[38;5;241m=\u001b[39m \u001b[38;5;28;43mself\u001b[39;49m\u001b[38;5;241;43m.\u001b[39;49m\u001b[43m_fp\u001b[49m\u001b[38;5;241;43m.\u001b[39;49m\u001b[43mread\u001b[49m\u001b[43m(\u001b[49m\u001b[38;5;241;43m2\u001b[39;49m\u001b[43m)\u001b[49m\n\u001b[1;32m    432\u001b[0m     \u001b[38;5;28;01mif\u001b[39;00m magic \u001b[38;5;241m==\u001b[39m \u001b[38;5;124mb\u001b[39m\u001b[38;5;124m'\u001b[39m\u001b[38;5;124m'\u001b[39m:\n\u001b[1;32m    433\u001b[0m         \u001b[38;5;28;01mreturn\u001b[39;00m \u001b[38;5;28;01mFalse\u001b[39;00m\n",
      "File \u001b[0;32m/apps/eb/2020b/skylake/software/Python/3.10.8-GCCcore-12.2.0/lib/python3.10/gzip.py:97\u001b[0m, in \u001b[0;36m_PaddedFile.read\u001b[0;34m(self, size)\u001b[0m\n\u001b[1;32m     94\u001b[0m read \u001b[38;5;241m=\u001b[39m \u001b[38;5;28mself\u001b[39m\u001b[38;5;241m.\u001b[39m_read\n\u001b[1;32m     95\u001b[0m \u001b[38;5;28mself\u001b[39m\u001b[38;5;241m.\u001b[39m_read \u001b[38;5;241m=\u001b[39m \u001b[38;5;28;01mNone\u001b[39;00m\n\u001b[1;32m     96\u001b[0m \u001b[38;5;28;01mreturn\u001b[39;00m \u001b[38;5;28mself\u001b[39m\u001b[38;5;241m.\u001b[39m_buffer[read:] \u001b[38;5;241m+\u001b[39m \\\n\u001b[0;32m---> 97\u001b[0m        \u001b[38;5;28;43mself\u001b[39;49m\u001b[38;5;241;43m.\u001b[39;49m\u001b[43mfile\u001b[49m\u001b[38;5;241;43m.\u001b[39;49m\u001b[43mread\u001b[49m\u001b[43m(\u001b[49m\u001b[43msize\u001b[49m\u001b[38;5;241;43m-\u001b[39;49m\u001b[38;5;28;43mself\u001b[39;49m\u001b[38;5;241;43m.\u001b[39;49m\u001b[43m_length\u001b[49m\u001b[38;5;241;43m+\u001b[39;49m\u001b[43mread\u001b[49m\u001b[43m)\u001b[49m\n",
      "\u001b[0;31mKeyboardInterrupt\u001b[0m: "
     ]
    }
   ],
   "source": [
    "CV_preds_folder = \"nnUNet_results/Dataset219_PETCT/nnUNetTrainer_1500epochs_NoMirroring__nnUNetPlans__3d_fullres/processedinferTs10\"\n",
    "for image in os.listdir(CV_preds_folder):\n",
    "    a, vol =nii2numpy(os.path.join(CV_preds_folder,image))\n",
    "    print(vol)"
   ]
  },
  {
   "cell_type": "code",
   "execution_count": 18,
   "id": "db553ee3-80e7-401c-8a90-1b4432d74850",
   "metadata": {},
   "outputs": [
    {
     "name": "stdout",
     "output_type": "stream",
     "text": [
      "0.012441020965576172\n",
      "0.012441020965576172\n",
      "0.012441020965576172\n",
      "0.012441020965576172\n",
      "0.012441020965576172\n",
      "0.012441020965576172\n",
      "0.012441020965576172\n",
      "0.012441020965576172\n",
      "0.012441020965576172\n",
      "0.012441020965576172\n",
      "0.012441020965576172\n",
      "0.012441020965576172\n",
      "0.012441020965576172\n",
      "0.012441020965576172\n",
      "0.012441020965576172\n",
      "0.012441020965576172\n",
      "0.012441020965576172\n",
      "0.012441020965576172\n",
      "0.012441020965576172\n",
      "0.012441020965576172\n",
      "0.012441020965576172\n",
      "0.012441020965576172\n",
      "0.012441020965576172\n",
      "0.012441020965576172\n",
      "0.012441020965576172\n",
      "0.012441020965576172\n",
      "0.012441020965576172\n",
      "0.012441020965576172\n",
      "0.012441020965576172\n",
      "0.012441020965576172\n",
      "0.012441020965576172\n",
      "0.012441020965576172\n",
      "0.012441020965576172\n",
      "0.012441020965576172\n",
      "0.012441020965576172\n",
      "0.012441020965576172\n",
      "0.012441020965576172\n",
      "0.012441020965576172\n",
      "0.012441020965576172\n",
      "0.012441020965576172\n",
      "0.012441020965576172\n",
      "0.012441020965576172\n",
      "0.012441020965576172\n",
      "0.012441020965576172\n",
      "0.012441020965576172\n",
      "0.012441020965576172\n",
      "0.012441020965576172\n",
      "0.012441020965576172\n",
      "0.012441020965576172\n",
      "0.012441020965576172\n",
      "0.012441020965576172\n",
      "0.012441020965576172\n",
      "0.012441020965576172\n",
      "0.012441020965576172\n",
      "0.012441020965576172\n",
      "0.012441020965576172\n",
      "0.012441020965576172\n",
      "0.012441020965576172\n",
      "0.012441020965576172\n",
      "0.012441020965576172\n",
      "0.012441020965576172\n",
      "0.012441020965576172\n",
      "0.012441020965576172\n",
      "0.012441020965576172\n",
      "0.012441020965576172\n",
      "0.012441020965576172\n",
      "0.012441020965576172\n",
      "0.012441020965576172\n",
      "0.012441020965576172\n",
      "0.012441020965576172\n",
      "0.012441020965576172\n",
      "0.012441020965576172\n",
      "0.012441020965576172\n",
      "0.012441020965576172\n",
      "0.012441020965576172\n",
      "0.012441020965576172\n",
      "0.012441020965576172\n",
      "0.012441020965576172\n",
      "0.012441020965576172\n",
      "0.012441020965576172\n",
      "0.012441020965576172\n",
      "0.012441020965576172\n",
      "0.012441020965576172\n",
      "0.012441020965576172\n",
      "0.012441020965576172\n",
      "0.012441020965576172\n",
      "0.012441020965576172\n",
      "0.012441020965576172\n"
     ]
    },
    {
     "ename": "KeyboardInterrupt",
     "evalue": "",
     "output_type": "error",
     "traceback": [
      "\u001b[0;31m---------------------------------------------------------------------------\u001b[0m",
      "\u001b[0;31mKeyboardInterrupt\u001b[0m                         Traceback (most recent call last)",
      "Cell \u001b[0;32mIn[18], line 5\u001b[0m\n\u001b[1;32m      3\u001b[0m labels_folder \u001b[38;5;241m=\u001b[39m \u001b[38;5;124m'\u001b[39m\u001b[38;5;124m/gpfs3/well/papiez/users/hri611/python/nnUnet_raw/Dataset220_PETCT/labelsTs\u001b[39m\u001b[38;5;124m'\u001b[39m\n\u001b[1;32m      4\u001b[0m \u001b[38;5;28;01mfor\u001b[39;00m image \u001b[38;5;129;01min\u001b[39;00m os\u001b[38;5;241m.\u001b[39mlistdir(labels_folder):\n\u001b[0;32m----> 5\u001b[0m     a, vol \u001b[38;5;241m=\u001b[39m\u001b[43mnii2numpy\u001b[49m\u001b[43m(\u001b[49m\u001b[43mos\u001b[49m\u001b[38;5;241;43m.\u001b[39;49m\u001b[43mpath\u001b[49m\u001b[38;5;241;43m.\u001b[39;49m\u001b[43mjoin\u001b[49m\u001b[43m(\u001b[49m\u001b[43mlabels_folder\u001b[49m\u001b[43m,\u001b[49m\u001b[43mimage\u001b[49m\u001b[43m)\u001b[49m\u001b[43m)\u001b[49m\n\u001b[1;32m      6\u001b[0m     \u001b[38;5;28mprint\u001b[39m(vol)\n",
      "Cell \u001b[0;32mIn[7], line 4\u001b[0m, in \u001b[0;36mnii2numpy\u001b[0;34m(nii_path)\u001b[0m\n\u001b[1;32m      1\u001b[0m \u001b[38;5;28;01mdef\u001b[39;00m \u001b[38;5;21mnii2numpy\u001b[39m(nii_path):\n\u001b[1;32m      2\u001b[0m     \u001b[38;5;66;03m# input: path of NIfTI segmentation file, output: corresponding numpy array and voxel_vol in ml\u001b[39;00m\n\u001b[1;32m      3\u001b[0m     mask_nii \u001b[38;5;241m=\u001b[39m nib\u001b[38;5;241m.\u001b[39mload(\u001b[38;5;28mstr\u001b[39m(nii_path))\n\u001b[0;32m----> 4\u001b[0m     mask \u001b[38;5;241m=\u001b[39m \u001b[43mmask_nii\u001b[49m\u001b[38;5;241;43m.\u001b[39;49m\u001b[43mget_fdata\u001b[49m\u001b[43m(\u001b[49m\u001b[43m)\u001b[49m\n\u001b[1;32m      5\u001b[0m     pixdim \u001b[38;5;241m=\u001b[39m mask_nii\u001b[38;5;241m.\u001b[39mheader[\u001b[38;5;124m'\u001b[39m\u001b[38;5;124mpixdim\u001b[39m\u001b[38;5;124m'\u001b[39m]   \n\u001b[1;32m      6\u001b[0m     voxel_vol \u001b[38;5;241m=\u001b[39m pixdim[\u001b[38;5;241m1\u001b[39m]\u001b[38;5;241m*\u001b[39mpixdim[\u001b[38;5;241m2\u001b[39m]\u001b[38;5;241m*\u001b[39mpixdim[\u001b[38;5;241m3\u001b[39m]\u001b[38;5;241m/\u001b[39m\u001b[38;5;241m1000\u001b[39m\n",
      "File \u001b[0;32m/gpfs3/well/papiez/users/hri611/python/env1-skylake/lib/python3.10/site-packages/nibabel/dataobj_images.py:373\u001b[0m, in \u001b[0;36mDataobjImage.get_fdata\u001b[0;34m(self, caching, dtype)\u001b[0m\n\u001b[1;32m    369\u001b[0m         \u001b[38;5;28;01mreturn\u001b[39;00m \u001b[38;5;28mself\u001b[39m\u001b[38;5;241m.\u001b[39m_fdata_cache\n\u001b[1;32m    370\u001b[0m \u001b[38;5;66;03m# Always return requested data type\u001b[39;00m\n\u001b[1;32m    371\u001b[0m \u001b[38;5;66;03m# For array proxies, will attempt to confine data array to dtype\u001b[39;00m\n\u001b[1;32m    372\u001b[0m \u001b[38;5;66;03m# during scaling\u001b[39;00m\n\u001b[0;32m--> 373\u001b[0m data \u001b[38;5;241m=\u001b[39m \u001b[43mnp\u001b[49m\u001b[38;5;241;43m.\u001b[39;49m\u001b[43masanyarray\u001b[49m\u001b[43m(\u001b[49m\u001b[38;5;28;43mself\u001b[39;49m\u001b[38;5;241;43m.\u001b[39;49m\u001b[43m_dataobj\u001b[49m\u001b[43m,\u001b[49m\u001b[43m \u001b[49m\u001b[43mdtype\u001b[49m\u001b[38;5;241;43m=\u001b[39;49m\u001b[43mdtype\u001b[49m\u001b[43m)\u001b[49m\n\u001b[1;32m    374\u001b[0m \u001b[38;5;28;01mif\u001b[39;00m caching \u001b[38;5;241m==\u001b[39m \u001b[38;5;124m'\u001b[39m\u001b[38;5;124mfill\u001b[39m\u001b[38;5;124m'\u001b[39m:\n\u001b[1;32m    375\u001b[0m     \u001b[38;5;28mself\u001b[39m\u001b[38;5;241m.\u001b[39m_fdata_cache \u001b[38;5;241m=\u001b[39m data\n",
      "File \u001b[0;32m/gpfs3/well/papiez/users/hri611/python/env1-skylake/lib/python3.10/site-packages/nibabel/arrayproxy.py:439\u001b[0m, in \u001b[0;36mArrayProxy.__array__\u001b[0;34m(self, dtype)\u001b[0m\n\u001b[1;32m    418\u001b[0m \u001b[38;5;28;01mdef\u001b[39;00m \u001b[38;5;21m__array__\u001b[39m(\u001b[38;5;28mself\u001b[39m, dtype\u001b[38;5;241m=\u001b[39m\u001b[38;5;28;01mNone\u001b[39;00m):\n\u001b[1;32m    419\u001b[0m \u001b[38;5;250m    \u001b[39m\u001b[38;5;124;03m\"\"\"Read data from file and apply scaling, casting to ``dtype``\u001b[39;00m\n\u001b[1;32m    420\u001b[0m \n\u001b[1;32m    421\u001b[0m \u001b[38;5;124;03m    If ``dtype`` is unspecified, the dtype of the returned array is the\u001b[39;00m\n\u001b[0;32m   (...)\u001b[0m\n\u001b[1;32m    437\u001b[0m \u001b[38;5;124;03m        Scaled image data with type `dtype`.\u001b[39;00m\n\u001b[1;32m    438\u001b[0m \u001b[38;5;124;03m    \"\"\"\u001b[39;00m\n\u001b[0;32m--> 439\u001b[0m     arr \u001b[38;5;241m=\u001b[39m \u001b[38;5;28;43mself\u001b[39;49m\u001b[38;5;241;43m.\u001b[39;49m\u001b[43m_get_scaled\u001b[49m\u001b[43m(\u001b[49m\u001b[43mdtype\u001b[49m\u001b[38;5;241;43m=\u001b[39;49m\u001b[43mdtype\u001b[49m\u001b[43m,\u001b[49m\u001b[43m \u001b[49m\u001b[43mslicer\u001b[49m\u001b[38;5;241;43m=\u001b[39;49m\u001b[43m(\u001b[49m\u001b[43m)\u001b[49m\u001b[43m)\u001b[49m\n\u001b[1;32m    440\u001b[0m     \u001b[38;5;28;01mif\u001b[39;00m dtype \u001b[38;5;129;01mis\u001b[39;00m \u001b[38;5;129;01mnot\u001b[39;00m \u001b[38;5;28;01mNone\u001b[39;00m:\n\u001b[1;32m    441\u001b[0m         arr \u001b[38;5;241m=\u001b[39m arr\u001b[38;5;241m.\u001b[39mastype(dtype, copy\u001b[38;5;241m=\u001b[39m\u001b[38;5;28;01mFalse\u001b[39;00m)\n",
      "File \u001b[0;32m/gpfs3/well/papiez/users/hri611/python/env1-skylake/lib/python3.10/site-packages/nibabel/arrayproxy.py:406\u001b[0m, in \u001b[0;36mArrayProxy._get_scaled\u001b[0;34m(self, dtype, slicer)\u001b[0m\n\u001b[1;32m    404\u001b[0m     scl_inter \u001b[38;5;241m=\u001b[39m scl_inter\u001b[38;5;241m.\u001b[39mastype(use_dtype)\n\u001b[1;32m    405\u001b[0m \u001b[38;5;66;03m# Read array and upcast as necessary for big slopes, intercepts\u001b[39;00m\n\u001b[0;32m--> 406\u001b[0m scaled \u001b[38;5;241m=\u001b[39m apply_read_scaling(\u001b[38;5;28;43mself\u001b[39;49m\u001b[38;5;241;43m.\u001b[39;49m\u001b[43m_get_unscaled\u001b[49m\u001b[43m(\u001b[49m\u001b[43mslicer\u001b[49m\u001b[38;5;241;43m=\u001b[39;49m\u001b[43mslicer\u001b[49m\u001b[43m)\u001b[49m, scl_slope, scl_inter)\n\u001b[1;32m    407\u001b[0m \u001b[38;5;28;01mif\u001b[39;00m dtype \u001b[38;5;129;01mis\u001b[39;00m \u001b[38;5;129;01mnot\u001b[39;00m \u001b[38;5;28;01mNone\u001b[39;00m:\n\u001b[1;32m    408\u001b[0m     scaled \u001b[38;5;241m=\u001b[39m scaled\u001b[38;5;241m.\u001b[39mastype(np\u001b[38;5;241m.\u001b[39mpromote_types(scaled\u001b[38;5;241m.\u001b[39mdtype, dtype), copy\u001b[38;5;241m=\u001b[39m\u001b[38;5;28;01mFalse\u001b[39;00m)\n",
      "File \u001b[0;32m/gpfs3/well/papiez/users/hri611/python/env1-skylake/lib/python3.10/site-packages/nibabel/arrayproxy.py:376\u001b[0m, in \u001b[0;36mArrayProxy._get_unscaled\u001b[0;34m(self, slicer)\u001b[0m\n\u001b[1;32m    372\u001b[0m \u001b[38;5;28;01mif\u001b[39;00m canonical_slicers(slicer, \u001b[38;5;28mself\u001b[39m\u001b[38;5;241m.\u001b[39m_shape, \u001b[38;5;28;01mFalse\u001b[39;00m) \u001b[38;5;241m==\u001b[39m canonical_slicers(\n\u001b[1;32m    373\u001b[0m     (), \u001b[38;5;28mself\u001b[39m\u001b[38;5;241m.\u001b[39m_shape, \u001b[38;5;28;01mFalse\u001b[39;00m\n\u001b[1;32m    374\u001b[0m ):\n\u001b[1;32m    375\u001b[0m     \u001b[38;5;28;01mwith\u001b[39;00m \u001b[38;5;28mself\u001b[39m\u001b[38;5;241m.\u001b[39m_get_fileobj() \u001b[38;5;28;01mas\u001b[39;00m fileobj, \u001b[38;5;28mself\u001b[39m\u001b[38;5;241m.\u001b[39m_lock:\n\u001b[0;32m--> 376\u001b[0m         \u001b[38;5;28;01mreturn\u001b[39;00m \u001b[43marray_from_file\u001b[49m\u001b[43m(\u001b[49m\n\u001b[1;32m    377\u001b[0m \u001b[43m            \u001b[49m\u001b[38;5;28;43mself\u001b[39;49m\u001b[38;5;241;43m.\u001b[39;49m\u001b[43m_shape\u001b[49m\u001b[43m,\u001b[49m\n\u001b[1;32m    378\u001b[0m \u001b[43m            \u001b[49m\u001b[38;5;28;43mself\u001b[39;49m\u001b[38;5;241;43m.\u001b[39;49m\u001b[43m_dtype\u001b[49m\u001b[43m,\u001b[49m\n\u001b[1;32m    379\u001b[0m \u001b[43m            \u001b[49m\u001b[43mfileobj\u001b[49m\u001b[43m,\u001b[49m\n\u001b[1;32m    380\u001b[0m \u001b[43m            \u001b[49m\u001b[43moffset\u001b[49m\u001b[38;5;241;43m=\u001b[39;49m\u001b[38;5;28;43mself\u001b[39;49m\u001b[38;5;241;43m.\u001b[39;49m\u001b[43m_offset\u001b[49m\u001b[43m,\u001b[49m\n\u001b[1;32m    381\u001b[0m \u001b[43m            \u001b[49m\u001b[43morder\u001b[49m\u001b[38;5;241;43m=\u001b[39;49m\u001b[38;5;28;43mself\u001b[39;49m\u001b[38;5;241;43m.\u001b[39;49m\u001b[43morder\u001b[49m\u001b[43m,\u001b[49m\n\u001b[1;32m    382\u001b[0m \u001b[43m            \u001b[49m\u001b[43mmmap\u001b[49m\u001b[38;5;241;43m=\u001b[39;49m\u001b[38;5;28;43mself\u001b[39;49m\u001b[38;5;241;43m.\u001b[39;49m\u001b[43m_mmap\u001b[49m\u001b[43m,\u001b[49m\n\u001b[1;32m    383\u001b[0m \u001b[43m        \u001b[49m\u001b[43m)\u001b[49m\n\u001b[1;32m    384\u001b[0m \u001b[38;5;28;01mwith\u001b[39;00m \u001b[38;5;28mself\u001b[39m\u001b[38;5;241m.\u001b[39m_get_fileobj() \u001b[38;5;28;01mas\u001b[39;00m fileobj:\n\u001b[1;32m    385\u001b[0m     \u001b[38;5;28;01mreturn\u001b[39;00m fileslice(\n\u001b[1;32m    386\u001b[0m         fileobj,\n\u001b[1;32m    387\u001b[0m         slicer,\n\u001b[0;32m   (...)\u001b[0m\n\u001b[1;32m    392\u001b[0m         lock\u001b[38;5;241m=\u001b[39m\u001b[38;5;28mself\u001b[39m\u001b[38;5;241m.\u001b[39m_lock,\n\u001b[1;32m    393\u001b[0m     )\n",
      "File \u001b[0;32m/gpfs3/well/papiez/users/hri611/python/env1-skylake/lib/python3.10/site-packages/nibabel/volumeutils.py:465\u001b[0m, in \u001b[0;36marray_from_file\u001b[0;34m(shape, in_dtype, infile, offset, order, mmap)\u001b[0m\n\u001b[1;32m    463\u001b[0m \u001b[38;5;28;01mif\u001b[39;00m \u001b[38;5;28mhasattr\u001b[39m(infile, \u001b[38;5;124m'\u001b[39m\u001b[38;5;124mreadinto\u001b[39m\u001b[38;5;124m'\u001b[39m):\n\u001b[1;32m    464\u001b[0m     data_bytes \u001b[38;5;241m=\u001b[39m \u001b[38;5;28mbytearray\u001b[39m(n_bytes)\n\u001b[0;32m--> 465\u001b[0m     n_read \u001b[38;5;241m=\u001b[39m \u001b[43minfile\u001b[49m\u001b[38;5;241;43m.\u001b[39;49m\u001b[43mreadinto\u001b[49m\u001b[43m(\u001b[49m\u001b[43mdata_bytes\u001b[49m\u001b[43m)\u001b[49m\n\u001b[1;32m    466\u001b[0m     needs_copy \u001b[38;5;241m=\u001b[39m \u001b[38;5;28;01mFalse\u001b[39;00m\n\u001b[1;32m    467\u001b[0m \u001b[38;5;28;01melse\u001b[39;00m:\n",
      "File \u001b[0;32m/apps/eb/2020b/skylake/software/Python/3.10.8-GCCcore-12.2.0/lib/python3.10/gzip.py:301\u001b[0m, in \u001b[0;36mGzipFile.read\u001b[0;34m(self, size)\u001b[0m\n\u001b[1;32m    299\u001b[0m     \u001b[38;5;28;01mimport\u001b[39;00m \u001b[38;5;21;01merrno\u001b[39;00m\n\u001b[1;32m    300\u001b[0m     \u001b[38;5;28;01mraise\u001b[39;00m \u001b[38;5;167;01mOSError\u001b[39;00m(errno\u001b[38;5;241m.\u001b[39mEBADF, \u001b[38;5;124m\"\u001b[39m\u001b[38;5;124mread() on write-only GzipFile object\u001b[39m\u001b[38;5;124m\"\u001b[39m)\n\u001b[0;32m--> 301\u001b[0m \u001b[38;5;28;01mreturn\u001b[39;00m \u001b[38;5;28;43mself\u001b[39;49m\u001b[38;5;241;43m.\u001b[39;49m\u001b[43m_buffer\u001b[49m\u001b[38;5;241;43m.\u001b[39;49m\u001b[43mread\u001b[49m\u001b[43m(\u001b[49m\u001b[43msize\u001b[49m\u001b[43m)\u001b[49m\n",
      "File \u001b[0;32m/apps/eb/2020b/skylake/software/Python/3.10.8-GCCcore-12.2.0/lib/python3.10/_compression.py:68\u001b[0m, in \u001b[0;36mDecompressReader.readinto\u001b[0;34m(self, b)\u001b[0m\n\u001b[1;32m     66\u001b[0m \u001b[38;5;28;01mdef\u001b[39;00m \u001b[38;5;21mreadinto\u001b[39m(\u001b[38;5;28mself\u001b[39m, b):\n\u001b[1;32m     67\u001b[0m     \u001b[38;5;28;01mwith\u001b[39;00m \u001b[38;5;28mmemoryview\u001b[39m(b) \u001b[38;5;28;01mas\u001b[39;00m view, view\u001b[38;5;241m.\u001b[39mcast(\u001b[38;5;124m\"\u001b[39m\u001b[38;5;124mB\u001b[39m\u001b[38;5;124m\"\u001b[39m) \u001b[38;5;28;01mas\u001b[39;00m byte_view:\n\u001b[0;32m---> 68\u001b[0m         data \u001b[38;5;241m=\u001b[39m \u001b[38;5;28;43mself\u001b[39;49m\u001b[38;5;241;43m.\u001b[39;49m\u001b[43mread\u001b[49m\u001b[43m(\u001b[49m\u001b[38;5;28;43mlen\u001b[39;49m\u001b[43m(\u001b[49m\u001b[43mbyte_view\u001b[49m\u001b[43m)\u001b[49m\u001b[43m)\u001b[49m\n\u001b[1;32m     69\u001b[0m         byte_view[:\u001b[38;5;28mlen\u001b[39m(data)] \u001b[38;5;241m=\u001b[39m data\n\u001b[1;32m     70\u001b[0m     \u001b[38;5;28;01mreturn\u001b[39;00m \u001b[38;5;28mlen\u001b[39m(data)\n",
      "File \u001b[0;32m/apps/eb/2020b/skylake/software/Python/3.10.8-GCCcore-12.2.0/lib/python3.10/gzip.py:496\u001b[0m, in \u001b[0;36m_GzipReader.read\u001b[0;34m(self, size)\u001b[0m\n\u001b[1;32m    493\u001b[0m \u001b[38;5;66;03m# Read a chunk of data from the file\u001b[39;00m\n\u001b[1;32m    494\u001b[0m buf \u001b[38;5;241m=\u001b[39m \u001b[38;5;28mself\u001b[39m\u001b[38;5;241m.\u001b[39m_fp\u001b[38;5;241m.\u001b[39mread(io\u001b[38;5;241m.\u001b[39mDEFAULT_BUFFER_SIZE)\n\u001b[0;32m--> 496\u001b[0m uncompress \u001b[38;5;241m=\u001b[39m \u001b[38;5;28;43mself\u001b[39;49m\u001b[38;5;241;43m.\u001b[39;49m\u001b[43m_decompressor\u001b[49m\u001b[38;5;241;43m.\u001b[39;49m\u001b[43mdecompress\u001b[49m\u001b[43m(\u001b[49m\u001b[43mbuf\u001b[49m\u001b[43m,\u001b[49m\u001b[43m \u001b[49m\u001b[43msize\u001b[49m\u001b[43m)\u001b[49m\n\u001b[1;32m    497\u001b[0m \u001b[38;5;28;01mif\u001b[39;00m \u001b[38;5;28mself\u001b[39m\u001b[38;5;241m.\u001b[39m_decompressor\u001b[38;5;241m.\u001b[39munconsumed_tail \u001b[38;5;241m!=\u001b[39m \u001b[38;5;124mb\u001b[39m\u001b[38;5;124m\"\u001b[39m\u001b[38;5;124m\"\u001b[39m:\n\u001b[1;32m    498\u001b[0m     \u001b[38;5;28mself\u001b[39m\u001b[38;5;241m.\u001b[39m_fp\u001b[38;5;241m.\u001b[39mprepend(\u001b[38;5;28mself\u001b[39m\u001b[38;5;241m.\u001b[39m_decompressor\u001b[38;5;241m.\u001b[39munconsumed_tail)\n",
      "\u001b[0;31mKeyboardInterrupt\u001b[0m: "
     ]
    }
   ],
   "source": [
    "# voxel vol = 0.001\n",
    "# sohuld be:\n",
    "labels_folder = '/gpfs3/well/papiez/users/hri611/python/nnUnet_raw/Dataset220_PETCT/labelsTs'\n",
    "for image in os.listdir(labels_folder):\n",
    "    a, vol =nii2numpy(os.path.join(labels_folder,image))\n",
    "    print(vol)"
   ]
  },
  {
   "cell_type": "code",
   "execution_count": 23,
   "id": "321e75b7-df68-42d0-8ba4-e6ec1b71e905",
   "metadata": {},
   "outputs": [
    {
     "data": {
      "text/plain": [
       "12.441020965576172"
      ]
     },
     "execution_count": 23,
     "metadata": {},
     "output_type": "execute_result"
    }
   ],
   "source": [
    "coef = 0.012441020965576172/0.001\n",
    "coef"
   ]
  },
  {
   "cell_type": "code",
   "execution_count": 7,
   "id": "0f46a1a7-1b36-4c70-8f20-6f7786ee138d",
   "metadata": {},
   "outputs": [],
   "source": [
    "\n",
    "def nii2numpy(nii_path):\n",
    "    # input: path of NIfTI segmentation file, output: corresponding numpy array and voxel_vol in ml\n",
    "    mask_nii = nib.load(str(nii_path))\n",
    "    mask = mask_nii.get_fdata()\n",
    "    pixdim = mask_nii.header['pixdim']   \n",
    "    voxel_vol = pixdim[1]*pixdim[2]*pixdim[3]/1000\n",
    "    return mask, voxel_vol\n",
    "\n",
    "\n",
    "def con_comp(seg_array):\n",
    "    # input: a binary segmentation array output: an array with seperated (indexed) connected components of the segmentation array\n",
    "    connectivity = 18\n",
    "    conn_comp = cc3d.connected_components(seg_array, connectivity=connectivity)\n",
    "    return conn_comp\n",
    "\n",
    "\n",
    "def false_pos_pix(gt_array,pred_array):\n",
    "    # compute number of voxels of false positive connected components in prediction mask\n",
    "    pred_conn_comp = con_comp(pred_array)\n",
    "    \n",
    "    false_pos = 0\n",
    "    for idx in range(1,pred_conn_comp.max()+1):\n",
    "        comp_mask = np.isin(pred_conn_comp, idx)\n",
    "        if (comp_mask*gt_array).sum() == 0:\n",
    "            false_pos = false_pos+comp_mask.sum()\n",
    "    return false_pos\n",
    "\n",
    "\n",
    "\n",
    "def false_neg_pix(gt_array,pred_array):\n",
    "    # compute number of voxels of false negative connected components (of the ground truth mask) in the prediction mask\n",
    "    gt_conn_comp = con_comp(gt_array)\n",
    "    \n",
    "    false_neg = 0\n",
    "    for idx in range(1,gt_conn_comp.max()+1):\n",
    "        comp_mask = np.isin(gt_conn_comp, idx)\n",
    "        if (comp_mask*pred_array).sum() == 0:\n",
    "            false_neg = false_neg+comp_mask.sum()\n",
    "            \n",
    "    return false_neg\n",
    "\n",
    "\n",
    "def dice_score(mask1,mask2):\n",
    "    # compute foreground Dice coefficient\n",
    "    overlap = (mask1*mask2).sum()\n",
    "    sum = mask1.sum()+mask2.sum()\n",
    "    dice_score = 2*overlap/sum\n",
    "    return dice_score\n",
    "\n",
    "\n",
    "def compute_metrics(nii_gt_path, nii_pred_path):\n",
    "    # main function\n",
    "    gt_array, voxel_vol = nii2numpy(nii_gt_path)\n",
    "    pred_array, voxel_vol = nii2numpy(nii_pred_path)\n",
    "\n",
    "    false_neg_vol = false_neg_pix(gt_array, pred_array) *voxel_vol\n",
    "    false_pos_vol = false_pos_pix(gt_array, pred_array) *voxel_vol\n",
    "    dice_sc = dice_score(gt_array,pred_array)\n",
    "\n",
    "    return dice_sc, false_pos_vol, false_neg_vol\n"
   ]
  },
  {
   "cell_type": "code",
   "execution_count": 5,
   "id": "4fd58f5e",
   "metadata": {},
   "outputs": [
    {
     "data": {
      "text/plain": [
       "Text(0, 0.5, 'DICE')"
      ]
     },
     "execution_count": 5,
     "metadata": {},
     "output_type": "execute_result"
    },
    {
     "data": {
      "image/png": "[encoded data removed]",
      "text/plain": [
       "<Figure size 640x480 with 1 Axes>"
      ]
     },
     "metadata": {},
     "output_type": "display_data"
    }
   ],
   "source": [
    "variable = 'DICE'\n",
    "\n",
    "list_pos_dfs = [df[df['diagnosis']!='NEGATIVE'] for df in list_dfs]\n",
    "plt.scatter(list_pp_sizes,[x[variable].mean() for x in list_pos_dfs])\n",
    "#plt.scatter(list_pp_sizes,[x[variable].mean() for x in list_dfs])\n",
    "\n",
    "plt.xlabel('Minimum connected component size')\n",
    "plt.ylabel(variable)"
   ]
  },
  {
   "cell_type": "code",
   "execution_count": 24,
   "id": "997aac9e",
   "metadata": {},
   "outputs": [],
   "source": [
    "summary_df = pd.DataFrame()\n",
    "summary_df['Min_size']=list_pp_sizes\n",
    "summary_df['Mean_dice']=[x['DICE'].mean() for x in list_pos_dfs]\n",
    "summary_df['FP']=[x['challenge_FP'].mean() for x in list_dfs]\n",
    "summary_df['FN']=[x['challenge_FN'].mean() for x in list_pos_dfs]\n"
   ]
  },
  {
   "cell_type": "code",
   "execution_count": 28,
   "id": "077b405e",
   "metadata": {},
   "outputs": [],
   "source": [
    "summary_df.to_csv('false_fpfn_pp.csv')"
   ]
  },
  {
   "cell_type": "code",
   "execution_count": 27,
   "id": "dcd6f3f3-b33e-4931-885f-b4e65d25b111",
   "metadata": {},
   "outputs": [
    {
     "data": {
      "text/plain": [
       "6.220510482788086"
      ]
     },
     "execution_count": 27,
     "metadata": {},
     "output_type": "execute_result"
    }
   ],
   "source": [
    "0.5*12.441020965576172"
   ]
  },
  {
   "cell_type": "code",
   "execution_count": 46,
   "id": "4e91e365",
   "metadata": {},
   "outputs": [],
   "source": [
    "summary_df['Weighted_avg'] = -summary_df['Mean_dice']*1/2 + summary_df['FP']*1/4 + summary_df['FN']*1/4"
   ]
  },
  {
   "cell_type": "code",
   "execution_count": null,
   "id": "74de2d51",
   "metadata": {},
   "outputs": [],
   "source": [
    "plt.scatter(list_pp_sizes,[x['DICE'].mean() for x in list_dfs])"
   ]
  },
  {
   "cell_type": "code",
   "execution_count": 40,
   "id": "cb7beb61",
   "metadata": {},
   "outputs": [
    {
     "data": {
      "text/plain": [
       "<mpl_toolkits.mplot3d.art3d.Path3DCollection at 0x7f531c846a10>"
      ]
     },
     "execution_count": 40,
     "metadata": {},
     "output_type": "execute_result"
    },
    {
     "data": {
      "image/png": "[encoded data removed]",
      "text/plain": [
       "<Figure size 640x480 with 1 Axes>"
      ]
     },
     "metadata": {},
     "output_type": "display_data"
    }
   ],
   "source": [
    "from mpl_toolkits.mplot3d import Axes3D\n",
    "fig = plt.figure()\n",
    "ax = fig.add_subplot(111, projection='3d')\n",
    "ax.scatter(list_pp_sizes, [x['DICE'].mean() for x in list_dfs], [x['challenge_FN'].mean() for x in list_dfs])"
   ]
  },
  {
   "cell_type": "code",
   "execution_count": 30,
   "id": "007077c2",
   "metadata": {},
   "outputs": [
    {
     "data": {
      "text/plain": [
       "0.28428000000000003"
      ]
     },
     "execution_count": 30,
     "metadata": {},
     "output_type": "execute_result"
    }
   ],
   "source": [
    "list_pos_dfs[0]['challenge_FP'].mean()"
   ]
  },
  {
   "cell_type": "code",
   "execution_count": 6,
   "id": "50bb64ac",
   "metadata": {},
   "outputs": [
    {
     "data": {
      "text/html": [
       "<div>\n",
       "<style scoped>\n",
       "    .dataframe tbody tr th:only-of-type {\n",
       "        vertical-align: middle;\n",
       "    }\n",
       "\n",
       "    .dataframe tbody tr th {\n",
       "        vertical-align: top;\n",
       "    }\n",
       "\n",
       "    .dataframe thead th {\n",
       "        text-align: right;\n",
       "    }\n",
       "</style>\n",
       "<table border=\"1\" class=\"dataframe\">\n",
       "  <thead>\n",
       "    <tr style=\"text-align: right;\">\n",
       "      <th></th>\n",
       "      <th>Unnamed: 0</th>\n",
       "      <th>image</th>\n",
       "      <th>DICE</th>\n",
       "      <th>challenge_FP</th>\n",
       "      <th>challenge_FN</th>\n",
       "    </tr>\n",
       "  </thead>\n",
       "  <tbody>\n",
       "    <tr>\n",
       "      <th>0</th>\n",
       "      <td>0</td>\n",
       "      <td>PETCT_b1219c408b_10042002.nii.gz</td>\n",
       "      <td>0.743878</td>\n",
       "      <td>0.000</td>\n",
       "      <td>0.409</td>\n",
       "    </tr>\n",
       "    <tr>\n",
       "      <th>1</th>\n",
       "      <td>1</td>\n",
       "      <td>PETCT_ca89066e44_08112005.nii.gz</td>\n",
       "      <td>0.782298</td>\n",
       "      <td>0.000</td>\n",
       "      <td>0.002</td>\n",
       "    </tr>\n",
       "    <tr>\n",
       "      <th>2</th>\n",
       "      <td>2</td>\n",
       "      <td>PETCT_a3ce52b2a8_11152003.nii.gz</td>\n",
       "      <td>0.000000</td>\n",
       "      <td>0.203</td>\n",
       "      <td>0.000</td>\n",
       "    </tr>\n",
       "    <tr>\n",
       "      <th>3</th>\n",
       "      <td>3</td>\n",
       "      <td>PETCT_99e5728030_04182002.nii.gz</td>\n",
       "      <td>0.717888</td>\n",
       "      <td>3.024</td>\n",
       "      <td>0.297</td>\n",
       "    </tr>\n",
       "    <tr>\n",
       "      <th>4</th>\n",
       "      <td>4</td>\n",
       "      <td>PETCT_68ef307665_05162003.nii.gz</td>\n",
       "      <td>NaN</td>\n",
       "      <td>0.000</td>\n",
       "      <td>0.000</td>\n",
       "    </tr>\n",
       "    <tr>\n",
       "      <th>...</th>\n",
       "      <td>...</td>\n",
       "      <td>...</td>\n",
       "      <td>...</td>\n",
       "      <td>...</td>\n",
       "      <td>...</td>\n",
       "    </tr>\n",
       "    <tr>\n",
       "      <th>90</th>\n",
       "      <td>90</td>\n",
       "      <td>PETCT_68a7ade33c_07082001.nii.gz</td>\n",
       "      <td>0.876301</td>\n",
       "      <td>0.246</td>\n",
       "      <td>0.311</td>\n",
       "    </tr>\n",
       "    <tr>\n",
       "      <th>91</th>\n",
       "      <td>91</td>\n",
       "      <td>PETCT_a41d59682f_09292006.nii.gz</td>\n",
       "      <td>0.000000</td>\n",
       "      <td>4.154</td>\n",
       "      <td>0.000</td>\n",
       "    </tr>\n",
       "    <tr>\n",
       "      <th>92</th>\n",
       "      <td>92</td>\n",
       "      <td>PETCT_dc3437c9b9_11212002.nii.gz</td>\n",
       "      <td>NaN</td>\n",
       "      <td>0.000</td>\n",
       "      <td>0.000</td>\n",
       "    </tr>\n",
       "    <tr>\n",
       "      <th>93</th>\n",
       "      <td>93</td>\n",
       "      <td>PETCT_38733c001e_07282006.nii.gz</td>\n",
       "      <td>NaN</td>\n",
       "      <td>0.000</td>\n",
       "      <td>0.000</td>\n",
       "    </tr>\n",
       "    <tr>\n",
       "      <th>94</th>\n",
       "      <td>94</td>\n",
       "      <td>PETCT_ddca6cfba6_02272004.nii.gz</td>\n",
       "      <td>0.865188</td>\n",
       "      <td>0.000</td>\n",
       "      <td>0.006</td>\n",
       "    </tr>\n",
       "  </tbody>\n",
       "</table>\n",
       "<p>95 rows × 5 columns</p>\n",
       "</div>"
      ],
      "text/plain": [
       "    Unnamed: 0                             image      DICE  challenge_FP  \\\n",
       "0            0  PETCT_b1219c408b_10042002.nii.gz  0.743878         0.000   \n",
       "1            1  PETCT_ca89066e44_08112005.nii.gz  0.782298         0.000   \n",
       "2            2  PETCT_a3ce52b2a8_11152003.nii.gz  0.000000         0.203   \n",
       "3            3  PETCT_99e5728030_04182002.nii.gz  0.717888         3.024   \n",
       "4            4  PETCT_68ef307665_05162003.nii.gz       NaN         0.000   \n",
       "..         ...                               ...       ...           ...   \n",
       "90          90  PETCT_68a7ade33c_07082001.nii.gz  0.876301         0.246   \n",
       "91          91  PETCT_a41d59682f_09292006.nii.gz  0.000000         4.154   \n",
       "92          92  PETCT_dc3437c9b9_11212002.nii.gz       NaN         0.000   \n",
       "93          93  PETCT_38733c001e_07282006.nii.gz       NaN         0.000   \n",
       "94          94  PETCT_ddca6cfba6_02272004.nii.gz  0.865188         0.000   \n",
       "\n",
       "    challenge_FN  \n",
       "0          0.409  \n",
       "1          0.002  \n",
       "2          0.000  \n",
       "3          0.297  \n",
       "4          0.000  \n",
       "..           ...  \n",
       "90         0.311  \n",
       "91         0.000  \n",
       "92         0.000  \n",
       "93         0.000  \n",
       "94         0.006  \n",
       "\n",
       "[95 rows x 5 columns]"
      ]
     },
     "execution_count": 6,
     "metadata": {},
     "output_type": "execute_result"
    }
   ],
   "source": [
    "pp_df_10"
   ]
  },
  {
   "cell_type": "code",
   "execution_count": 1,
   "id": "bd5e1e04",
   "metadata": {},
   "outputs": [],
   "source": [
    "## NN UNet post processing"
   ]
  },
  {
   "cell_type": "code",
   "execution_count": 2,
   "id": "52de6095-ab35-4bd1-8516-34147aa7e792",
   "metadata": {},
   "outputs": [],
   "source": [
    "from batchgenerators.utilities.file_and_folder_operations import *"
   ]
  },
  {
   "cell_type": "code",
   "execution_count": 3,
   "id": "575735aa-e5ad-4c96-8f11-8a411ff557bb",
   "metadata": {},
   "outputs": [],
   "source": [
    "a = load_pickle('/gpfs3/well/papiez/users/hri611/python/nnUNet_results/Dataset219_PETCT/nnUNetTrainer_1500epochs__nnUNetPlans__3d_fullres/crossval_results_folds_0_1_2_3_4/postprocessing.pkl')\n",
    "\n"
   ]
  },
  {
   "cell_type": "code",
   "execution_count": 5,
   "id": "b5279aac-0b92-4971-92a3-438fe9361f70",
   "metadata": {},
   "outputs": [
    {
     "name": "stdout",
     "output_type": "stream",
     "text": [
      "([], [])\n"
     ]
    }
   ],
   "source": [
    "print(a)"
   ]
  },
  {
   "cell_type": "code",
   "execution_count": null,
   "id": "989a79fd-484c-4f0e-a6ac-338a3aeaeb85",
   "metadata": {},
   "outputs": [],
   "source": []
  }
 ],
 "metadata": {
  "kernelspec": {
   "display_name": "env1-skylake",
   "language": "python",
   "name": "env1-skylake"
  },
  "language_info": {
   "codemirror_mode": {
    "name": "ipython",
    "version": 3
   },
   "file_extension": ".py",
   "mimetype": "text/x-python",
   "name": "python",
   "nbconvert_exporter": "python",
   "pygments_lexer": "ipython3",
   "version": "3.10.8"
  }
 },
 "nbformat": 4,
 "nbformat_minor": 5
}
